{
 "cells": [
  {
   "cell_type": "code",
   "execution_count": 1,
   "metadata": {},
   "outputs": [
    {
     "name": "stdout",
     "output_type": "stream",
     "text": [
      "ERROR 2003 (HY000): Can't connect to MySQL server on '10.93.48.3' (110 \"Connection timed out\")\n"
     ]
    }
   ],
   "source": [
    "!mysql sakila < /home/jupyter/sakila/sakila-database.sql"
   ]
  },
  {
   "cell_type": "code",
   "execution_count": 2,
   "metadata": {},
   "outputs": [],
   "source": [
    "!mysql < ./sakila-data.sql"
   ]
  },
  {
   "cell_type": "code",
   "execution_count": 3,
   "metadata": {},
   "outputs": [
    {
     "name": "stdout",
     "output_type": "stream",
     "text": [
      "+----------+\n",
      "| count(*) |\n",
      "+----------+\n",
      "|      200 |\n",
      "+----------+\n"
     ]
    }
   ],
   "source": [
    "!mysql sakila -e \"select count(*) from actor\""
   ]
  },
  {
   "cell_type": "code",
   "execution_count": 4,
   "metadata": {},
   "outputs": [
    {
     "name": "stdout",
     "output_type": "stream",
     "text": [
      "+----------+\n",
      "| count(*) |\n",
      "+----------+\n",
      "|      200 |\n",
      "+----------+\n"
     ]
    }
   ],
   "source": [
    "!mysql sakila -e \"select count(*) from actor_info\""
   ]
  },
  {
   "cell_type": "code",
   "execution_count": 5,
   "metadata": {},
   "outputs": [
    {
     "name": "stdout",
     "output_type": "stream",
     "text": [
      "+----------+\n",
      "| count(*) |\n",
      "+----------+\n",
      "|      603 |\n",
      "+----------+\n"
     ]
    }
   ],
   "source": [
    "!mysql sakila -e \"select count(*) from address\""
   ]
  },
  {
   "cell_type": "code",
   "execution_count": 6,
   "metadata": {},
   "outputs": [
    {
     "name": "stdout",
     "output_type": "stream",
     "text": [
      "+----------+\n",
      "| count(*) |\n",
      "+----------+\n",
      "|      603 |\n",
      "+----------+\n"
     ]
    }
   ],
   "source": [
    "!mysql sakila -e \"select count(*) from address\""
   ]
  },
  {
   "cell_type": "code",
   "execution_count": 7,
   "metadata": {},
   "outputs": [
    {
     "name": "stdout",
     "output_type": "stream",
     "text": [
      "+----------+\n",
      "| count(*) |\n",
      "+----------+\n",
      "|       16 |\n",
      "+----------+\n"
     ]
    }
   ],
   "source": [
    "!mysql sakila -e \"select count(*) from category\""
   ]
  },
  {
   "cell_type": "code",
   "execution_count": 8,
   "metadata": {},
   "outputs": [
    {
     "name": "stdout",
     "output_type": "stream",
     "text": [
      "+----------+\n",
      "| count(*) |\n",
      "+----------+\n",
      "|      600 |\n",
      "+----------+\n"
     ]
    }
   ],
   "source": [
    "!mysql sakila -e \"select count(*) from city\""
   ]
  },
  {
   "cell_type": "code",
   "execution_count": 9,
   "metadata": {},
   "outputs": [
    {
     "name": "stdout",
     "output_type": "stream",
     "text": [
      "+----------+\n",
      "| count(*) |\n",
      "+----------+\n",
      "|      109 |\n",
      "+----------+\n"
     ]
    }
   ],
   "source": [
    "!mysql sakila -e \"select count(*) from country\""
   ]
  },
  {
   "cell_type": "code",
   "execution_count": 10,
   "metadata": {},
   "outputs": [
    {
     "name": "stdout",
     "output_type": "stream",
     "text": [
      "+----------+\n",
      "| count(*) |\n",
      "+----------+\n",
      "|      599 |\n",
      "+----------+\n"
     ]
    }
   ],
   "source": [
    "!mysql sakila -e \"select count(*) from customer\""
   ]
  },
  {
   "cell_type": "code",
   "execution_count": 11,
   "metadata": {},
   "outputs": [
    {
     "name": "stdout",
     "output_type": "stream",
     "text": [
      "+----------+\n",
      "| count(*) |\n",
      "+----------+\n",
      "|      599 |\n",
      "+----------+\n"
     ]
    }
   ],
   "source": [
    "!mysql sakila -e \"select count(*) from customer_list\""
   ]
  },
  {
   "cell_type": "code",
   "execution_count": 12,
   "metadata": {},
   "outputs": [
    {
     "name": "stdout",
     "output_type": "stream",
     "text": [
      "+----------+\n",
      "| count(*) |\n",
      "+----------+\n",
      "|     1000 |\n",
      "+----------+\n"
     ]
    }
   ],
   "source": [
    "!mysql sakila -e \"select count(*) from film\""
   ]
  },
  {
   "cell_type": "code",
   "execution_count": 13,
   "metadata": {},
   "outputs": [
    {
     "name": "stdout",
     "output_type": "stream",
     "text": [
      "+----------+\n",
      "| count(*) |\n",
      "+----------+\n",
      "|     5462 |\n",
      "+----------+\n"
     ]
    }
   ],
   "source": [
    "!mysql sakila -e \"select count(*) from film_actor\""
   ]
  },
  {
   "cell_type": "code",
   "execution_count": 14,
   "metadata": {},
   "outputs": [
    {
     "name": "stdout",
     "output_type": "stream",
     "text": [
      "+----------+\n",
      "| count(*) |\n",
      "+----------+\n",
      "|     1000 |\n",
      "+----------+\n"
     ]
    }
   ],
   "source": [
    "!mysql sakila -e \"select count(*) from film_category\""
   ]
  },
  {
   "cell_type": "code",
   "execution_count": 15,
   "metadata": {},
   "outputs": [
    {
     "name": "stdout",
     "output_type": "stream",
     "text": [
      "+----------+\n",
      "| count(*) |\n",
      "+----------+\n",
      "|      997 |\n",
      "+----------+\n"
     ]
    }
   ],
   "source": [
    "!mysql sakila -e \"select count(*) from film_list\""
   ]
  },
  {
   "cell_type": "code",
   "execution_count": 16,
   "metadata": {},
   "outputs": [
    {
     "name": "stdout",
     "output_type": "stream",
     "text": [
      "+----------+\n",
      "| count(*) |\n",
      "+----------+\n",
      "|     1000 |\n",
      "+----------+\n"
     ]
    }
   ],
   "source": [
    "!mysql sakila -e \"select count(*) from film_text\""
   ]
  },
  {
   "cell_type": "code",
   "execution_count": 17,
   "metadata": {},
   "outputs": [
    {
     "name": "stdout",
     "output_type": "stream",
     "text": [
      "+----------+\n",
      "| count(*) |\n",
      "+----------+\n",
      "|     4581 |\n",
      "+----------+\n"
     ]
    }
   ],
   "source": [
    "!mysql sakila -e \"select count(*) from inventory\""
   ]
  },
  {
   "cell_type": "code",
   "execution_count": 18,
   "metadata": {},
   "outputs": [
    {
     "name": "stdout",
     "output_type": "stream",
     "text": [
      "+----------+\n",
      "| count(*) |\n",
      "+----------+\n",
      "|        6 |\n",
      "+----------+\n"
     ]
    }
   ],
   "source": [
    "!mysql sakila -e \"select count(*) from language\""
   ]
  },
  {
   "cell_type": "code",
   "execution_count": 19,
   "metadata": {},
   "outputs": [
    {
     "name": "stdout",
     "output_type": "stream",
     "text": [
      "+----------+\n",
      "| count(*) |\n",
      "+----------+\n",
      "|      997 |\n",
      "+----------+\n"
     ]
    }
   ],
   "source": [
    "!mysql sakila -e \"select count(*) from nicer_but_slower_film_list\""
   ]
  },
  {
   "cell_type": "code",
   "execution_count": 20,
   "metadata": {},
   "outputs": [
    {
     "name": "stdout",
     "output_type": "stream",
     "text": [
      "+----------+\n",
      "| count(*) |\n",
      "+----------+\n",
      "|    16049 |\n",
      "+----------+\n"
     ]
    }
   ],
   "source": [
    "!mysql sakila -e \"select count(*) from payment\""
   ]
  },
  {
   "cell_type": "code",
   "execution_count": 21,
   "metadata": {},
   "outputs": [
    {
     "name": "stdout",
     "output_type": "stream",
     "text": [
      "+----------+\n",
      "| count(*) |\n",
      "+----------+\n",
      "|    16044 |\n",
      "+----------+\n"
     ]
    }
   ],
   "source": [
    "!mysql sakila -e \"select count(*) from rental\""
   ]
  },
  {
   "cell_type": "code",
   "execution_count": 22,
   "metadata": {},
   "outputs": [
    {
     "name": "stdout",
     "output_type": "stream",
     "text": [
      "+----------+\n",
      "| count(*) |\n",
      "+----------+\n",
      "|       16 |\n",
      "+----------+\n"
     ]
    }
   ],
   "source": [
    "!mysql sakila -e \"select count(*) from sales_by_film_category\""
   ]
  },
  {
   "cell_type": "code",
   "execution_count": 23,
   "metadata": {},
   "outputs": [
    {
     "name": "stdout",
     "output_type": "stream",
     "text": [
      "+----------+\n",
      "| count(*) |\n",
      "+----------+\n",
      "|        2 |\n",
      "+----------+\n"
     ]
    }
   ],
   "source": [
    "!mysql sakila -e \"select count(*) from sales_by_store\""
   ]
  },
  {
   "cell_type": "code",
   "execution_count": 24,
   "metadata": {},
   "outputs": [
    {
     "name": "stdout",
     "output_type": "stream",
     "text": [
      "+----------+\n",
      "| count(*) |\n",
      "+----------+\n",
      "|        2 |\n",
      "+----------+\n"
     ]
    }
   ],
   "source": [
    "!mysql sakila -e \"select count(*) from staff\""
   ]
  },
  {
   "cell_type": "code",
   "execution_count": 25,
   "metadata": {},
   "outputs": [
    {
     "name": "stdout",
     "output_type": "stream",
     "text": [
      "+----------+\n",
      "| count(*) |\n",
      "+----------+\n",
      "|        2 |\n",
      "+----------+\n"
     ]
    }
   ],
   "source": [
    "!mysql sakila -e \"select count(*) from staff_list\""
   ]
  },
  {
   "cell_type": "code",
   "execution_count": 26,
   "metadata": {},
   "outputs": [
    {
     "name": "stdout",
     "output_type": "stream",
     "text": [
      "+----------+\n",
      "| count(*) |\n",
      "+----------+\n",
      "|        2 |\n",
      "+----------+\n"
     ]
    }
   ],
   "source": [
    "!mysql sakila -e \"select count(*) from store\""
   ]
  },
  {
   "cell_type": "code",
   "execution_count": 27,
   "metadata": {},
   "outputs": [
    {
     "name": "stdout",
     "output_type": "stream",
     "text": [
      "+----------+------------+-----------+---------------------+\n",
      "| actor_id | first_name | last_name | last_update         |\n",
      "+----------+------------+-----------+---------------------+\n",
      "|        1 | PENELOPE   | GUINESS   | 2006-02-15 04:34:33 |\n",
      "|        2 | NICK       | WAHLBERG  | 2006-02-15 04:34:33 |\n",
      "|        3 | ED         | CHASE     | 2006-02-15 04:34:33 |\n",
      "+----------+------------+-----------+---------------------+\n"
     ]
    }
   ],
   "source": [
    "!mysql sakila -e \"select * from actor limit 3\""
   ]
  },
  {
   "cell_type": "code",
   "execution_count": 28,
   "metadata": {},
   "outputs": [
    {
     "name": "stdout",
     "output_type": "stream",
     "text": [
      "+----------+------------+-----------+------------------------------------------------------------------------------------------------------------------------------------------------------------------------------------------------------------------------------------------------------------------------------------------------------------------------------------------------------------------------------------------------------------------------------------------------------------------------------------------------------------------------------------+\n",
      "| actor_id | first_name | last_name | film_info                                                                                                                                                                                                                                                                                                                                                                                                                                                                                                                          |\n",
      "+----------+------------+-----------+------------------------------------------------------------------------------------------------------------------------------------------------------------------------------------------------------------------------------------------------------------------------------------------------------------------------------------------------------------------------------------------------------------------------------------------------------------------------------------------------------------------------------------+\n",
      "|        1 | PENELOPE   | GUINESS   | Animation: ANACONDA CONFESSIONS; Children: LANGUAGE COWBOY; Classics: COLOR PHILADELPHIA, WESTWARD SEABISCUIT; Comedy: VERTIGO NORTHWEST; Documentary: ACADEMY DINOSAUR; Family: KING EVOLUTION, SPLASH GUMP; Foreign: MULHOLLAND BEAST; Games: BULWORTH COMMANDMENTS, HUMAN GRAFFITI; Horror: ELEPHANT TROJAN, LADY STAGE, RULES HUMAN; Music: WIZARD COLDBLOODED; New: ANGELS LIFE, OKLAHOMA JUMANJI; Sci-Fi: CHEAPER CLYDE; Sports: GLEAMING JAWBREAKER                                                                         |\n",
      "|        2 | NICK       | WAHLBERG  | Action: BULL SHAWSHANK; Animation: FIGHT JAWBREAKER; Children: JERSEY SASSY; Classics: DRACULA CRYSTAL, GILBERT PELICAN; Comedy: MALLRATS UNITED, RUSHMORE MERMAID; Documentary: ADAPTATION HOLES; Drama: WARDROBE PHANTOM; Family: APACHE DIVINE, CHISUM BEHAVIOR, INDIAN LOVE, MAGUIRE APACHE; Foreign: BABY HALL, HAPPINESS UNITED; Games: ROOF CHAMPION; Music: LUCKY FLYING; New: DESTINY SATURDAY, FLASH WARS, JEKYLL FROGMEN, MASK PEACH; Sci-Fi: CHAINSAW UPTOWN, GOODFELLAS SALUTE; Travel: LIAISONS SWEET, SMILE EARRING |\n",
      "|        3 | ED         | CHASE     | Action: CADDYSHACK JEDI, FORREST SONS; Classics: FROST HEAD, JEEPERS WEDDING; Documentary: ARMY FLINTSTONES, FRENCH HOLIDAY, HALLOWEEN NUTS, HUNTER ALTER, WEDDING APOLLO, YOUNG LANGUAGE; Drama: LUCK OPUS, NECKLACE OUTBREAK, SPICE SORORITY; Foreign: COWBOY DOOM, WHALE BIKINI; Music: ALONE TRIP; New: EVE RESURRECTION, PLATOON INSTINCT; Sci-Fi: WEEKEND PERSONAL; Sports: ARTIST COLDBLOODED, IMAGE PRINCESS; Travel: BOONDOCK BALLROOM                                                                                    |\n",
      "+----------+------------+-----------+------------------------------------------------------------------------------------------------------------------------------------------------------------------------------------------------------------------------------------------------------------------------------------------------------------------------------------------------------------------------------------------------------------------------------------------------------------------------------------------------------------------------------------+\n"
     ]
    }
   ],
   "source": [
    "!mysql sakila -e \"select * from actor_info limit 3\""
   ]
  },
  {
   "cell_type": "code",
   "execution_count": 29,
   "metadata": {},
   "outputs": [
    {
     "name": "stdout",
     "output_type": "stream",
     "text": [
      "+------------+--------------------+----------+----------+---------+-------------+-------------+---------------------------+---------------------+\n",
      "| address_id | address            | address2 | district | city_id | postal_code | phone       | location                  | last_update         |\n",
      "+------------+--------------------+----------+----------+---------+-------------+-------------+---------------------------+---------------------+\n",
      "|          1 | 47 MySakila Drive  | NULL     | Alberta  |     300 |             |             |     \u0001\u0001   >\n",
      "2]c4\\�v\u001fۍ��H@     | 2014-09-25 22:30:27 |\n",
      "|          2 | 28 MySQL Boulevard | NULL     | QLD      |     576 |             |             |     \u0001\u0001   �\u0010�߁$c@N��P\"�;�        | 2014-09-25 22:30:09 |\n",
      "|          3 | 23 Workhaven Lane  | NULL     | Alberta  |     300 |             | 14033335568 |     \u0001\u0001   ��\u0019hc4\\�\u001d",
      "�~p��H@       | 2014-09-25 22:30:27 |\n",
      "+------------+--------------------+----------+----------+---------+-------------+-------------+---------------------------+---------------------+\n"
     ]
    }
   ],
   "source": [
    "!mysql sakila -e \"select * from address limit 3\""
   ]
  },
  {
   "cell_type": "code",
   "execution_count": 30,
   "metadata": {},
   "outputs": [
    {
     "name": "stdout",
     "output_type": "stream",
     "text": [
      "+-------------+-----------+---------------------+\n",
      "| category_id | name      | last_update         |\n",
      "+-------------+-----------+---------------------+\n",
      "|           1 | Action    | 2006-02-15 04:46:27 |\n",
      "|           2 | Animation | 2006-02-15 04:46:27 |\n",
      "|           3 | Children  | 2006-02-15 04:46:27 |\n",
      "+-------------+-----------+---------------------+\n"
     ]
    }
   ],
   "source": [
    "!mysql sakila -e \"select * from category limit 3\""
   ]
  },
  {
   "cell_type": "code",
   "execution_count": 31,
   "metadata": {},
   "outputs": [
    {
     "name": "stdout",
     "output_type": "stream",
     "text": [
      "+---------+--------------------+------------+---------------------+\n",
      "| city_id | city               | country_id | last_update         |\n",
      "+---------+--------------------+------------+---------------------+\n",
      "|       1 | A Corua (La Corua) |         87 | 2006-02-15 04:45:25 |\n",
      "|       2 | Abha               |         82 | 2006-02-15 04:45:25 |\n",
      "|       3 | Abu Dhabi          |        101 | 2006-02-15 04:45:25 |\n",
      "+---------+--------------------+------------+---------------------+\n"
     ]
    }
   ],
   "source": [
    "!mysql sakila -e \"select * from city limit 3\""
   ]
  },
  {
   "cell_type": "code",
   "execution_count": 32,
   "metadata": {},
   "outputs": [
    {
     "name": "stdout",
     "output_type": "stream",
     "text": [
      "+------------+----------------+---------------------+\n",
      "| country_id | country        | last_update         |\n",
      "+------------+----------------+---------------------+\n",
      "|          1 | Afghanistan    | 2006-02-15 04:44:00 |\n",
      "|          2 | Algeria        | 2006-02-15 04:44:00 |\n",
      "|          3 | American Samoa | 2006-02-15 04:44:00 |\n",
      "+------------+----------------+---------------------+\n"
     ]
    }
   ],
   "source": [
    "!mysql sakila -e \"select * from country limit 3\""
   ]
  },
  {
   "cell_type": "code",
   "execution_count": 33,
   "metadata": {},
   "outputs": [
    {
     "name": "stdout",
     "output_type": "stream",
     "text": [
      "+-------------+----------+------------+-----------+-------------------------------------+------------+--------+---------------------+---------------------+\n",
      "| customer_id | store_id | first_name | last_name | email                               | address_id | active | create_date         | last_update         |\n",
      "+-------------+----------+------------+-----------+-------------------------------------+------------+--------+---------------------+---------------------+\n",
      "|           1 |        1 | MARY       | SMITH     | MARY.SMITH@sakilacustomer.org       |          5 |      1 | 2006-02-14 22:04:36 | 2006-02-15 04:57:20 |\n",
      "|           2 |        1 | PATRICIA   | JOHNSON   | PATRICIA.JOHNSON@sakilacustomer.org |          6 |      1 | 2006-02-14 22:04:36 | 2006-02-15 04:57:20 |\n",
      "|           3 |        1 | LINDA      | WILLIAMS  | LINDA.WILLIAMS@sakilacustomer.org   |          7 |      1 | 2006-02-14 22:04:36 | 2006-02-15 04:57:20 |\n",
      "+-------------+----------+------------+-----------+-------------------------------------+------------+--------+---------------------+---------------------+\n"
     ]
    }
   ],
   "source": [
    "!mysql sakila -e \"select * from customer limit 3\""
   ]
  },
  {
   "cell_type": "code",
   "execution_count": 34,
   "metadata": {},
   "outputs": [
    {
     "name": "stdout",
     "output_type": "stream",
     "text": [
      "+-----+----------------+-------------------------+----------+--------------+-------+-------------+--------+-----+\n",
      "| ID  | name           | address                 | zip code | phone        | city  | country     | notes  | SID |\n",
      "+-----+----------------+-------------------------+----------+--------------+-------+-------------+--------+-----+\n",
      "| 218 | VERA MCCOY     | 1168 Najafabad Parkway  | 40301    | 886649065861 | Kabul | Afghanistan | active |   1 |\n",
      "| 441 | MARIO CHEATHAM | 1924 Shimonoseki Drive  | 52625    | 406784385440 | Batna | Algeria     | active |   1 |\n",
      "|  69 | JUDY GRAY      | 1031 Daugavpils Parkway | 59025    | 107137400143 | Bchar | Algeria     | active |   2 |\n",
      "+-----+----------------+-------------------------+----------+--------------+-------+-------------+--------+-----+\n"
     ]
    }
   ],
   "source": [
    "!mysql sakila -e \"select * from customer_list limit 3\""
   ]
  },
  {
   "cell_type": "code",
   "execution_count": 35,
   "metadata": {},
   "outputs": [
    {
     "name": "stdout",
     "output_type": "stream",
     "text": [
      "+---------+------------------+------------------------------------------------------------------------------------------------------+--------------+-------------+----------------------+-----------------+-------------+--------+------------------+--------+----------------------------------+---------------------+\n",
      "| film_id | title            | description                                                                                          | release_year | language_id | original_language_id | rental_duration | rental_rate | length | replacement_cost | rating | special_features                 | last_update         |\n",
      "+---------+------------------+------------------------------------------------------------------------------------------------------+--------------+-------------+----------------------+-----------------+-------------+--------+------------------+--------+----------------------------------+---------------------+\n",
      "|       1 | ACADEMY DINOSAUR | A Epic Drama of a Feminist And a Mad Scientist who must Battle a Teacher in The Canadian Rockies     |         2006 |           1 |                 NULL |               6 |        0.99 |     86 |            20.99 | PG     | Deleted Scenes,Behind the Scenes | 2006-02-15 05:03:42 |\n",
      "|       2 | ACE GOLDFINGER   | A Astounding Epistle of a Database Administrator And a Explorer who must Find a Car in Ancient China |         2006 |           1 |                 NULL |               3 |        4.99 |     48 |            12.99 | G      | Trailers,Deleted Scenes          | 2006-02-15 05:03:42 |\n",
      "|       3 | ADAPTATION HOLES | A Astounding Reflection of a Lumberjack And a Car who must Sink a Lumberjack in A Baloon Factory     |         2006 |           1 |                 NULL |               7 |        2.99 |     50 |            18.99 | NC-17  | Trailers,Deleted Scenes          | 2006-02-15 05:03:42 |\n",
      "+---------+------------------+------------------------------------------------------------------------------------------------------+--------------+-------------+----------------------+-----------------+-------------+--------+------------------+--------+----------------------------------+---------------------+\n"
     ]
    }
   ],
   "source": [
    "!mysql sakila -e \"select * from film limit 3\""
   ]
  },
  {
   "cell_type": "code",
   "execution_count": 36,
   "metadata": {},
   "outputs": [
    {
     "name": "stdout",
     "output_type": "stream",
     "text": [
      "+----------+---------+---------------------+\n",
      "| actor_id | film_id | last_update         |\n",
      "+----------+---------+---------------------+\n",
      "|        1 |       1 | 2006-02-15 05:05:03 |\n",
      "|        1 |      23 | 2006-02-15 05:05:03 |\n",
      "|        1 |      25 | 2006-02-15 05:05:03 |\n",
      "+----------+---------+---------------------+\n"
     ]
    }
   ],
   "source": [
    "!mysql sakila -e \"select * from film_actor limit 3\""
   ]
  },
  {
   "cell_type": "code",
   "execution_count": 37,
   "metadata": {},
   "outputs": [
    {
     "name": "stdout",
     "output_type": "stream",
     "text": [
      "+---------+-------------+---------------------+\n",
      "| film_id | category_id | last_update         |\n",
      "+---------+-------------+---------------------+\n",
      "|       1 |           6 | 2006-02-15 05:07:09 |\n",
      "|       2 |          11 | 2006-02-15 05:07:09 |\n",
      "|       3 |           6 | 2006-02-15 05:07:09 |\n",
      "+---------+-------------+---------------------+\n"
     ]
    }
   ],
   "source": [
    "!mysql sakila -e \"select * from film_category limit 3\""
   ]
  },
  {
   "cell_type": "code",
   "execution_count": 38,
   "metadata": {},
   "outputs": [
    {
     "name": "stdout",
     "output_type": "stream",
     "text": [
      "+------+------------------+------------------------------------------------------------------------------------------------------+-------------+-------+--------+--------+------------------------------------------------------------------------------------------------------------------------------------------------+\n",
      "| FID  | title            | description                                                                                          | category    | price | length | rating | actors                                                                                                                                         |\n",
      "+------+------------------+------------------------------------------------------------------------------------------------------+-------------+-------+--------+--------+------------------------------------------------------------------------------------------------------------------------------------------------+\n",
      "|    1 | ACADEMY DINOSAUR | A Epic Drama of a Feminist And a Mad Scientist who must Battle a Teacher in The Canadian Rockies     | Documentary |  0.99 |     86 | PG     | PENELOPE GUINESS, CHRISTIAN GABLE, LUCILLE TRACY, SANDRA PECK, JOHNNY CAGE, MENA TEMPLE, WARREN NOLTE, OPRAH KILMER, ROCK DUKAKIS, MARY KEITEL |\n",
      "|    2 | ACE GOLDFINGER   | A Astounding Epistle of a Database Administrator And a Explorer who must Find a Car in Ancient China | Horror      |  4.99 |     48 | G      | BOB FAWCETT, MINNIE ZELLWEGER, SEAN GUINESS, CHRIS DEPP                                                                                        |\n",
      "|    3 | ADAPTATION HOLES | A Astounding Reflection of a Lumberjack And a Car who must Sink a Lumberjack in A Baloon Factory     | Documentary |  2.99 |     50 | NC-17  | NICK WAHLBERG, BOB FAWCETT, CAMERON STREEP, RAY JOHANSSON, JULIANNE DENCH                                                                      |\n",
      "+------+------------------+------------------------------------------------------------------------------------------------------+-------------+-------+--------+--------+------------------------------------------------------------------------------------------------------------------------------------------------+\n"
     ]
    }
   ],
   "source": [
    "!mysql sakila -e \"select * from film_list limit 3\""
   ]
  },
  {
   "cell_type": "code",
   "execution_count": 39,
   "metadata": {},
   "outputs": [
    {
     "name": "stdout",
     "output_type": "stream",
     "text": [
      "+---------+------------------+------------------------------------------------------------------------------------------------------+\n",
      "| film_id | title            | description                                                                                          |\n",
      "+---------+------------------+------------------------------------------------------------------------------------------------------+\n",
      "|       1 | ACADEMY DINOSAUR | A Epic Drama of a Feminist And a Mad Scientist who must Battle a Teacher in The Canadian Rockies     |\n",
      "|       2 | ACE GOLDFINGER   | A Astounding Epistle of a Database Administrator And a Explorer who must Find a Car in Ancient China |\n",
      "|       3 | ADAPTATION HOLES | A Astounding Reflection of a Lumberjack And a Car who must Sink a Lumberjack in A Baloon Factory     |\n",
      "+---------+------------------+------------------------------------------------------------------------------------------------------+\n"
     ]
    }
   ],
   "source": [
    "!mysql sakila -e \"select * from film_text limit 3\""
   ]
  },
  {
   "cell_type": "code",
   "execution_count": 40,
   "metadata": {},
   "outputs": [
    {
     "name": "stdout",
     "output_type": "stream",
     "text": [
      "+--------------+---------+----------+---------------------+\n",
      "| inventory_id | film_id | store_id | last_update         |\n",
      "+--------------+---------+----------+---------------------+\n",
      "|            1 |       1 |        1 | 2006-02-15 05:09:17 |\n",
      "|            2 |       1 |        1 | 2006-02-15 05:09:17 |\n",
      "|            3 |       1 |        1 | 2006-02-15 05:09:17 |\n",
      "+--------------+---------+----------+---------------------+\n"
     ]
    }
   ],
   "source": [
    "!mysql sakila -e \"select * from inventory limit 3\""
   ]
  },
  {
   "cell_type": "code",
   "execution_count": 41,
   "metadata": {},
   "outputs": [
    {
     "name": "stdout",
     "output_type": "stream",
     "text": [
      "+-------------+----------+---------------------+\n",
      "| language_id | name     | last_update         |\n",
      "+-------------+----------+---------------------+\n",
      "|           1 | English  | 2006-02-15 05:02:19 |\n",
      "|           2 | Italian  | 2006-02-15 05:02:19 |\n",
      "|           3 | Japanese | 2006-02-15 05:02:19 |\n",
      "+-------------+----------+---------------------+\n"
     ]
    }
   ],
   "source": [
    "!mysql sakila -e \"select * from language limit 3\""
   ]
  },
  {
   "cell_type": "code",
   "execution_count": 42,
   "metadata": {},
   "outputs": [
    {
     "name": "stdout",
     "output_type": "stream",
     "text": [
      "+------+------------------+------------------------------------------------------------------------------------------------------+-------------+-------+--------+--------+------------------------------------------------------------------------------------------------------------------------------------------------+\n",
      "| FID  | title            | description                                                                                          | category    | price | length | rating | actors                                                                                                                                         |\n",
      "+------+------------------+------------------------------------------------------------------------------------------------------+-------------+-------+--------+--------+------------------------------------------------------------------------------------------------------------------------------------------------+\n",
      "|    1 | ACADEMY DINOSAUR | A Epic Drama of a Feminist And a Mad Scientist who must Battle a Teacher in The Canadian Rockies     | Documentary |  0.99 |     86 | PG     | Penelope Guiness, Christian Gable, Lucille Tracy, Sandra Peck, Johnny Cage, Mena Temple, Warren Nolte, Oprah Kilmer, Rock Dukakis, Mary Keitel |\n",
      "|    2 | ACE GOLDFINGER   | A Astounding Epistle of a Database Administrator And a Explorer who must Find a Car in Ancient China | Horror      |  4.99 |     48 | G      | Bob Fawcett, Minnie Zellweger, Sean Guiness, Chris Depp                                                                                        |\n",
      "|    3 | ADAPTATION HOLES | A Astounding Reflection of a Lumberjack And a Car who must Sink a Lumberjack in A Baloon Factory     | Documentary |  2.99 |     50 | NC-17  | Nick Wahlberg, Bob Fawcett, Cameron Streep, Ray Johansson, Julianne Dench                                                                      |\n",
      "+------+------------------+------------------------------------------------------------------------------------------------------+-------------+-------+--------+--------+------------------------------------------------------------------------------------------------------------------------------------------------+\n"
     ]
    }
   ],
   "source": [
    "!mysql sakila -e \"select * from nicer_but_slower_film_list limit 3\""
   ]
  },
  {
   "cell_type": "code",
   "execution_count": 43,
   "metadata": {},
   "outputs": [
    {
     "name": "stdout",
     "output_type": "stream",
     "text": [
      "+------------+-------------+----------+-----------+--------+---------------------+---------------------+\n",
      "| payment_id | customer_id | staff_id | rental_id | amount | payment_date        | last_update         |\n",
      "+------------+-------------+----------+-----------+--------+---------------------+---------------------+\n",
      "|          1 |           1 |        1 |        76 |   2.99 | 2005-05-25 11:30:37 | 2006-02-15 22:12:30 |\n",
      "|          2 |           1 |        1 |       573 |   0.99 | 2005-05-28 10:35:23 | 2006-02-15 22:12:30 |\n",
      "|          3 |           1 |        1 |      1185 |   5.99 | 2005-06-15 00:54:12 | 2006-02-15 22:12:30 |\n",
      "+------------+-------------+----------+-----------+--------+---------------------+---------------------+\n"
     ]
    }
   ],
   "source": [
    "!mysql sakila -e \"select * from payment limit 3\""
   ]
  },
  {
   "cell_type": "code",
   "execution_count": 44,
   "metadata": {},
   "outputs": [
    {
     "name": "stdout",
     "output_type": "stream",
     "text": [
      "+-----------+---------------------+--------------+-------------+---------------------+----------+---------------------+\n",
      "| rental_id | rental_date         | inventory_id | customer_id | return_date         | staff_id | last_update         |\n",
      "+-----------+---------------------+--------------+-------------+---------------------+----------+---------------------+\n",
      "|         1 | 2005-05-24 22:53:30 |          367 |         130 | 2005-05-26 22:04:30 |        1 | 2006-02-15 21:30:53 |\n",
      "|         2 | 2005-05-24 22:54:33 |         1525 |         459 | 2005-05-28 19:40:33 |        1 | 2006-02-15 21:30:53 |\n",
      "|         3 | 2005-05-24 23:03:39 |         1711 |         408 | 2005-06-01 22:12:39 |        1 | 2006-02-15 21:30:53 |\n",
      "+-----------+---------------------+--------------+-------------+---------------------+----------+---------------------+\n"
     ]
    }
   ],
   "source": [
    "!mysql sakila -e \"select * from rental limit 3\""
   ]
  },
  {
   "cell_type": "code",
   "execution_count": 45,
   "metadata": {},
   "outputs": [
    {
     "name": "stdout",
     "output_type": "stream",
     "text": [
      "+-----------+-------------+\n",
      "| category  | total_sales |\n",
      "+-----------+-------------+\n",
      "| Sports    |     5314.21 |\n",
      "| Sci-Fi    |     4756.98 |\n",
      "| Animation |     4656.30 |\n",
      "+-----------+-------------+\n"
     ]
    }
   ],
   "source": [
    "!mysql sakila -e \"select * from sales_by_film_category limit 3\""
   ]
  },
  {
   "cell_type": "code",
   "execution_count": 46,
   "metadata": {},
   "outputs": [
    {
     "name": "stdout",
     "output_type": "stream",
     "text": [
      "+---------------------+--------------+-------------+\n",
      "| store               | manager      | total_sales |\n",
      "+---------------------+--------------+-------------+\n",
      "| Woodridge,Australia | Jon Stephens |    33726.77 |\n",
      "| Lethbridge,Canada   | Mike Hillyer |    33679.79 |\n",
      "+---------------------+--------------+-------------+\n"
     ]
    }
   ],
   "source": [
    "!mysql sakila -e \"select * from sales_by_store limit 3\""
   ]
  },
  {
   "cell_type": "code",
   "execution_count": 47,
   "metadata": {},
   "outputs": [
    {
     "name": "stdout",
     "output_type": "stream",
     "text": [
      "+----------+------------+-----------+------------+-------------------------------------------------------------------------------------------------------------------------------------------------------------------------------------------------------------------------------------------------------------------------------------------------------------------------------------------------------------------------------------------------------------------------------------------------------------------------------------------------------------------------------------------------------------------------------------------------------------------------------------------------------------------------------------------------------------------------------------------------------------------------------------------------------------------------------------------------------------------------------------------------------------------------------------------------------------------------------------------------------------------------------------------------------------------------------------------------------------------------------------------------------------------------------------------------------------------------------------------------------------------------------------------------------------------------------------------------------------------------------------------------------------------------------------------------------------------------------------------------------------------------------------------------------------------------------------------------------------------------------------------------------------------------------------------------------------------------------------------------------------------------------------------------------------------------------------------------------------------------------------------------------------------------------------------------------------------------------------------------------------------------------------------------------------------------------------------------------------------------------------------------------------------------------------------------------------------------------------------------------------------------------------------------------------------------------------------------------------------------------------------------------------------------------------------------------------------------------------------------------------------------------------------------------------------------------------------------------------------------------------------------------------------------------------------------------------------------------------------------------------------------------------------------------------------------------------------------------------------------------------------------------------------------------------------------------------------------------------------------------------------------------------------------------------------------------------------------------------------------------------------------------------------------------------------------------------------------------------------------------------------------------------------------------------------------------------------------------------------------------------------------------------------------------------------------------------------------------------------------------------------------------------------------------------------------------------------------------------------------------------------------------------------------------------------------------------------------------------------------------------------------------------------------------------------------------------------------------------------------------------------------------------------------------------------------------------------------------------------------------------------------------------------------------------------------------------------------------------------------------------------------------------------------------------------------------------------------------------------------------------------------------------------------------------------------------------------------------------------------------------------------------------------------------------------------------------------------------------------------------------------------------------------------------------------------------------------------------------------------------------------------------------------------------------------------------------------------------------------------------------------------------------------------------------------------------------------------------------------------------------------------------------------------------------------------------------------------------------------------------------------------------------------------------------------------------------------------------------------------------------------------------------------------------------------------------------------------------------------------------------------------------------------------------------------------------------------------------------------------------------------------------------------------------------------------------------------------------------------------------------------------------------------------------------------------------------------------------------------------------------------------------------------------------------------------------------------------------------------------------------------------------------------------------------------------------------------------------------------------------------------------------------------------------------------------------------------------------------------------------------------------------------------------------------------------------------------------------------------------------------------------------------------------------------------------------------------------------------------------------------------------------------------------------------------------------------------------------------------------------------------------------------------------------------------------------------------------------------------------------------------------------------------------------------------------------------------------------------------------------------------------------------------------------------------------------------------------------------------------------------------------------------------------------------------------------------------------------------------------------------------------------------------------------------------------------------------------------------------------------------------------------------------------------------------------------------------------------------------------------------------------------------------------------------------------------------------------------------------------------------------------------------------------------------------------------------------------------------------------------------------------------------------------------------------------------------------------------------------------------------------------------------------------------------------------------------------------------------------------------------------------------------------------------------------------------------------------------------------------------------------------------------------------------------------------------------------------------------------------------------------------------------------------------------------------------------------------------------------------------------------------------------------------------------------------------------------------------------------------------------------------------------------------------------------------------------------------------------------------------------------------------------------------------------------------------------------------------------------------------------------------------------------------------------------------------------------------------------------------------------------------------------------------------------------------------------------------------------------------------------------------------------------------------------------------------------------------------------------------------------------------------------------------------------------------------------------------------------------------------------------------------------------------------------------------------------------------------------------------------------------------------------------------------------------------------------------------------------------------------------------------------------------------------------------------------------------------------------------------------------------------------------------------------------------------------------------------------------------------------------------------------------------------------------------------------------------------------------------------------------------------------------------------------------------------------------------------------------------------------------------------------------------------------------------------------------------------------------------------------------------------------------------------------------------------------------------------------------------------------------------------------------------------------------------------------------------------------------------------------------------------------------------------------------------------------------------------------------------------------------------------------------------------------------------------------------------------------------------------------------------------------------------------------------------------------------------------------------------------------------------------------------------------------------------------------------------------------------------------------------------------------------------------------------------------------------------------------------------------------------------------------------------------------------------------------------------------------------------------------------------------------------------------------------------------------------------------------------------------------------------------------------------------------------------------------------------------------------------------------------------------------------------------------------------------------------------------------------------------------------------------------------------------------------------------------------------------------------------------------------------------------------------------------------------------------------------------------------------------------------------------------------------------------------------------------------------------------------------------------------------------------------------------------------------------------------------------------------------------------------------------------------------------------------------------------------------------------------------------------------------------------------------------------------------------------------------------------------------------------------------------------------------------------------------------------------------------------------------------------------------------------------------------------------------------------------------------------------------------------------------------------------------------------------------------------------------------------------------------------------------------------------------------------------------------------------------------------------------------------------------------------------------------------------------------------------------------------------------------------------------------------------------------------------------------------------------------------------------------------------------------------------------------------------------------------------------------------------------------------------------------------------------------------------------------------------------------------------------------------------------------------------------------------------------------------------------------------------------------------------------------------------------------------------------------------------------------------------------------------------------------------------------------------------------------------------------------------------------------------------------------------------------------------------------------------------------------------------------------------------------------------------------------------------------------------------------------------------------------------------------------------------------------------------------------------------------------------------------------------------------------------------------------------------------------------------------------------------------------------------------------------------------------------------------------------------------------------------------------------------------------------------------------------------------------------------------------------------------------------------------------------------------------------------------------------------------------------------------------------------------------------------------------------------------------------------------------------------------------------------------------------------------------------------------------------------------------------------------------------------------------------------------------------------------------------------------------------------------------------------------------------------------------------------------------------------------------------------------------------------------------------------------------------------------------------------------------------------------------------------------------------------------------------------------------------------------------------------------------------------------------------------------------------------------------------------------------------------------------------------------------------------------------------------------------------------------------------------------------------------------------------------------------------------------------------------------------------------------------------------------------------------------------------------------------------------------------------------------------------------------------------------------------------------------------------------------------------------------------------------------------------------------------------------------------------------------------------------------------------------------------------------------------------------------------------------------------------------------------------------------------------------------------------------------------------------------------------------------------------------------------------------------------------------------------------------------------------------------------------------------------------------------------------------------------------------------------------------------------------------------------------------------------------------------------------------------------------------------------------------------------------------------------------------------------------------------------------------------------------------------------------------------------------------------------------------------------------------------------------------------------------------------------------------------------------------------------------------------------------------------------------------------------------------------------------------------------------------------------------------------------------------------------------------------------------------------------------------------------------------------------------------------------------------------------------------------------------------------------------------------------------------------------------------------------------------------------------------------------------------------------------------------------------------------------------------------------------------------------------------------------------------------------------------------------------------------------------------------------------------------------------------------------------------------------------------------------------------------------------------------------------------------------------------------------------------------------------------------------------------------------------------------------------------------------------------------------------------------------------------------------------------------------------------------------------------------------------------------------------------------------------------------------------------------------------------------------------------------------------------------------------------------------------------------------------------------------------------------------------------------------------------------------------------------------------------------------------------------------------------------------------------------------------------------------------------------------------------------------------------------------------------------------------------------------------------------------------------------------------------------------------------------------------------------------------------------------------------------------------------------------------------------------------------------------------------------------------------------------------------------------------------------------------------------------------------------------------------------------------------------------------------------------------------------------------------------------------------------------------------------------------------------------------------------------------------------------------------------------------------------------------------------------------------------------------------------------------------------------------------------------------------------------------------------------------------------------------------------------------------------------------------------------------------------------------------------------------------------------------------------------------------------------------------------------------------------------------------------------------------------------------------------------------------------------------------------------------------------------------------------------------------------------------------------------------------------------------------------------------------------------------------------------------------------------------------------------------------------------------------------------------------------------------------------------------------------------------------------------------------------------------------------------------------------------------------------------------------------------------------------------------------------------------------------------------------------------------------------------------------------------------------------------------------------------------------------------------------------------------------------------------------------------------------------------------------------------------------------------------------------------------------------------------------------------------------------------------------------------------------------------------------------------------------------------------------------------------------------------------------------------------------------------------------------------------------------------------------------------------------------------------------------------------------------------------------------------------------------------------------------------------------------------------------------------------------------------------------------------------------------------------------------------------------------------------------------------------------------------------------------------------------------------------------------------------------------------------------------------------------------------------------------------------------------------------------------------------------------------------------------------------------------------------------------------------------------------------------------------------------------------------------------------------------------------------------------------------------------------------------------------------------------------------------------------------------------------------------------------------------------------------------------------------------------------------------------------------------------------------------------------------------------------------------------------------------------------------------------------------------------------------------------------------------------------------------------------------------------------------------------------------------------------------------------------------------------------------------------------------------------------------------------------------------------------------------------------------------------------------------------------------------------------------------------------------------------------------------------------------------------------------------------------------------------------------------------------------------------------------------------------------------------------------------------------------------------------------------------------------------------------------------------------------------------------------------------------------------------------------------------------------------------------------------------------------------------------------------------------------------------------------------------------------------------------------------------------------------------------------------------------------------------------------------------------------------------------------------------------------------------------------------------------------------------------------------------------------------------------------------------------------------------------------------------------------------------------------------------------------------------------------------------------------------------------------------------------------------------------------------------------------------------------------------------------------------------------------------------------------------------------------------------------------------------------------------------------------------------------------------------------------------------------------------------------------------------------------------------------------------------------------------------------------------------------------------------------------------------------------------------------------------------------------------------------------------------------------------------------------------------------------------------------------------------------------------------------------------------------------------------------------------------------------------------------------------------------------------------------------------------------------------------------------------------------------------------------------------------------------------------------------------------------------------------------------------------------------------------------------------------------------------------------------------------------------------------------------------------------------------------------------------------------------------------------------------------------------------------------------------------------------------------------------------------------------------------------------------------------------------------------------------------------------------------------------------------------------------------------------------------------------------------------------------------------------------------------------------------------------------------------------------------------------------------------------------------------------------------------------------------------------------------------------------------------------------------------------------------------------------------------------------------------------------------------------------------------------------------------------------------------------------------------------------------------------------------------------------------------------------------------------------------------------------------------------------------------------------------------------------------------------------------------------------------------------------------------------------------------------------------------------------------------------------------------------------------------------------------------------------------------------------------------------------------------------------------------------------------------------------------------------------------------------------------------------------------------------------------------------------------------------------------------------------------------------------------------------------------------------------------------------------------------------------------------------------------------------------------------------------------------------------------------------------------------------------------------------------------------------------------------------------------------------------------------------------------------------------------------------------------------------------------------------------------------------------------------------------------------------------------------------------------------------------------------------------------------------------------------------------------------------------------------------------------------------------------------------------------------------------------------------------------------------------------------------------------------------------------------------------------------------------------------------------------------------------------------------------------------------------------------------------------------------------------------------------------------------------------------------------------------------------------------------------------------------------------------------------------------------------------------------------------------------------------------------------------------------------------------------------------------------------------------------------------------------------------------------------------------------------------------------------------------------------------------------------------------------------------------------------------------------------------------------------------------------------------------------------------------------------------------------------------------------------------------------------------------------------------------------------------------------------------------------------------------------------------------------------------------------------------------------------------------------------------------------------------------------------------------------------------------------------------------------------------------------------------------------------------------------------------------------------------------------------------------------------------------------------------------------------------------------------------------------------------------------------------------------------------------------------------------------------------------------------------------------------------------------------------------------------------------------------------------------------------------------------------------------------------------------------------------------------------------------------------------------------------------------------------------------------------------------------------------------------------------------------------------------------------------------------------------------------------------------------------------------------------------------------------------------------------------------------------------------------------------------------------------------------------------------------------------------------------------------------------------------------------------------------------------------------------------------------------------------------------------------------------------------------------------------------------------------------------------------------------------------------------------------------------------------------------------------------------------------------------------------------------------------------------------------------------------------------------------------------------------------------------------------------------------------------------------------------------------------------------------------------------------------------------------------------------------------------------------------------------------------------------------------------------------------------------------------------------------------------------------------------------------------------------------------------------------------------------------------------------------------------------------------------------------------------------------------------------------------------------------------------------------------------------------------------------------------------------------------------------------------------------------------------------------------------------------------------------------------------------------------------------------------------------------------------------------------------------------------------------------------------------------------------------------------------------------------------------------------------------------------------------------------------------------------------------------------------------------------------------------------------------------------------------------------------------------------------------------------------------------------------------------------------------------------------------------------------------------------------------------------------------------------------------------------------------------------------------------------------------------------------------------------------------------------------------------------------------------------------------------------------------------------------------------------------------------------------------------------------------------------------------------------------------------------------------------------------------------------------------------------------------------------------------------------------------------------------------------------------------------------------------------------------------------------------------------------------------------------------------------------------------------------------------------------------------------------------------------------------------------------------------------------------------------------------------------------------------------------------------------------------------------------------------------------------------------------------------------------------------------------------------------------------------------------------------------------------------------------------------------------------------------------------------------------------------------------------------------------------------------------------------------------------------------------------------------------------------------------------------------------------------------------------------------------------------------------------------------------------------------------------------------------------------------------------------------------------------------------------------------------------------------------------------------------------------------------------------------------------------------------------------------------------------------------------------------------------------------------------------------------------------------------------------------------------------------------------------------------------------------------------------------------------------------------------------------------------------------------------------------------------------------------------------------------------------------------------------------------------------------------------------------------------------------------------------------------------------------------------------------------------------------------------------------------------------------------------------------------------------------------------------------------------------------------------------------------------------------------------------------------------------------------------------------------------------------------------------------------------------------------------------------------------------------------------------------------------------------------------------------------------------------------------------------------------------------------------------------------------------------------------------------------------------------------------------------------------------------------------------------------------------------------------------------------------------------------------------------------------------------------------------------------------------------------------------------------------------------------------------------------------------------------------------------------------------------------------------------------------------------------------------------------------------------------------------------------------------------------------------------------------------------------------------------------------------------------------------------------------------------------------------------------------------------------------------------------------------------------------------------------------------------------------------------------------------------------------------------------------------------------------------------------------------------------------------------------------------------------------------------------------------------------------------------------------------------------------------------------------------------------------------------------------------------------------------------------------------------------------------------------------------------------------------------------------------------------------------------------------------------------------------------------------------------------------------------------------------------------------------------------------------------------------------------------------------------------------------------------------------------------------------------------------------------------------------------------------------------------------------------------------------------------------------------------------------------------------------------------------------------------------------------------------------------------------------------------------------------------------------------------------------------------------------------------------------------------------------------------------------------------------------------------------------------------------------------------------------------------------------------------------------------------------------------------------------------------------------------------------------------------------------------------------------------------+------------------------------+----------+--------+----------+------------------------------------------+---------------------+\n",
      "| staff_id | first_name | last_name | address_id | picture                                                                                                                                                                                                                                                                                                                                                                                                                                                                                                                                                                                                                                                                                                                                                                                                                                                                                                                                                                                                                                                          | email                        | store_id | active | username | password                                 | last_update         |\n",
      "+----------+------------+-----------+------------+-------------------------------------------------------------------------------------------------------------------------------------------------------------------------------------------------------------------------------------------------------------------------------------------------------------------------------------------------------------------------------------------------------------------------------------------------------------------------------------------------------------------------------------------------------------------------------------------------------------------------------------------------------------------------------------------------------------------------------------------------------------------------------------------------------------------------------------------------------------------------------------------------------------------------------------------------------------------------------------------------------------------------------------------------------------------------------------------------------------------------------------------------------------------------------------------------------------------------------------------------------------------------------------------------------------------------------------------------------------------------------------------------------------------------------------------------------------------------------------------------------------------------------------------------------------------------------------------------------------------------------------------------------------------------------------------------------------------------------------------------------------------------------------------------------------------------------------------------------------------------------------------------------------------------------------------------------------------------------------------------------------------------------------------------------------------------------------------------------------------------------------------------------------------------------------------------------------------------------------------------------------------------------------------------------------------------------------------------------------------------------------------------------------------------------------------------------------------------------------------------------------------------------------------------------------------------------------------------------------------------------------------------------------------------------------------------------------------------------------------------------------------------------------------------------------------------------------------------------------------------------------------------------------------------------------------------------------------------------------------------------------------------------------------------------------------------------------------------------------------------------------------------------------------------------------------------------------------------------------------------------------------------------------------------------------------------------------------------------------------------------------------------------------------------------------------------------------------------------------------------------------------------------------------------------------------------------------------------------------------------------------------------------------------------------------------------------------------------------------------------------------------------------------------------------------------------------------------------------------------------------------------------------------------------------------------------------------------------------------------------------------------------------------------------------------------------------------------------------------------------------------------------------------------------------------------------------------------------------------------------------------------------------------------------------------------------------------------------------------------------------------------------------------------------------------------------------------------------------------------------------------------------------------------------------------------------------------------------------------------------------------------------------------------------------------------------------------------------------------------------------------------------------------------------------------------------------------------------------------------------------------------------------------------------------------------------------------------------------------------------------------------------------------------------------------------------------------------------------------------------------------------------------------------------------------------------------------------------------------------------------------------------------------------------------------------------------------------------------------------------------------------------------------------------------------------------------------------------------------------------------------------------------------------------------------------------------------------------------------------------------------------------------------------------------------------------------------------------------------------------------------------------------------------------------------------------------------------------------------------------------------------------------------------------------------------------------------------------------------------------------------------------------------------------------------------------------------------------------------------------------------------------------------------------------------------------------------------------------------------------------------------------------------------------------------------------------------------------------------------------------------------------------------------------------------------------------------------------------------------------------------------------------------------------------------------------------------------------------------------------------------------------------------------------------------------------------------------------------------------------------------------------------------------------------------------------------------------------------------------------------------------------------------------------------------------------------------------------------------------------------------------------------------------------------------------------------------------------------------------------------------------------------------------------------------------------------------------------------------------------------------------------------------------------------------------------------------------------------------------------------------------------------------------------------------------------------------------------------------------------------------------------------------------------------------------------------------------------------------------------------------------------------------------------------------------------------------------------------------------------------------------------------------------------------------------------------------------------------------------------------------------------------------------------------------------------------------------------------------------------------------------------------------------------------------------------------------------------------------------------------------------------------------------------------------------------------------------------------------------------------------------------------------------------------------------------------------------------------------------------------------------------------------------------------------------------------------------------------------------------------------------------------------------------------------------------------------------------------------------------------------------------------------------------------------------------------------------------------------------------------------------------------------------------------------------------------------------------------------------------------------------------------------------------------------------------------------------------------------------------------------------------------------------------------------------------------------------------------------------------------------------------------------------------------------------------------------------------------------------------------------------------------------------------------------------------------------------------------------------------------------------------------------------------------------------------------------------------------------------------------------------------------------------------------------------------------------------------------------------------------------------------------------------------------------------------------------------------------------------------------------------------------------------------------------------------------------------------------------------------------------------------------------------------------------------------------------------------------------------------------------------------------------------------------------------------------------------------------------------------------------------------------------------------------------------------------------------------------------------------------------------------------------------------------------------------------------------------------------------------------------------------------------------------------------------------------------------------------------------------------------------------------------------------------------------------------------------------------------------------------------------------------------------------------------------------------------------------------------------------------------------------------------------------------------------------------------------------------------------------------------------------------------------------------------------------------------------------------------------------------------------------------------------------------------------------------------------------------------------------------------------------------------------------------------------------------------------------------------------------------------------------------------------------------------------------------------------------------------------------------------------------------------------------------------------------------------------------------------------------------------------------------------------------------------------------------------------------------------------------------------------------------------------------------------------------------------------------------------------------------------------------------------------------------------------------------------------------------------------------------------------------------------------------------------------------------------------------------------------------------------------------------------------------------------------------------------------------------------------------------------------------------------------------------------------------------------------------------------------------------------------------------------------------------------------------------------------------------------------------------------------------------------------------------------------------------------------------------------------------------------------------------------------------------------------------------------------------------------------------------------------------------------------------------------------------------------------------------------------------------------------------------------------------------------------------------------------------------------------------------------------------------------------------------------------------------------------------------------------------------------------------------------------------------------------------------------------------------------------------------------------------------------------------------------------------------------------------------------------------------------------------------------------------------------------------------------------------------------------------------------------------------------------------------------------------------------------------------------------------------------------------------------------------------------------------------------------------------------------------------------------------------------------------------------------------------------------------------------------------------------------------------------------------------------------------------------------------------------------------------------------------------------------------------------------------------------------------------------------------------------------------------------------------------------------------------------------------------------------------------------------------------------------------------------------------------------------------------------------------------------------------------------------------------------------------------------------------------------------------------------------------------------------------------------------------------------------------------------------------------------------------------------------------------------------------------------------------------------------------------------------------------------------------------------------------------------------------------------------------------------------------------------------------------------------------------------------------------------------------------------------------------------------------------------------------------------------------------------------------------------------------------------------------------------------------------------------------------------------------------------------------------------------------------------------------------------------------------------------------------------------------------------------------------------------------------------------------------------------------------------------------------------------------------------------------------------------------------------------------------------------------------------------------------------------------------------------------------------------------------------------------------------------------------------------------------------------------------------------------------------------------------------------------------------------------------------------------------------------------------------------------------------------------------------------------------------------------------------------------------------------------------------------------------------------------------------------------------------------------------------------------------------------------------------------------------------------------------------------------------------------------------------------------------------------------------------------------------------------------------------------------------------------------------------------------------------------------------------------------------------------------------------------------------------------------------------------------------------------------------------------------------------------------------------------------------------------------------------------------------------------------------------------------------------------------------------------------------------------------------------------------------------------------------------------------------------------------------------------------------------------------------------------------------------------------------------------------------------------------------------------------------------------------------------------------------------------------------------------------------------------------------------------------------------------------------------------------------------------------------------------------------------------------------------------------------------------------------------------------------------------------------------------------------------------------------------------------------------------------------------------------------------------------------------------------------------------------------------------------------------------------------------------------------------------------------------------------------------------------------------------------------------------------------------------------------------------------------------------------------------------------------------------------------------------------------------------------------------------------------------------------------------------------------------------------------------------------------------------------------------------------------------------------------------------------------------------------------------------------------------------------------------------------------------------------------------------------------------------------------------------------------------------------------------------------------------------------------------------------------------------------------------------------------------------------------------------------------------------------------------------------------------------------------------------------------------------------------------------------------------------------------------------------------------------------------------------------------------------------------------------------------------------------------------------------------------------------------------------------------------------------------------------------------------------------------------------------------------------------------------------------------------------------------------------------------------------------------------------------------------------------------------------------------------------------------------------------------------------------------------------------------------------------------------------------------------------------------------------------------------------------------------------------------------------------------------------------------------------------------------------------------------------------------------------------------------------------------------------------------------------------------------------------------------------------------------------------------------------------------------------------------------------------------------------------------------------------------------------------------------------------------------------------------------------------------------------------------------------------------------------------------------------------------------------------------------------------------------------------------------------------------------------------------------------------------------------------------------------------------------------------------------------------------------------------------------------------------------------------------------------------------------------------------------------------------------------------------------------------------------------------------------------------------------------------------------------------------------------------------------------------------------------------------------------------------------------------------------------------------------------------------------------------------------------------------------------------------------------------------------------------------------------------------------------------------------------------------------------------------------------------------------------------------------------------------------------------------------------------------------------------------------------------------------------------------------------------------------------------------------------------------------------------------------------------------------------------------------------------------------------------------------------------------------------------------------------------------------------------------------------------------------------------------------------------------------------------------------------------------------------------------------------------------------------------------------------------------------------------------------------------------------------------------------------------------------------------------------------------------------------------------------------------------------------------------------------------------------------------------------------------------------------------------------------------------------------------------------------------------------------------------------------------------------------------------------------------------------------------------------------------------------------------------------------------------------------------------------------------------------------------------------------------------------------------------------------------------------------------------------------------------------------------------------------------------------------------------------------------------------------------------------------------------------------------------------------------------------------------------------------------------------------------------------------------------------------------------------------------------------------------------------------------------------------------------------------------------------------------------------------------------------------------------------------------------------------------------------------------------------------------------------------------------------------------------------------------------------------------------------------------------------------------------------------------------------------------------------------------------------------------------------------------------------------------------------------------------------------------------------------------------------------------------------------------------------------------------------------------------------------------------------------------------------------------------------------------------------------------------------------------------------------------------------------------------------------------------------------------------------------------------------------------------------------------------------------------------------------------------------------------------------------------------------------------------------------------------------------------------------------------------------------------------------------------------------------------------------------------------------------------------------------------------------------------------------------------------------------------------------------------------------------------------------------------------------------------------------------------------------------------------------------------------------------------------------------------------------------------------------------------------------------------------------------------------------------------------------------------------------------------------------------------------------------------------------------------------------------------------------------------------------------------------------------------------------------------------------------------------------------------------------------------------------------------------------------------------------------------------------------------------------------------------------------------------------------------------------------------------------------------------------------------------------------------------------------------------------------------------------------------------------------------------------------------------------------------------------------------------------------------------------------------------------------------------------------------------------------------------------------------------------------------------------------------------------------------------------------------------------------------------------------------------------------------------------------------------------------------------------------------------------------------------------------------------------------------------------------------------------------------------------------------------------------------------------------------------------------------------------------------------------------------------------------------------------------------------------------------------------------------------------------------------------------------------------------------------------------------------------------------------------------------------------------------------------------------------------------------------------------------------------------------------------------------------------------------------------------------------------------------------------------------------------------------------------------------------------------------------------------------------------------------------------------------------------------------------------------------------------------------------------------------------------------------------------------------------------------------------------------------------------------------------------------------------------------------------------------------------------------------------------------------------------------------------------------------------------------------------------------------------------------------------------------------------------------------------------------------------------------------------------------------------------------------------------------------------------------------------------------------------------------------------------------------------------------------------------------------------------------------------------------------------------------------------------------------------------------------------------------------------------------------------------------------------------------------------------------------------------------------------------------------------------------------------------------------------------------------------------------------------------------------------------------------------------------------------------------------------------------------------------------------------------------------------------------------------------------------------------------------------------------------------------------------------------------------------------------------------------------------------------------------------------------------------------------------------------------------------------------------------------------------------------------------------------------------------------------------------------------------------------------------------------------------------------------------------------------------------------------------------------------------------------------------------------------------------------------------------------------------------------------------------------------------------------------------------------------------------------------------------------------------------------------------------------------------------------------------------------------------------------------------------------------------------------------------------------------------------------------------------------------------------------------------------------------------------------------------------------------------------------------------------------------------------------------------------------------------------------------------------------------------------------------------------------------------------------------------------------------------------------------------------------------------------------------------------------------------------------------------------------------------------------------------------------------------------------------------------------------------------------------------------------------------------------------------------------------------------------------------------------------------------------------------------------------------------------------------------------------------------------------------------------------------------------------------------------------------------------------------------------------------------------------------------------------------------------------------------------------------------------------------------------------------------------------------------------------------------------------------------------------------------------------------------------------------------------------------------------------------------------------------------------------------------------------------------------------------------------------------------------------------------------------------------------------------------------------------------------------------------------------------------------------------------------------------------------------------------------------------------------------------------------------------------------------------------------------------------------------------------------------------------------------------------------------------------------------------------------------------------------------------------------------------------------------------------------------------------------------------------------------------------------------------------------------------------------------------------------------------------------------------------------------------------------------------------------------------------------------------------------------------------------------------------------------------------------------------------------------------------------------------------------------------------------------------------------------------------------------------------------------------------------------------------------------------------------------------------------------------------------------------------------------------------------------------------------------------------------------------------------------------------------------------------------------------------------------------------------------------------------------------------------------------------------------------------------------------------------------------------------------------------------------------------------------------------------------------------------------------------------------------------------------------------------------------------------------------------------------------------------------------------------------------------------------------------------------------------------------------------------------------------------------------------------------------------------------------------------------------------------------------------------------------------------------------------------------------------------------------------------------------------------------------------------------------------------------------------------------------------------------------------------------------------------------------------------------------------------------------------------------------------------------------------------------------------------------------------------------------------------------------------------------------------------------------------------------------------------------------------------------------------------------------------------------------------------------------------------------------------------------------------------------------------------------------------------------------------------------------------------------------------------------------------------------------------------------------------------------------------------------------------------------------------------------------------------------------------------------------------------------------------------------------------------------------------------------------------------------------------------------------------------------------------------------------------------------------------------------------------------------------------------------------------------------------------------------------------------------------------------------------------------------------------------------------------------------------------------------------------------------------------------------------------------------------------------------------------------------------------------------------------------------------------------------------------------------------------------------------------------------------------------------------------------------------------------------------------------------------------------------------------------------------------------------------------------------------------------------------------------------------------------------------------------------------------------------------------------------------------------------------------------------------------------------------------------------------------------------------------------------------------------------------------------------------------------------------------------------------------------------------------------------------------------------------------------------------------------------------------------------------------------------------------------------------------------------------------------------------------------------------------------------------------------------------------------------------------------------------------------------------------------------------------------------------------------------------------------------------------------------------------------------------------------------------------------------------------------------------------------------------------------------------------------------------------------------------------------------------------------------------------------------------------------------------------------------------------------------------------------------------------------------------------------------------------------------------------------------------------------------------------------------------------------------------------------------------------------------------------------------------------------------------------------------------------------------------------------------------------------------------------------------------------------------------------------------------------------------------------------------------------------------------------------------------------------------------------------------------------------------------------------------------------------------------------------------------------------------------------------------------------------------------------------------------------------------------------------------------------------------------------------------------------------------------------------------------------------------------------------------------------------------------------------------------------------------------------------------------------------------------------------------------------------------------------------------------------------------------------------------------------------------------------------------------------------------------------+------------------------------+----------+--------+----------+------------------------------------------+---------------------+\n",
      "|        1 | Mike       | Hillyer   |          3 | �PNG\n",
      "\u001a\n",
      "b4 3%�-��L��f�l�ΥʁͲ\u001d",
      "���D����\\\\�'�rR.ĘD�^)\u0018@V�E�RB-%�L��\u0004�\\�I��t�OD�lR/d�dD.��rF,%�l�)$���\u0012���\u0001 ��\u0016Sd>QI\u0004�B�.f�rI��\u0002��E�.�\"�\u0012e��H\u0012���\u001fu���<���V\u001d",
      "�|魗/����o�t磷_~��{�r�7_���gn���\u000f�={�0:���`�R.� 0\u0006\"\u0018�Q A\u00028VD�\u0012N�\t\u0012 H���\u0018S��\"\tg`\u0012�i���8Y���0\u0003�d\u0019!�\u0018\n",
      "�\u0002&�\u0018�\u0013\u0002� X\u0010g+\u0014\n",
      "\\��*\f",
      "\u0003R,D�E\u0004��Ȓ~�����}讇\u001e",
      "���\u0003�<�ȱ�.���_���\u001e",
      "�|�[��q���\u000f��x�ޙ�t�E�\u0002PDK\u0005\u0010\u0001`\u0014 �K(\t�x\t�K\u0018QƉ2�\u0017P\u0012 �2F\u0002\u0004^@�\u0012N\u0002č�\u0014��e�,�l\u0005c\u0011�G\u0011\u0012(\u0013�\"���\f",
      "�N�\u0003ۀl�񐘍��D\u0015̵p��C5�$\u00172B)Mg�B>$�CB>�%6ḗHmө\u001d",
      ":��f�t�ǥ�l<��\u0003\\,@��t2�d#h�G��T6�dcL\"ȧ#r6ƥ�|:�ebB)�e#��&��±\u0010��P�\u0002S.�0�V0\n",
      "�\u0004�a\u0011��1\u0002@( g@�\u0006H�B�\u0015��H\n",
      "�t\u0019g \u001c",
      "/�t\u0019eW��bI�A����q$\u0013�����6\u001a\u000f\u0010ɀRJ�P�C\u0001\u001d",
      "��Ci\u0015���\u0014Vb~ 䣲i&�\u0014r\t&\u0015b\u0012A4�M��t2He�H|xA�\u001a��*\u0013D\u0019��$��`E�\u0004p\u0012�1 '�8\n",
      "��K\u001b\u001e",
      "x{\u001d",
      "�������\u0006\u0018�)�6s\u0001o%\u0019���h�Oƃl:|#�l�̄�\\�\u0007�Z%#��\"�b\n",
      "\t���J\u0019���\n",
      "\u000b",
      "lE�!��)\u0014�*%���;\u001fP��ȩ\u0018�c VJ��\"\f",
      "\u00170��a ��\u0010���\u0005\u0018/�\u001c",
      "L\u0013%�\u0002p\u001a��2�\u0016\u00104\u00073 �U0�\\�W�`�\f",
      "���\u0003�h4P��Q��\u0001d[p�\u0005���h\u0015�����Ɉ��p�\u0004\u001e",
      "��|;!����[Y����.�ݠŉ��\u001d",
      "���n�mG�z��\u0005_����p�ΝS'��N��\u000eL\u0005��+\u0013s;�Űk%��D\\�!�+�Z\f",
      "�\\���m��3;癝�;\u0016�Υ\u001d",
      "�m{޺�`ݲZ]��~��;7�m[�9\u0016\"nGz�]�{��54����T:��T&�\u0016�t)I\u0015\u0013d6&��\u001c",
      "P�!�-CT\ta �\u0005I\u0006\"y�� ��PL��@��XE�b�\u00033L9E\u0014\u0012D>ÔK<T�@��Th\u0010aA�.�\u001c",
      "DS NC$��\u0014B�0N\u00028\n",
      "$yT�@���4D�0C�$Ua��\u0006�Q0\u0007�(eh���\u0004T�� vc\u0004s \u0005�T��VD�\\\u0005/�L�\u0015\u000e��bE A2���\t����ֈt��F�rb��.jt\u000b",
      "+\u001a������ \u0019���I\"��m�o���������']>�q����C�Y7\u00032>��ڊۿ��9��Ԫs}bʹ�\u0016)�����v0ILM.��\u0018��uN9���r$�\u0014�\u0012X��~8\u001c",
      "@C\u00018\u001c",
      "���b�_�\u0004�� \u0015��镵�w3�Y\u000b",
      "ڝ�EWȱ�[�mZ��V�ւm�j߶�B.G���l�s[�@p\u000b",
      "�\u0007�D�J��L����D�/f�B�.\u0014y�\"@\u0018_!9�` \u0012/�\u001c",
      "�R M\u0001,\u000b",
      "3L��@�\u001e",
      "�h�da�\u0001�c�t\u0019- T��r0Q@�\u0012N\u0002D�\u0004WJ0�\u0007+%�R��%�,�h��\u0015\u0011��3\u0010*a\u0004�Ɋ �\u0017�H�W�\t\u001f�ܡ��&]�\u0015\u001d",
      "J��8�\n",
      "�٨THI�$\u0016��\u001c",
      "v����������{&o�.���F\\ɩS���\u001e",
      "d\u000b",
      "������~����hh�g����K�������N\u000eZ,˽��T���c��K�K�}�'-s���}\u0003�O�-�}\u000b",
      "NF�l�˥�B\n",
      "1,D�\u0015JDX�B�\u0004{�(��,�\u00160��cE�F\u0016&�\u0018^��\u0012�\u0016\u0010��\u0012%�ʊT��e�`4�gS��\u000e\u0014���P�A\u000fD��\u0016�r�J\u0007Ȕ�J�*ѭ�ڒgftuf�39�9?�\u0019�ܜ�����s�荜���y��\u0007n{�\u000f����\\����w��^��� \u000b",
      "����-����掟\u001a_tl�.,��On��.��!��}\u0017�2\u0015\u001e",
      "��\u0006'���u~yf���760<�s��2g�\u001c",
      "\u001d",
      "��\u0018IG6e\u0012�����x(+V����/~���|�\u001fLl\u0004�o��?=�sbxz��W7�v/�`)��3\u000f��ŉ\u0019G�~�b]�\u0007�}\u000b",
      "����w�����p�p��j�:�`,�\u0017�|1�C�J*��Bp*Hg�T:�'�d*M�Sx<�&3T2�E\u0013x\"U\tG�p\f",
      "�&�k�鵭��;�ش.;Ff��\u000b",
      "[Vkhq)�]�o�C�\u001d",
      "<\u0019F�a,\u001e",
      "���\u001b��R��`7Z\u0014\u001a��\"N\u0002\u0014\n",
      "t.�\u0016rl��\u0015�T6+V <���Y6��\u0005&��3Y�Pf��J$��\u0007\"���e�ڼuqdjyf�96�i���]�57\u0012\u000f�a\u001f�� �\f",
      "a�(�˒%��q�B�e�\u0006\t��Q0E��9!��\u001b��\u0002�'�e\f",
      "\u00030c B^\u0004�@���\"�xfg�\u0012\t�рTHu��\u0005���4�\n",
      " \t\u001f\u0014}������Ďm�5>�:5�:5\u0019v.���J�\u001bD(NG\n",
      "j\u001a;CU�~��t�BJ���\u0017(\f",
      "��3��޿��E�1r��(�X\u0012�r�=�%(\n",
      "\u0017R�#�l�-���ƫ:'_h�}ߓO�\u0018W#�\u000f=�Tj;=5b�\u001b�=94�74wbp�l�d���P��6\u0013�q\u000b",
      "Xɠa\u001a���\u0014Q*H8�CA\f",
      "\u0004�\u0010(B\u0015�Tf�%�TbK%2�!�\u0019&�%3\u0019\"��S) \u0012\u0005\"Ѹw3��٘�-NL�Yl�\u000b",
      "�m�-����씃;�d ��*Y�R�\"S\u0002a*0\u0001T�\n",
      "N�1\u001e",
      "a8�8��1��cy�(bx\u0011�J\u0015\u0004��r�\u0004@,��KE2�\u0002#;Pԗ�X�ґ]\u000e?#����X�ߐ\f",
      "��zb˽�h��ͬNMz&��\u0013�A�bv݋\u0004�R6��\\<Ƨ�L����o�3�ۛ�.v��k�4_{�K���\u0003�n\u000f���\u0003�+N��+�X��A���_�?|�}>ώF\n",
      "\u0016)����d!K\u0015�x&��3L��FS�����噵�G��-�M�Җc)��-G���\u000e\u001c",
      "\u000f � �Kѹ\u0014\u000b",
      "\u0014%\u0002�+0\u0003�< ��1*�r\u0010�d@3 ���$PƋY��A��r`���\u0010��:\u000e�SX\u0015�C����\u0003K\u0005\n",
      "�\u0013pBc\u0005��e�WHV�h�\"e�\u0012p��qФߧ1T���\t:�e2i6�I{��dv_�=~�#\u001f�G>��g?�޿18��r͏�-Y�\u0017��;��l\u0011�\u001c",
      "��\u001b�����\u000f��\u0006`�m�b��LO�\u0002\u0005�C:��<��ٙ������#�c��v�j>\u000e�\n",
      "��8N��,P�\u0011�\u0006 �P sy.W�Ry*Q�\"��z0�޲���&\u0017�fm����;��\u000e\u0005}@p�\u001c",
      "ف�1$��\n",
      "e�B�\u0015�\u0018V�I� �\u0018V �r��@��E\u0012�즛H�4 wgU�T�[,��\\.�7+I_|cqmabirdir�59靛\u000b",
      "�V�\u001b�`0@e\u0012D*�&\"T6Me�l��\u0015Jx2-��;�{����\u000f?��g>��W��\u001f�|�\u001d",
      "�h�����^\u001f85���Z��e���۟y���m�gŶ����E��\u001d",
      "\u0019��\u001c",
      "�x\u001c",
      "�S���5ۜ��Do�HO�Љ\u0013C\u0003\u0003S�c3�\u0006Ʀ�\u001d",
      "�\u0013�k���5�}�u��Xω���c'O\u000f��N� XN'�r�Ƴg�u��E��IQ\u0017t�\u0016T��9^ex�fy��IZ$H\u000e�E\u0012�0�CP�\u0002Se�\u0007*< 2�\u0012�+\u0010�\u0012�(@�|�\u001b\\�w�Gg\u001c",
      "c��ٹ��Q�m\u0017C;���\u0014\u000f��\u0018](Re�\u0018RB�l\t�\u0017D�B�Sp< \u00067�t���\u001e",
      "گ^PH�\u0010��|��Fj�\u001b_u�,Z�&������\u0013��U\t��h\u0004�F�t��'�l\f",
      "�'�L�*\u00168\u0010$�%<[��{��ُ��\n",
      "O<v�\u0007�~�\u000b",
      "��g\u001e",
      "�\u001b���'�y�Rsom�U\n",
      "\u0006��H%���Z[�[����̩\"#I��\t��I2+�cSSSSS\u0013��ӳ��#}\u0013�O��\u001c",
      "\u001f�;12�7=?n����\u001e",
      "\u001c",
      "\u001d",
      "\u0018\u001c",
      "�\u0019���][�ީ����\u00133#��\t�`����\u001b\n",
      "@<Rip�/���wv[�����U�e������}zzf���e\u0018���?\u000b",
      "�C:\u0004�i\u0006�\u0016��\u000e۴�6i�Oا\u0006&��\u000b",
      "cs󣳮��������Ѿ�����\u0013�#=�C�GO�4p���[o�9y���[�n����d���h����Ӄ'N��\f",
      "N����|jp`trrv��\u0006\u0003�|2M!�*k��Ɋ�Ȇ*h\u0012���*��$�\"�H����D�����0�>?�<>�4:�Z#���\u000e\u0014\t��0��a�8�MQ�,Y���<\u0005�\u0019�LC \n",
      "_nskqb:��Y��.YV\u0016F\u0017<Ӯ�k{}a�9i]\u0018�,�[�Gf�\u0007��{�&zG\u0007{\u0006{N���������\u0006oyS�Mo��M=��4p�̓'O\f",
      "�>9�s����@��ѡ����������ޡ���\u0011�͑M�x��՚�\u0018��)rU\u0016tY�M?��c�\\���`���jƛw�\u0017u�.\u0002\u001b�\u001e",
      "KߔovI���\n",
      "����ȩ\u0012�(��1�ƨ2�H��S�@�2)�8/\u0013�@q\u001c",
      "�\u00100NT0\n",
      "@�d\u0016/��|\u0019N\u0016�t�\u001c",
      "Φ}����%���3g;��o���ݝ�\u0019��S��ז\n",
      "�%�<�E��̂{��X�N[�.\u000f\u0018\u000e#�T9\u001a�d\u0012p>\u0005�SX!C�rL���\u0001�\f",
      "�0��b*�\u0018\f",
      "���\u0003�@��&Iw\t�Y��{��+\u0013#�ÃC����?h���O|��o�SS#��5��m-��.\u0005\n",
      "�/����چ�m��66??:;3:;�7:|jl�gt��p�`�����Ǐ\u000f��\u0018=~��-����[�z�����'�z�\u000f��u���\u00137�\u001e",
      "�i�����ѡ��ᡩ�q�܄=\u0016L��&�VWdC�k�\\�Ժ��\u0005Q�\u0005��\u0014�UDF�D]\u0014eA�x^\u0014y��\u0004�\u0016\u0005R\u0010\tV�8\u0006��\n",
      "�g���ZV6\u0016V�\u0015c�lh��Zڴ/:�f�&�\u001bVwxe\u0013��ˁH9\u0018�D�@4P�\u0005�X�He�2Df�T�ĕ\u0001\u0011�4\f",
      "7(���\u0012�q\u0015��\t*FN�K\u001a�\u001d",
      "��\u0013��{W��؅�z�]�x*�X�S\u0012�}�;��\u0003mc�M�h��\u0004�r��D������T�m_|�?�?x���\u0015��/\u001e",
      "~�������g?y�\u0013\u000f\u0012\u0007�\u0018�x��J�;��:��<�vMy\\S�U˺׺�t'2�Di#W�\u0001�8�\u001b\u0016�c�=p|��֑����o���\u0019��\u001d",
      "?�7522㲯l,yW�n���Z��;�v���ʺcm}q�9cw�\u0016��K������U��5i_�[\\�[�,�l97ם[>wpcy���\u0016�˖���MǤ�>�h�Y�8�K�++���%��Ƿ�u��r�W=��\t��g��tx�]����f`i5��\u001e",
      "ZY�z�Q�7��\u001e",
      "Z�n-���[>�7����r�ݫ\u001e",
      "��sֺ�����]s��;�n�}ݺX܉=u��O�{�����O�s��}-龪���\u001fi�e\u0003)���\u001e",
      "�Տ^�?6�|O��O���W�����i^3�CӼf��\u001f�?����?�����O���?���}�\u000b",
      "�z�c\u001f�}\f",
      "[)�\u001c",
      "��#\u0016��\u0003�p�\u0015I�&�\u001b9�\u0007 �*�����Rb9�<�:?d\u001f95w����[�O�\u0018�9=qk�����Đ%��\u000f.\u0006�kɤ7\u001b_MG=��N!���nfK�Rn'���d|�b�\f",
      "�@0\\.E��h\u0011NU�Q�P\u0014\u0004�P)R$�\u0004���\f",
      "��14�`Y\u0014� �8��Na1�N\"Io��}tb��uz�3��\u001e",
      "�z���\u0019���kYY�]ܶ�n�<�\u0019�}uen�m]v[�m�6��Һ}�=��4m_�]Z��,�[�-+n˲sҶ2��we�\u0002����.�v�B~��OՑ��\u001a��]��u\u0001;�u�X�1���|���\u0010��?��拦��y���u����y�����׿��\u0017?��_}�c��Ļ���G��\u000f�����\u0003ｌt�\"�\u000e\u0014�@i\u0013 ���\u001f�� <P!�0\u0019�\u0010?\n",
      "�i��\"|�\"\u0013 ���D\u000b",
      "�?�\u0014�b���\u0004�=!�|fýp��\u0007.���3wl\u001d",
      "�y����?��u�/���yd�W�������\u000f����|�K\u000f>v�o���S��������\u0019V��|�C�(\u00190A\u000516BJqJ��B��\"<�'�m0�I����ᕱ���~K�����zgn훜�q Y���\u0002&ʸ�\u0010�@�\u001c",
      "�K� \u0011\u0002�0\u0002±\u0010+a���\u0012&H���\u0002Ks\f",
      "Ns\u0004#���q,Br(E\u0003\u0013\f",
      "��%�)!t\u0019�P�\u0010M\u0007�|�v�k~�:a9\u0016rz\\#�+�\u000b",
      "�a�ʸmy¾n���t%�-�cY_\u0010Nf�x\u0006˔�d��#|�� �)�t\u001e",
      "a�Rx\u0001`A�\u0016�%�P\u0011��\n",
      "M\\��u�ݍ}6���\u0019����I(��[��V܋ã+�S\u000f�����nZ���|t�<2M�<4��\u001bg�ѡ��/�_��G���_y�-�~��\u0007\u001e",
      "����\u000f�z���q�MRh��&)sqZJ�J�S�B#W��51��!\u0012�)G�I�{��6ֿ�j���d���SÖ�\u0003�8Jq8����*\u0012-)��P��J\u0012��\u0004w�R�x�\u0014%B��8�d9�QhAfE��x�f`�C1\u0011'�\n",
      "��5��t�,o\u001d",
      "\u000b",
      "/���-�#���    IDAT�s�\u000b",
      "��\u0005���5����\u0004W7�0\u0007TX �K%2_\"�%�\u0004\u0011�2^(�%�\u0006 \u0016F�\n",
      "ZN�M���FJUN3$M�5��TZ68]&%��eF�\u0005C\u0016t�S5^W$��x�\u0016UN\u0015\u0019A�e��\u0015�Qi� �6��e�\u0018Hlؖ\u0017�l�s�I�߽\u0003�A\u0011�����K�����Ԫ��\u0013Kxw6l�\u0015��:>�8=\u001fr�\u0015�a\u001e",
      "\u00029\u0018��e\u0016Bi �*�B0\u0002��(�!���\n",
      ")�\u0018'\u0013�L0\n",
      "A�hn_�\u001f�t��\u001fzHH&:�\n",
      "��\u001aB�\u0010�U��Ju��\u001arM�tM�)�!\u000b",
      "��+<+�\"��A����#��\u0006�\u0017o���^����}���#������'��\u0007e�I����\u0004Yˋj�\u0017���f�\f",
      "��\u0004>�*Y��\u0013ky�V\u0012��,�D2B\u00101z�\u0016��,�\u000fX\u0006�&O�����\f",
      "\f",
      "[����;�N�[�\n",
      "%_�;��2�h\u001b�,�8\u0013����M�*�,�/\u001f�9WmCS����\n",
      "En�C,���b����y���5����Z\n",
      "�VU��Е�&7T��+M]�krM��U�VUj�V�\u0019uC��U}��l�*��n8V�\u0017�K\u0013\u000eې5�\u0018�a�#�d��9��\u0010\u0016A\u0019\u00189�_ٰ�L/O.\u0014v�7\f",
      "~4��39:]`�>x��ޮu�r�n�k\u0014\u0018%�\u0019\u0019FK�Z��3����,���fQl\u0014�f����fE5 ��7�8\u0013^N;���#���������a����ֺ�#\u0005U�kz��5\n",
      "p!���E\u001d",
      "���)�k�\u0011^Y\u0007\"q� ��Д%�aU��\u0018Eg5�VdZ�(�.�v���z��v��f��w\\\n",
      "�ը��Z�к��2�����Z���\u001bjӐ4MPj��g4j�T���6�������u�Ȑ\u0012 ���V\u0019M&8\u001e",
      "#y��)��\u0010\u001aE�EV���ƖF��`\f",
      "���X�H�t�L�\u001c",
      "@d 2[�3��v�5�t�..�:֝�P&�\u0015\u000b",
      "\u0017w�U^�XIgU��dVW��.\u0018g�\u0006\u001c",
      "\u000eip陇�}��bk^����Ԍ��n�{\u001f��+?������W^6�����_ʡi\u001e",
      "�����k��W�~��??��g>�\u001fo�\u001f.=t?m���N�W�c�$�$I9M�IBJ�B�\u0012�\u0014� �\u0014%��Z���^\u0010k��E\u001b5��$��R�9�\u0018�\u001d",
      "\u001e",
      "�\u001e",
      "\u001f���,/̮�\u0010WW�U�m��j�[����V�hkJ���n���Vս��iʍ;�/ܱwV'X8�]��Z�痦\u0016�F�\n",
      ";�}q�+t����u$B�\u0018�#Y��y��\t�#�c��������BaǏ�\u0013x\"�'�d*��Jl\t�A�\u0006 ���\u0004�$!�J�5�Z\u0018�Xg,�6{p}��Q��4��\u0004E�k��k�~`�K;�J(��\u0017?���4���\u000e���؃\"�_�̋����y�|�\u0015Ӽzt��yxtd�9_����7�+������?���\u0017���\u000f?��\u0007\u001e",
      "R�?ȳ����\u0005!�*I�OP|�\u0012\u00134\u001b��8��p6I�QDK�F���\u0017���B�g�.\u001b#�ތk�=�?{�gtr�>;�<04��:�{�\u0014�U3�ڍ��Z�^�4�{U�]S:5e�Pvuu�f\u001c",
      "��\u000e���BP�@�:aY�[��]�Z��%%@��_�H]��tA����2#�$�\u0011���,Nr\f",
      ",�ݱ�.��T\"1\"�DRq�T�3\u0019\u0016 h �@��\u0011\u0011'8\u0018gAR%e\u0016`J����㘴�&,�9;�ʴeuW���͆Tk�ƹ�^!\u0018�\f",
      "�%V�*��w�s��F�gq��,�l�k�y����/?���>�S�>:::::2�\u000e��^5��\u0007�����S���'?���ɋ\u000f^�1\u0007\u0005�\\E�+)\u001d",
      "@Q2,\u001b#�\u0018��I:N`�J�IJɰFA��\u0014��U�j�Ro��&T�o�<���a�Pߌݺ6=��\u001d",
      "�\"`J�\u001bz�ۨ\u001d",
      "4�gk�~�v�Zݫ���F�e�֤fW�=W?u(��:V�&�\u0017���qGn;Ӥ��j�5�N�oʌrc�A�u��$Z�\u0018A�8\u0001gd�g0�Xr�o\u001d",
      "\u001c",
      "_\u0018\u0018��\u0019$�\"\u000b",
      "Y(�Ɗy\n",
      "\u0004X\u0004�Q�\u0016�y�\u00140N@�*��\n",
      "��k�K/�/��\u000f_��\u001f�����_���31�\u0013���D����A5KK)RL�T\f",
      "�b8���\u0004�\u0007\u00101Ũ9^�r\u0006��*�:\\o��\u001aX=ϟ\u0003C����ܨsd`~ɹ9:e�\u001b�,�K�j�0vk�3U��a��\u0019g���Z�ݪ��k��uΝ��e\u0003�M�k��r�'��@�ɴ.�nk+���T���h\u001a���\\\u0013��P�XEd�T�\u0011Z&E\u001e",
      "e9�=\u0016���\u0007�-�\u0013p2ǔ�t��\u0017\n",
      "�\u0015�B0\u001a'x�\u0012(�#(\u0011�\u0015N�)^��:g\\h]�I\u0003�#�V��cyֹa[�섈\\�@�uH9��S�\u000e��Pv�\u001bs؟�p�s�z�v�����������K�ѵ�Ẉ7̣�GG�o�>:|�O�_}�����O����o��S���\u0007�}���_{��\u001e",
      "f\u001a\u000f\u000b",
      "�z�RR��\"�\u001c",
      "�� |���(\u0013&�,��\u0005\u0003P�\u0015��5\u001aH��\u0018\u001d",
      "�u^<\u000fE�mWd��2�<2b�\u001d",
      "�������X�~��\u000f\f",
      "����3�\u0003M�hz����6v��Z�\u0017W�\\�I�u�j\u001fs \t�q�b���慚\\�DC���X3��!�u����\u001b�;\u0002��!�\u0012\u0012!\n",
      "�x,�\u0019��p��g}Q\"W&�%�Tb+\u0018��,Br8�\u0013�H�,N!S�B\u000b",
      "*#j�.Ӛ����n�oA\u0011�����\u001c",
      "�)�}��w��1�Jf�T.du��\u0012��K���\u001fz�Q\u0011��O}��/~l^}�<�j\u001e",
      "]�Q\u000f�\u001f\u001d",
      "\u001e",
      "\u001e",
      "^3�ëo��ƕẈk�믚��r�{������O���|ǳ\u0017.�C߿\u0013�:9FKQB�\u0014S��a�,�,(j��c��匂h\u0014�\u001a��`� 5\u0015�UP>'��\u0012dr��0��,\u000f\u000f��|z��wZd[���zP��֪�k�3�j{����l�\u0017uM�\u0017ǜ�c��y�\u0015SA�b�3��jJG�Z�hԕ�!Vo��XWDC\u0012uQ�xN�Ī�j\u0002-\t��\u0013�D��R[!����\u0010I �\"�+`�<U�� �#�7ī\"#��(���*2�\n",
      "��\u0011\n",
      "O�\n",
      "Mn�b�!��R���w��\u0001��F���k�W�k���׿��[�i7�����^4���Y�\\?2��G����o��\u000b",
      "�y�\u000b",
      "���G����ν[�\u001e",
      "�S�2�Zx�l�����Ʀ�\u0013\u00126��HN\u000f��A5+ZZ\u000fG����o��/���-�-ˋ�˫�M�eC��h���,���U\t�Έ��v�8�����\u000b",
      "n���u¶8��i�5��]�B�~A�v\u0015�[m\u001c",
      "T�N]k4�VS�Ԕ�\u001bK[`����JM]ikrC\u0013jU���*�Ҕ��$�y��h���cY_�28a\u001f�A�e<\u0003�y�,cT��\u0010��9��8Z�\u0019]�\f",
      "�UT�P\u0005]�u�ӫ�Q\u0013�5�nH����+u�7�Zw�u��\u001d",
      "��\u0007u��\\\u000feW6\u0012󞻉:�\u001c",
      "U������\u001f=��_|ףW�\u0003���yx����\u0006���\u001b��\u0015��\u0015��%�����~u��o����|�\u000f��!�\u0010��E�\"Du�h;��1L��Z�ғ��@�8$%*r\u001c",
      "�\u001d",
      "\u0005�P\u0001\u000e�˾ln;\u0015�\u0006\u0003+~4����΀��ܺ}�3;�\\��v䃆��[;{�}����e�^�u¶0j�ڶ2��Y��[��To��nU�k݆֩)�U�[��*_��]C�܀��U�3\f",
      "�u��+\\M�k\u0002�s��2�(\u0018ǒ\u001ba���s�R�$h\u0010�� \u0005�,D�(��\f",
      "��\"�,Ӛ�k<���Z�7�b�આX�Y͐\u001a�P���$4\n",
      "\t�\f",
      "�K�\u001b��g;�X�����.\f",
      "N[�fmc\u0016��=�Y�o���\u001c",
      "XkR�Ќ8zz�����\u001a[� �8nwN8\u001c",
      "�ֵ���R���w�u���u$�)kmUm\u001bz�j��F���\u001bZ��v5�SSv5�S���T���ҕ��4T��JMEhI|M�t�VDZ=\u0016�ر��8�犡$��) �@��/7\u0012-I�\"r���$�\u0010XE�5]0n$�\u001beW㪚h�R�\u0006��j)�]��W��h��W{��\u001f��/�W^1_{���\u001f=}�c���y���\u001b�ލ�����w\u000f����\u000f?����\u001a��@#觽�Y�|�n\u0005���\u0015/�ٮ��Z �\u0005RF��\u0004\n",
      "�/-\u0005s�7X^�J9�vf\u00167��ӎ����٥-�{��3�l��V��e��a��N�)�rl�U��ZO/��Z�[�\u001a�=[��q�����\u0007�֖�����jG�Z�Ҩjݺ�n��\f",
      "��)]C٫�{�ҭ껺�U��*�t���-]i+b��u%��'܌~,���Gg�h�( D\u0019�\u0010��)�`e��\u0019Y�4����'tU�\u001aRC\u0013j�ج)��ҹa�ԔNC鶔vKi�)�3(��'�j��7�\u000b",
      "{��}㍟�ؼ����K_y���~�c���#�i\u001e",
      "\u001e",
      "^�b\u001e",
      "����~`^������_��g\u001fy�����\u0010�E�t^\u000b",
      "��hčh�Z����\u001c",
      "H�,�����f�܌��Pѽ\u0013��%��Q�fi3^X�\u0002���f<��H�@'\u0011:�ԙ�������\u0007�K���\u001fZ�2Tr-u�~����3�;;���v �MYkkڮ��iZG5ڪ�Դ��u[�}Cm5�g\u0014�]�\u000e�ճUu���t���mU��\u0010��QĆ&�t�-\n",
      "E4d�P����4�i����5�VMi\u0019j��u�j��u[z�L�Sˁ�s?2?��'sq����\u001b߼��s�}�\u001b��ǿ�W^y�����>o\u001e",
      "^7ͫ�?��_4����w���o{�j�!��P�:i�\u001e",
      "+��e#Q��\u0010��8�����M�B3TjD!֛B�Q|=V^�I9�\n",
      "]k�J�ƛe�����V��Zk�hu\u001d",
      "[����9\u0016$�\u0012�\"$��,�*���B�:khBC�[�\\W���54��k^������u��^�����j�[��\u001bZ�Qݭ\u001bݺ�gh{�ڹN�\\M��Վa�jZG�vuu�Pv\n",
      "��)]C�7���q�n쵫\u0007��~M߭\u0019{��^��[��[���ޭ黚���]��״]U�j�$4\u0015��KuYnJBS�\u0002�\u001d",
      "\u000b",
      "�\u0007���gGơl�(A4H��\u001c",
      "C�F��vZz{��> q��/>w��+��7������K�\u001b/\u001f�����`�WM���k/�/��o~��N�\u001f|����W^3_�f����y𩋀����Hrћpz�K^l+\u0006.��ٸ�o��1�4�͕V�\u0015���S��ƌ�;��X�=���R0��Ȯ�T\u0005ռ7NF��N�ɱ�ڏ<v�{��Y>�yN/��:\n",
      "�,�q��R*��\"[\u0017�����n㺳���\u0001ث�mْ-�j�:{G!@� X@�\u0004{\u0003;�1�Wt��-��)��u�)\u001b�8q6՛�_����ŉ\u0013w[�%���\u0007h�.�=���s ^�w��0�\u0005V<�����Rxe%��\u0012�6�5����Aʷ�\u00076����X��A\u001a��\u001fSB��FX}��;?xQ}�͗����#_Y��7.�W߻u����:G�\u0007����P_��o>��3��֤�S\u0001��hTvo�]��g\u00079��+/��^U�k�\u001b�x��o���p`���1��6�-tM�w�\f",
      "�9]mC�&�p��X��ib�8>k�Y�]\t\u000e�\u0002���\u0014\u001a�ţ�\u0014�a�����<�\u0017\u000b",
      "��P��\u0004)8�\u0005�t8Ȇ�4\u0012`�^<짃~\n",
      "��}I��篾����\u001f��n�To\\�u��K?~��9l��_[�����վ����Q��h�k�{n��=�>>e���_�]�:��Q8<��\f",
      "�.%�鎣m��E$���H8��!\u0012���0\u001b\u0004|x(@��L�G�\u0011\u0016�94��aZ�YffY}�W��u��w������ַ�]��z�=�ƕ[7?���x��\u0007�w/��͟��ů���Ǟg҉aOrd\n",
      "�A?\u0011\n",
      "�� \u0006G(\u0004�\u0011�\u000b",
      "�4J��0��LG\"T$D�a\u0006\u000e�� ��C�\u0011:\u0018!\u0011�\n",
      "\u0004�@\u0010���A\u001f��#��\u001e",
      "��ZL��<xd�=�}n�����3���,-ϭ/ί�.\u00057V#�5��ż\u001b\u0011�\u001a\u001c",
      "��� ��b� \u0011\n",
      "Q� ���� \u000eG(8Ba(�#,\t�2̱s���w���%��������C�����^yG��z��z���\u001bW?��T���[��;���ߟ���\u001f~�)\u001f��e<62���=�^|[}�-U����?x�-���_~��O,��u�@ײ�wq�8L��Θ�S&׸qd�8���[g��\u0017\u0016�5Ǫ�\u0019\f",
      "���\t\u0014�'��T̟:��$�N!�b<I�\u0011\"�\u0011�\u0003(\u001e",
      "��\u0010�\u0004a8\u0010�qB`ؘ\u0018�1�Bi��X�$\"\u0018��p \"ҼH�q6&R\u0012G\n",
      "\f",
      ")\u00100��Q\n",
      "Z�\u001c",
      "F��d��tt��\u0006̽�6��Fsm�����DM��3-g\u001a\u001bN��=~����ā�ͧ�\u001a�O�N�tV�n�����ԋ��.����T���^z]���z��z�z�z�z��+�7���.�\u001f�{�W?�������|&��\u001f_�\u000fOJ����uS����/��/~'{��\u0017\u001e",
      "}��S�\\��֧\"m�İ��Xt��L��̇�٫��l\u001e",
      "���ŵ����缽3�ӡ�Ex|���|�\u001a-\u0006�1������=��=\\S����=G�\u000e֝��ԉ;O��[�й���O\u001f:[��枚�Cuu���\u001e",
      "�;~���\u0007k��9S{��x��~��t�Tw���HS��c-�3�����u��\u001aZN����Vw���h��ڠ9������>{�ԡ�\u000eܷ��=��W\u001f8q������\u001d",
      "����\u0007�����;\u000e�;R[{�����g���9t�����'�N\u001f�i=kj?k>w��\\��|���갵��6�\u0006�:g���GO|��M���7�_��3o��G��o]��޸�޸��x_���z�-���k�������\u0017���rOG���\u001519\u0016�\u001a\u001bJ�>�\u0011굷��^�F:�^��޼v�׿{`�\u0013n����ݳ�3\u0013r̬[�=���\u001e",
      "<2�ؼh�.w�}=#A����Z�\u000f��sĬ��\u001e",
      "8�đ\u0005T��D����\"Q{�ܽ{\u000f�>v�ܱ���\u001d",
      "=y�ĩC�g��:{��ɣ�\u000f���ĩ��\u001e",
      "���؉\u0003Ǐ�?R}o����\u000e�s䮽��߱����W}�����\u0007�<t��\u0003�����\u0007��ؑ{��c��s���ǎ�u�޽�5��uG��ul��}-��VSgM�����f�m3\n",
      "�,��\u001a�xY6$)h\"�$�\u0015BB�\\H�7X�+d����Y\u001f����\n",
      "�\u00078!Ĳ^R\t\n",
      "��C��`x#\u001c",
      "X�V}�zpu�\u0013Z\t�V\u0002��\u0010�\u0016��C�7\u0018Y-{5��5���Վ��9�\u0017�-k�^_���\u001d",
      "�\u000f�z�ـ\u0010�\u0018\u001fI�)8\u001c",
      "�0��D�0B\u0006\u00102��\u0001\u0014���\u0010BGp�\u001baㅩ@��@���d(�\u0007�T8B�`\"� ~\u0004�#\u000f{������D\u0010A}a< #�Adݏm\u0004p�\u001fY�kBK+�7�:5�0�^��Z��Y��\u000f�y��˾�%�gͷ�\u0016X\\����\u0015hu#�\u001e",
      "@���z\u0018^�f�\u000e!�/�\u0007`2��\u0011�\f",
      " t\u0010�\u0002\u00116\u0010�B!ni�cp@�����o�޼�^{O�����������oo��gW���\u0017��5\u0016#:Mk���m\u001d",
      "���њ������\u001aF��#���\u001a�@u���;G\u000f\u001c",
      "��f�k4;q��J[�J{�lG�P�a��>m�l��Ե��8k<p���1wc�Ts����������\u0013�Q\u000f<�7(�Ob>\u0014\u000e#H(\f",
      "��,Bb�H�\u001b�}0\u0016B`\"d B\u0007P.�Q~��q_�\f",
      "�1�\u0005�`8�\n",
      "�]ߘ���L�\u0016g��S�����B���_\\\n",
      "�n\u0004W�\u0003�k��U�g\u0005�m�W�\"�>t-���\"�\u0001�\u000b",
      "��pp�\u000f�`�\u0007�~�\n",
      "\u0003�e�k�>�sL{�#������Z�s������lhu�6:jjg�]\u000b",
      "�=����N�g`l}b�\u0010��$\u001a\u0015Y\\�1��Y\u000e\u0013e\"�`�4\u0019�\"$yyU��z�z�M���_���\u001f����_zh�]}j��c��8���m\u001c",
      "8]?T��n���z欮��\u0019�s���0�`v�\u001b\u0006f����\u000b",
      "�g#�\u0012@փ�z\u0010�\u0007#�\u0010�G\u0010?��Qd\u0003\u000e�\u0006�0F\u0005Q&L�aZ\t�ʆ_�,��=��K��wo]|S}�����뇯����>�\u0004o�^��Yh�_hi��k�\u001f;5p��Q���l�m�\u000e6��[����3���s\u001d",
      "�ڶ\u0005C�\\�e��2��=��;a\u0018�4\u000e�[]3\u001d",
      "���nWs��\\�@]��Hu�ٚ�v���{���\u001b�\\w��&7�5�ƣ,.� \u0011�D�<�̑<��<.q8/`��q\u001c",
      "��\u0010�c\u001c",
      "�ˤ\"`�@�<!p8Oc,��\u0012!�(�\u0003��\".Ϣ\u0002��4B�E\u0018!�J���O\n",
      "0Q>��(��IE$\u0015��9Z\u0011XEbb\u0012\u0015%J�\n",
      "��\u000e���\u0004&<��56�\u000b",
      "LJ�22\u0011SȸH*\u0002�H�\"��*<)Ǹd���ēQ�Nrt�g�\u0002��hE�\u0014�Rd:&�R\u000e\u0012!��$R\u0012O�<!ȸ( �D�\u0002��\u0004\u0017�e��\u0014B�DV�#k+�o=��F�a8��>\u0018��T��#\u0018�\u00128J\u0010\u0018M\"\u0014��<̲0���7�v�o�������[����\u001f[i��\u001alk&�T]���y��0��a?��{�e���7�\u001b-\u0013\n",
      "M��\u001bF�\f",
      "�'�N�v�P��\u0003\u0015{�'��L=�>�d�u��\u0018k�k����0\u001e",
      "�\u001b���w�w\u000e�\u001b��I�oȽG[�WWvj�!��ZWK�HGפž��\\�\u001e",
      "Z�q���\u0002#\u000b",
      "�\u0019��䈘H'7c\u0017�|Fa�2���8��\"\u0017\u0015XE`c\u0002\u001b\u0013���b\\Ra�Q6!�Q���\\L`c2\u001d",
      "�1J�V$Z\u0016(E��<\u0019Y d���lL&%��\u0004Z\u0012HQ&%�\u00125��\u001a�]ǃ>4\u0018D�a4��a`T� `��\u0019\u0012�H��q- ���<\"1��`\u0002M�,%��Ȑ\u0012CJ\u001c",
      "\u001d",
      "c�(G+<#�L���\n",
      "/X�����]���P�N�L�g�\f",
      "�H|J���W��ү����~�WO}�k������lL�\u001b]5Fǩ��Z���e�~��;\u0006�lܘ/`v�f�����0�\u001b��ǖ\u001f�RO��d��X�����;\u000f\u001f���y������#5C��qK�m`�6�\n",
      "�\u0012�@D%*.1\t���lR�R2\u001b����%\u0014&.11QH�lB`\u00132�P��BE\u0005B�� QQ�T\u0014*\u001a�e��c�\"R���2#ˤ(2���\u0006�@�\f",
      "��p\u0018\u000f�x\u0018%\"\u0018\u0015\"�\u0010��\"X�`)��`��0<̳\u0011A@e��YT�q%7�XF�\u0010\u0012��,#qLR�S1!��2)!�\u0015R\u000f���.<�^����ʭ������˿��?_|��>!������\u001f��SM���.ۉ�)�мe����ɒꝚ�������l�YN5Jk�lq�gdcxn�2x���G�<|{�m�K�\u001e",
      "hr�YǺNw\u0018�\u001b\u0007Z:�-}�]�s]NO��j��c|eh\u001e",
      "]�y<�3q��\n",
      "|\\\u0012�Q%#\ti�M(LZ\"Sq~S�22��\t�(���I���p\t�K�|J�S\n",
      "�R��D%\u0005*�ӵ�ģ�\"�J�V���`b\u0012-I�,��B\u000b",
      "\u0012+k�@�\u000e��P\u0018\u000f�x\u0004#`��q:L2\u0011�Dh\u0002�I�!0:�T�p�'\u0004\u001e",
      "�DRɍ,\u001e",
      "�p�&d��86��2�(\u0002\u001f\u0017�\u0004��E..\u000b",
      "q�Wbb\"���\\�A�Q�]T�����x�z�W?��w���3O>\u0011���cO|\u0002�<F�hK�`S�H�}��5�4��YU�P��\u000f\u0011��bc���S�'�\u001a\u000e���i�>�a?c�:��q��xO�`�}�6��3�l��ζ�5��:\u001d",
      "������y�k�:�40�:扬�\"���8O'\t�g٨(�d)!rQ��D:��\u0019���\\<*�e!.rQYHn��%E>%�i�dR�\u0012\u0002�\u0010ؘ��e:\u0016c�\n",
      "�Y�k�1�q/\u0005W1��JB�����\u0011�8/�xA\u0011�(KɊ�����E%>&\u000b",
      "q��IL�g\u0013������$�|Z�\u0002�\u0012��\u001aO�tL d��E�D�L��T�N�tL�\u00122\u0017����E5\u0014B�0N�4\u0001�8B\u0013(Cc,�q\f",
      "Mb,�s$Ʋ��`\u0002���\f",
      "��t��\u0006�#��L�~�s��7�k7�˪����|�;?L<�\u0005$�P�=Sg\u001f��\u000f��\u000e��,�'�Z�V,S\u001b������Ρ�:�p�m��1cs�Z\u0007�\n",
      "K��%>��II�JR�\u0013c�\u0018���,fd)%K)I��BB�\u0013\"��8�%\u0004!%\ti���\\R\u00113\"��ٔ�g\u0015.\u0015��1.\u0019�SQ6\u0011eS\u0007�[k�_��/>�px����t��:���8Ҩ�sY�vE}��+y���}����$��\u000b",
      "⃔}z��o��w��1^k�j\u0018X�\t\n",
      "��F�\u0011����\u000f��%�������˟���o|��6�쉦��NOS�l�}��k�8�M\u0011�^bb}�19m\u001d",
      "\u0019�\u0018\u0018lu8[쳶��V�P�m��?iu�\u000fL�<���E�If�-�M\u0017�1.�������굋�;�P����_�����׶R��;��H��rsK�\n",
      "\\Z\u0010R����\f",
      "�'E1-�iQLJRJ��\u0002�����gX>-I���ᙸħ$!�s����p�\\��qi�K)\\J�2���p\t�R\u00046&rq��jI\"4�0D��`��9�`I��I��D�\u0014\u0018R�p�De\n",
      "��T���,\u0019�\u0004O'\u0019*��1��rt���\"�\u0011��H�d&�0i��(bF\u0014\u0012��U�ͤ|R�\u0012B�㱨z�]��wԋ���\u0017>�������j����:i����޾�O\t�7^��z�m����W_��՟|�\u000f�<����̉����U�Тyh�0�`t��F\u0003=3\u001b�i�sn��0\u000f�[�\u0003-}#\u001d",
      "����\u0011K����muN��L�O�^��Nc�\u001e",
      "�DL�H¦�e�-E�r\\J��JAH\tBF\u00126E>+\n",
      "���)\t�2�\u0015ٴ�g$!�����%��4\u0012����(�V�D\\L�l\\�\u0014��jr��P��i\u0006e\u0018�#P��h\u0012�h�a\t��E\u0006S\u0018\"F\u00132C*\f",
      "�pT�'�,\u0015eh��\u0005���d�c�<��ل\"f8\"\u0016e�d~Sd�\u0002�\u0012�l�_���\u0003�M~ݫ^zS��z�?}����u8':��m���#F۸�{��u��\u0011���\u0017���\u0013�����|�[/?��C�a�yx�a��{����:��;��?o\u001c",
      "^�\u001a��\u001e",
      "���Nt��\u0018�3=\u0013\u0003-=�\u001d",
      "}�\u001d",
      "v��1n\u001b��\u001f�\u001f^���\u0007Nk��8\u001b}���e%ɳ\t�M��y�?/��\u0002�\u0014��$&e)%\tiAȈ¦�er��L���<����\"fd1��Y�S2����D%\u0015&-ө(��\t\u0019�KILB��\u001a\u0002�\u0019��1&W\u0018i�%1\u0016�8\u0002eh��\t�&d�L0D�ƣ$.Q�L�1��QD�&\u0015��\u0018Z�(K�x6A��&8*��[\"��ٴ�g%.����o&�x�����7�V?x�[\u000f=�d2��8��\u0003#&ǀ�������w��{��{�ְb�/\u001b,�������gI�!/I��M�9�NYF\u001a\u0007�-�S�����i�{������Z\\.�P��i��o��3ڝ&ǘep�۵84�n\u0010;\n",
      "*5`������\u000fe�[\\,)��rlZ�6%iS�2��U��,f\u00141#�Y�L�dB`�2��r�\u0012�a�XTޔ��($$)%I)QL+�y�ߔ��H�$:-1�(�\u0015�\u0014O'E:��P��Y\n",
      "�q�\"P\u0006�\u0019\n",
      "�\u001bG�L#�\u001d",
      "�\u0011�s�<2i�pY�C�>{s����i�\u001d",
      "5��[\u0007'��U���Є&O��ة��76�m�6\u001f��H4�e9��\u0014�OpB��Ӝ���ͨ�\u0015\u00136e:%qY�I�tRf�w\u001a��v���c7�ښ�\u0006�����Ş�U���5��X�\u0018�ݫ�U�1<��>\u0016�1���\n",
      "���[\n",
      " i �bϞ�3�6s���(�<�~��?��\u0007\u001f�?�M�\u0013�\u0010\u0015��,gy>)pI�M���̟\u0017�M��\u0014��p^�9��ܖ�n��bq�v�6u�\u0018{ƌ}���I�\u0010<�v��1�\u0016*�y\u0007Ty�F������\u0003Ïd�o�ߢ�\"-�h)I�O\tBF�Qn3�mI\\F�\u0002��٤�eD:��)�?/\t�<���-AHq\\��2\u0002�\u0015����e~Sa�\u0012���M�M�tR�#4��4�\u0013��瀰\f",
      "&����\"J�\u0004\u0015��8EDy2NaQ��1T�&\u0015�T\u0018*Β\t�N�lZ��\u001c",
      "�\u0014���o�\u0013���|6�)eq3\u001a�RĄϳ�p�ԙ���k�z���\u001b�g�mp�ٜ#��\u0001S���������ci�\u001a�\f",
      "�:G\u0006�\u0006���1��02n\u001c",
      "\u0019m\u001f\\�O��\u001c",
      "�\u0006�h���c��1<jp�t\u000e\u000fw8G����1[K��\\����2��7�]��S����ѩ�1�FWQ�����;��=\u001a�N\u0003h�\u001f?\u001a\u0015�g�y&s���\u000b",
      "��7/Ќ�r2��\u00149��iY�HBVd3\u0002��8O'E>#�\"�\u0011��$l�¦�gs���D�%.�\u0012���\u001c",
      "�h\u0010��\u0011\u0016�9\u001c",
      "�\tL$0��\u0005\u0012f)\\�q\u0011�d��\u0012T\u001c",
      "#�\u0014\u0011��(�Ei2�҉��\u0019*A�q�I�l�#|T\f",
      "E6#�i�ϊ|F\u00113\u000fd\u001f44w\u001e",
      "�{t�8��P՛7�\u000f����\u000b",
      "]Cӎ�q��y�����f��t[[��M�ö�A���5��\u001c",
      "1�\\��1��T��Bה�cx�:6�9:a\u0018rw8G�\u0003n눳s�����lcO������hv\u001a��ۭNc���<��\u001aД\u0014\u0015�VV|WiѾ�����2\n",
      "\\F�3\"����8��\t\u0019\n",
      "���k4z�F�\u0001J\u000b",
      "\u000f\u001c",
      ":��\u001fd\u0003�'2[\u001f��,*�����s�,�eq�gS,���-�����gEnK�ϋ|V\u00167e>\u001b�1.+�Y\t�M%[����\u0003��\u0019��z��-����\u001f�\u0002�X��.�;\u0007ƺ\\�\u001d",
      "��-����f����0���\u0006\u001c",
      "\u001d",
      "}}m�\u0003�}��\u0001�a`��w�cp����j�jwL�;��zG�}æ>{{������dkj�o��k6;Z;\u0007Z-.K���<Ma����`O~��\u0005E���w�����;�E;5�B\n",
      "\u000b",
      "\u0004\"ѨL \u0012��\u0014)�\u0004G\u0013<�q\u0004!��H�\n",
      "�D\tZ��\u0018K&\u0018\"ΐ)\n",
      "�햖N[�����h�7u9[��:z��-�m]#\u001d",
      "]�ͦ�f�h���ns4�{���sM�&KS������m����j���w5\u0018�`�V[�\u0003�Z;\n",
      "\u000b",
      "w�\n",
      "w�\u000b",
      "��\n",
      "�\u001d",
      "���NGSgo�����o\u001f�\f",
      "4ut��\u000f4���7;�[\u001d",
      "�\u001d",
      "��f��Fsm��l�����������lr�Z\u0007�lw�~w�\u0006*���H�\u001c",
      "E�9?��=(J�(�d�$\u0019����Y:��I�Iql�ab<����m�TF`��\u0019�3Y�ے�MI�F�͘��w���\u001c",
      "\u0015P��\\f��ɛ����?�3�^�\u0018��8��V�u�����j��t�\u001b\n",
      "�=p��ɡa�`�\u000b",
      "�\u0007��?�}�\u000b",
      "�|��'.<�`\"���dL:\u001f�$>\u0015��Q)�HYE�\u0012Ŭ$m�|F�!<�\n",
      "͖�FsM��Թ�\u0013gj\u000e\u001d",
      "i?u�t��p�t{��γu�3�ֺ����3uƺ&K}�����d�8g\u001e",
      "�L4�ٴ;J�u;\u000b",
      "t\u0015���\u0005��E�]������\u0005��b]y\u0011T��+�4\u0005�ڒ|m�\u000e,ӂ�Z�\u0014�� ��P_��W����Pa�\u0006�4 ���4�\u001aM�FS��{�=��\u001e",
      "1D=\u0011?���\u001f���G\u001fxp+�\u0019�SQ)�3Q���lB��<��$)㸈a9�\u0005\u0002�\u0012xt{�BDi2�r��R\f",
      "�⨴�lJt�cR\u001c",
      "���\u0014�fY&%p\u0019�N�\\F��h>�piIܒ��d�\u0002\u001e",
      "�G\u0016,m���\u001f�i\n",
      "�F���X{����f�\u001d",
      "�[/�u\u0014��*�V\u0016��\u0005��\u0002��*\u0004���d�jl174\u0019�ՙj\u001a�皌g�;N5�N5��Z�j��5M�g\u001b��\u001a;�4�\u001a\n",
      "��\u0002��\u0010,ՃE\u0005�\u0012=X�\u000f\u0014@�\u0002\u0010,\u0005te��\u0004\u0004��\u000b",
      "v\u0016��%�\u0002�� �ҁe�PyY��]����+�Kvj\u000b",
      "�5z�F�C�ۡ)��~�>ss�h�@d��H����lvK�%Y�i`TD0\t%%\u0018f1��1\u000e�8�\u0010\tB�&c\f",
      "\u0015��\u0018M$i*E\u0013i��b�,Om\n",
      "��_/~��\u0017�\u0014\u001e",
      "�\u0006��\u001c",
      "�u�O���ں\u001c",
      "햮������\u0016smCgM��\\��l��\\kg]kW}����|��t���hj:��Xk޷���Q��\u0018�2��}ܤ�۩\u0005+t`E>X�\u0007*�򫊠�\u0002��P[Q����(�A%:\u0002\u000b",
      " �\u0018Ԗh��Zm1 �@@)\u0004\u0016��2=P�\u0007*���\u0002�*\u001f�ԁ\u0015������\n",
      "Ae X��\u0016\u0003y�:my�q=X����C�z�<_W����e'��\u0003��\u0007\u0012�5(,��\u0018�\u0019\u001c",
      "\u0017qT P\u0001�E\u0014�\tB!q�&c,\u0019g�8K')<��\u0019�N�D��3\u0002���,K&xn��S8�`�\u0014��\u0005>�q1��sB��Ӓ���D�������\u0013�\t2���?����Q��\u0007�mo-P�׮���o>�yj\u0013�r�t��\u001b�\u001c",
      "r\u001a���Fs}����\\�f:�\u001b��5��Z����|��p���TG�\u0019Ӊ��#�m\u001d",
      "\u001d",
      "���c��Cu�S\u001a�\u001d",
      "\u001a`�\u000e��q] �,�W\u0016�Ku@q����\u0003\u0015��\u0004\u0002�!�\u0010�\u0016\u0002@\t l�\n",
      "\u001e",
      "f����\u0002\u001c",
      "\u00110D�Q\t�\u0005��\u0011L��+4\u0019�\u0005j�L�x�$b$\u0011c�\u0004M�h:J�1Z��J*�=/��w�71>��h��Y�\u0005(�\u000f�X\u000fo,\u0005�\u001d",
      "�ӇO}b��ǔ\u000b",
      "����9)n{/���]ӷT����\u001f�{*�̃�#�1��ix���i2vִ\u0018O6��W�q��p���dG�)s�s�zN\u001d",
      "q\u0018[��g�(�\u001b�\u0017�C��H�i�Հ{w�U��z�D\u000f�AP\u0005\u0004U�u�:�@\u0007\u0015A�\"\u001d",
      "P�#w�8�\u0018\u0002�A`\u0001 \u0014\u0001P\u0005 �\u0001y�z�B�-/���@E��L\u0007\u0014\u0017��t@iN���\n",
      "\u001a�qT�Q\thX�\u0010\u0011!D�P\u0010L(�F\t<��Q\f",
      "�I\"F�I\u0002�\u0013x�\"�\f",
      "��(���x,�s�gqmxt���|�d������%����\u0011�둕��҂o�o���@oP\u0017�\u000b",
      "����\u00079���}>߇�o\u000f�T�����\u001c",
      "�zW'M\u0013ֳ��ZS�}�u��m�n:s��\\u��ꮦ���~��y؏!\"~c*�/�է��>����8֥��\u0016�w\u0015A\u0015�`�\u000e(,Е�C�:��#lk9�\u0018Ԗ@@9 ��`i^^A^^\u0015�P! \u0016�`1\u0004�\u0002y�\u0010P��v\u0001@�\u000e,�A%� �u@i>T��_\n",
      "��|��0�\n",
      "ЖC�N\u001d",
      "�\u000b",
      "Ж�\n",
      "wk0�%0\u0011Ey\f",
      "�0DDa\u0001�\u0005\u0014�\t<�c\n",
      "��p$J`\n",
      "\u0004*@�\u0002Ԗ僕���|mi��\u001c",
      "�+\u0003�e9~�P�V�� X�\u0005��Bm^\u0001�W�\u0003�B���养5��\u0010�`�ɟ�d�5\u001bq��j�_�<OXF2\u0016'�)�O���7oݺ���>V��{�\u0005��fWݡ\u0016c�������S\u0007�՟2���\"�YJ�2.}����c��\u0010�>�����'-#��>\\SxL��\t\u0002\u0015���z�L\u0007\u0014���|�4'^\u001d",
      "P\f",
      "�\u0015\u0002yۦ�\u0003�t`\u0014�@\u0011\u0004\u0016�@�\u000e*��JA�\u0018Ԗl�F�B�)\u0007�J���v��\u001c",
      " �\f",
      " ���e�PyN�z�\"��:��H�{�6¨HP1\u0014\u00151L�Q\tE$\u001c",
      "L&09��\u0019*J\u00112�)Q)+K��U�����il�2�\u001d",
      "������\u001a;k�-=V����Ҭ/�wue%���/̮�.x����f�W�|~չ\u0011����r'z���t����\u001d",
      "i�~�~��'���ۿb�^��=�2x��i͎�{O\u00187\u001f�Vd�k����\u0013��/�\u0012_ql<�������f��Zh7�-\u0007s�\u001e",
      "ܞ�\u0010P\u000ej� �\u0018 �>��\" (��\u0012��\u0018��y�`^�\u001e",
      ",ɕʜ�(�2 �6w (�AU P\u0001h�!�R\u000b",
      "���J@W�וB`q��� �*���\u0001;u`e�~�\u0006�\u0015\u0004�ð\u0010AD\u0014�\u0010X��(F�\u0010L�0\tEy��I�gH)�|P���+�>�p{����������fl���}��=Ǫ��&�kyb�37���\u0004�.�W��+��5O��\u0014tt\n",
      "�����\u001b\u0002�u�R\u0010�Fn*@@9��\u0002�*A�\n",
      "\u0004* �B\u000b",
      "�kueP~Ň\u0013�R\u0007��A{�`�\u0016��\u0004�B\u0004\u0011�a6\f",
      "\u000b",
      "(� a)\u0002G#���\n",
      "}\u0016�@�a`vl��7=��/�kˡ5Ohyο0�\u000b",
      "��5O����T��������=����\u000b",
      "9\u001b�~��6÷�S��\u0017���/����{��g��\u000eo�q�&ߙ��3��C��o?|z�a��TSr�/\u0011��4%}s\u0018����/\u0018�\u001f��R5\u001d",
      "���� x[\u0001�3\u001f�\u0005\u0001\u0015��\f",
      "�� �\u0004�+��r(�,\u0017�A�\u001c",
      " ʴ�b\u0010,�\u0002�;�tyZ=�-̕͜�A�H\u000f�\u0015�+sr��R\u0010,\u0005��\u001d",
      "@�\u0016,\u0007�\n",
      "\b���\n",
      "�:�VӠ�:l�tZ;\u0007���f��`���t\u0019�{���.W�uxdhzz³��.ϭϏ/O���V`\f",
      "斦W{\f",
      "��\u0015���l��3�\u0007C��\u001e",
      "�W���q�������?�������o�y�m����G\u001bn��L���{�W\u001c",
      "�'�m�\u0007vhn׀\u0007�<ޫ<��,�;�/�,��}�\u0011�S��\u001d",
      "Ѐw蠪|�\\�-\u0007�e@��R\u0010\u0004K��(�j�s�C�W h�y��\u001d",
      "�\u001d",
      "y:-�\u000f Ey;�?*� P\u0002 �\u0017�o(ǵ\u000e*҃%\u0005������C�\u0005����5P\u0002\u0001�:�\u0002\u0004s�.�j\u000b",
      "\u0001�H\u000b",
      "��i�yZ�\u0016�\u0007��:�\u0004\u0004�>���\u000fM����=\u0007,�C��x\u000e��y@�\u0016� ��\u0002�.��B\u000fUi�*@�.\u0010إ��4A�\u000b",
      "D�@�\n",
      "\u0010(�A% X\n",
      " eZ�\n",
      "\u0004v�C���*��R\u000b",
      "V �N\u0010���\n",
      ":/�H��\u0004��<��$#��4;�d5��5u\u0019Z���\u0011{���6�m\u001e",
      "��\u001c",
      "v�PWg���hm1w��M�A{���k��:��=�v��M/�-��'<3c�K�\u0001���Ì�1|�S�+����~��'^@��_ps��T��m\u0013����/�}����7~\u001f�f�4{��ն�y������>r�����{\u000e��uG��|�^\u0010<^}��Y��\u0002��E�����\u0013O\u000e�\u001f�{dD��. �\u001e",
      "��\u00052P[�\u0003�\n",
      "��\u0014 Jr�C���i 0/\u001f�\n",
      "��\n",
      "rz�M\u0002\u0010,�r�\u001a(�j���`W\u0004��z�*��E�\u0002�A�\\�W\u0006h+�J@[\u000ejˠ�\n",
      ":&�z�\u001c",
      "�nG���2d�t�;���>���l����;�͝��!����`��hu�X]�#����\u0013�n���'\u0018$q�_]�i(�u[���>���}��G�_��l�,$��̋��\u000f�����\u0017������+/����Rp�=5��N��s������}\u0007���/޿��@q���G�;,�ݝ>P�\u001fC�dY��i�Sc�\u000fi\n",
      "Nh4��=\u0005�]\u0005�J��\u0002Ԗ�L9\u000f�-\u0005ˀ��<�\u0004\u0004K\u0001m>�C\u000f������ۑ�\u0010(��R(�\f",
      "�+\u0003�e��D\u0007��ڒ��*�y�\u000e(փez�\f",
      "Җ��bΚt�\n",
      "\u0010����Ё\u0015���zp\u0017��\u0002��\u001a8�\u000f�,E),�\\Z\n",
      "Y;\u0007{{F{{F\u0007�&�z���#9������ڬ�fS���e4Ym]������s�[[mfc��bft޻��\u000f�v\u000f���Q�#q���\u0002��ڹ�\u001e",
      "0�P���=���?�R<���\\rq�W�oW�?���O<��O|����}{��ңM�jj�<~�#Gv�{�����}w\u0016ޝ\u000f�?~b��@\u0019{3��Ǐ�ӭ#[��g��\u001f7���\u001d",
      "wi�� P\u0001A\u0015z�2����b\u001d",
      "T\u0004�\u0005:���P\u000b",
      "��`q�h`�\u001e",
      "��:|ŀ�\u0010\u0004� `�\u0001�\u000b",
      "���\u0015�`�\u001e",
      "*��R=P��-ׁ�:�\u0012\u0002* �\"ws!X^ U�u;sY\u0010\u0002*@m9����U:m�\u0006�8\u0004�p\\��Y�w��8gG\u0007f\u0007���{G\u0007\u001c",
      "#����\u001e",
      "Ww���s�juZ�\u0003Vk_N�]6GO��k���x�����j1\u000f\f",
      "9F}K��х�\u0016����Ғ/\u001c",
      " �\u001d",
      "nM���=�J+�i�U\u0013���<�m,��>�(_�F>A�\u001f�\u0019�\u0013\u001f��C��������i����3��\u0015ǎ�\u001f�_q�\u001d",
      "e��(�k��. ���Nc�d��d��3��_l\u001c",
      "�<�\u0004wNl�z\u001e",
      "� \u00075���P�\u000e,��*��*\u001d",
      "X\t\u0001�:�\u0004\u0002\u000b",
      "!�\u0010\u0002s��RP[�\u000b",
      "$`^1�h\u000b",
      "�yzH[�\u0003�s*\u0006�\"\u0010*�j�\u0001�\f",
      "\u0002*t`e��s��\\���\n",
      "�\u000e:&�����#����>W���6`1�������\u0016s��l�X\u001c",
      "6��64�?�i\u001d",
      "j7��>��e\u0019\u0018\u001c",
      "�\u0018\u001d",
      "�;{�ujlyq~uy~5\u0012$��;�_��d羒�;u\u0005w8\f",
      "�����x���G���\u0011�3��G��R����O��&��I��L�ܳ�s�%o�Wu74��@�\u00104�VUVn�����Z[7��,\u00120�\u0010\u001a��`�H\u0002!k$��t�%�`�%941\u000e<X\n",
      "\u0011�CeEFe�{�����<������������^��3��s��\u001f8�\\֗r�BJ�\u000b",
      "�\u0005 �\u000b",
      "{��ۛ��\u0016&�����L���o�R��s��� �C<�zJ\u0010�\u0011\u0007cG�tJ\u001d",
      "��C�A�!���Q�H�E��\u000e��gY\u0007�\u0016c>E!�>A��\u001b�Z���Z\u0004Y\u00049X�\u0010p\tr)t96(u(�\u0018���зP 4\u000b",
      "D�+�δٞ�k���ת�;�i��oV�f����֪�r�]�i�v:�\u0017+ۛ�����f��ӪW{�z\\��\u001a�����'����G\n",
      "ŭ�tpu:8�2�^�i\u0005�B�Z��\u0005�] �{������������<���W�~��[O<���~�������w>��7��\u001f���vO{���ǆ���eky��s\"��yG_\u0001pq���\u000b",
      "��]��ݚ����G���t����\u001b�/T_\u00044�D�\u0012\u001f#�b�\u0010\u001b\u0011�\u0010\u0017!\u001b!\u0013!\u001b!\u001bA\u0007j.F.�\u000eŮ\u001260�\t4\t4�f\u0010da��\u001f���NLH\f",
      "H\f",
      "��P�2�P�L4�cO�\u0017�\u001d",
      "�|�\u0002�$\f",
      "\u0014��\u0001Ӄ���a�5i5���~�5�4�Q}ܪ��;��v�R��l�+;Q�b�^�\u0015��ۛ�b�]�nԫ�j�]��\u0014���n?j�\n",
      "\u0010Ų\u0015����`l0f+����������\u0018;�:�ٔ���\u0018�\u0004{\u0018�X�(����ãw�oܚ<~k�ş��w��k������}go\u0014+/4w��Y���\u00139=���E���\u000b",
      "�X\u0001�",
      "�\u000fW�x,����Aa�\u0017k��\\\u0019�s���j�\u0003�e � �T}1v v5�']�WI�\u0018��LΠ�\"؀�@P��\u001c",
      "�\u0010\u001a��s�BL�l�\f",
      "�,H\f",
      "H,z��D�)v������Op@Q HȐ�\u0013\u001fLF�'�����\u001fM��d4�o7G��S\u001d",
      "֊��Nkg�^-�j������f�X�v�r!���\u001a��n��hvw��R�9�\u000e\u001a��ŋ�r�ՏFW�W�<����\u0018��n椑�A\u001e",
      " �֏��_�˫���ɧ�\u001d",
      ">qs��������_��k�/�|�\u000f�|.�6^H{�@���\f",
      "O�(\\1V�b��k ,}��\u0017�?ښ��p������.|}��/�W_\u0006t���p�\u0010\u0013\u0012K#\u000ec>�\u0001�\u0001F>�\u000eV\u0007X\u0018X\u0018:\u0018ڄ��\u0019s�@2\n",
      "��1�a�?\u0019\u001e",
      "��Ѡ?��gQ4�Z�ncҪ��R�RnU��j�U��,o�7/�\u000b",
      "[��V�\\lWJ�b�S���v�\u001e",
      "\u0017�\u001b����+�k�ޤ\\��J���^\\^�K�i�Xv�5ʲ\\ϸ�\u0012�η^���G���\u000f?y������\u001a\\�=��_\u001d",
      "|�w_}�_���w��9�vQ�$[��L�gW�Қ���\u0017m�\u0004����n�޾0�y���_\u0018����ʵ\u0017>Ȝ�\u0003���'Ą�D��p^\u0005�?�k�\u001c",
      "�\\��\u0003[��JA�H�H����TU�����D\u0012,\u0011� I�\u001e",
      "J���Up��\u0007�C���\"E\u0001�\u0002�g)\n",
      "��\u0001�f�#X��)�\u0002}ZkJ|\f",
      "\u001d",
      "��\u0014:\u001c",
      "Z:�\t�\u0018\t�1�1�t�\u001d",
      "�\u0017����hЉ�ە�?���%�<��?>�p~�s���������כּ暥/\u0019z�r\u0016\u0001r��\u001b7o~��ۿ{�\u000f�O��\u001e",
      "�[9�5{哗����/W6J�q\"i�g����fyv�XY��y��\u0015 V������s��ի�=����\u000f��\n",
      "�\u0018[�k��\t#\u001e",
      "#\u000e��RB\\H,��M\u0012J\u0002u�ډ^\u0005x\u0015��d��&%:E\u0006�\u0016�\u0006A֧\u001f��~w0kwǝf�Uﶚ�j�])��;��v�V�ʃNu0l��J�Vh�+�8\u001an]�<��G�����J�ؘ�{g\u001e",
      "|�K�\f",
      ";�89�Ș2�˖��<mZK z�\u001e",
      "�^�������}��\u000f���������������*��Cv\"�ݕ�����$���\n",
      "��{4hN��{ã�p/\u001e",
      "�z�Q�=hԣr�U�t\n",
      "�b���HT�\u0003A\u000e#>A.#\u001e",
      "�.��\\�B�g�*�,0��Žٰ?\u001d",
      "�{��t<����Qk\u0018Շ�ưQ\u001bTJ�j9*\u0015��r�Rlw\u001b�z):��\u000e��\u0010�N\\[��\u001e",
      "�\"�Eh�)��H�\u0014<��$�.S���L\u00192%yIbf HN&�\\{��\u0013/~��7��s����g?���~��� �֪ǒ�L�\"�7\u0016W��Ec%'�)��Hb D\u00102\u0004%\u0004:Bs��\u001aW\u0014P92��L���P�`�p\u001e",
      "(f�x\u001e",
      "#��>c.��rs83�M\u0003�D���\u0002���h�?\u001d",
      "\u001d",
      "MG\u0007��,\u001e",
      "L{�i�=l6����X����J�ۨ��J���kV��n���礟2ܤc'\u0013N�2\u0013����|\u0010,XVJ�I*C)Ҝ%u������M=eȄ�!0R�/����|�x�����W?����F�>ػ���\u0007 �r��ɴ���Ȧdv��X1��,�\"i��\u0011^\u0001h�|����\u000f���X����w����EB�\u0004\u001c",
      ":j���\u000e  \n",
      "�\u0005`��v�v���\n",
      "\u0010�1M\u0013��C(��@�j*��l3�=��;#�\u0011Oy4���ء��4`(��S�f��Hg�a�\u0003�����p2<�\u000e\u000e��t:8�f���ߚ4+�V�_�t:�a��ۭtk�A���T�����S\u000f���<�4a���B)C�\u001d",
      "�|�<]OP\u001e",
      "0�\u0010z�ˤ�`�\u0010>�I�\u0013waЙ�U���2����������_ ���b���0�����mث��bNX*�\t\u001b'\u0004[\u0004h�{���K\u001f���^��\u0018h�L, �jĢ�WEQ�\n",
      "�6\u0006\u0016#\u001e",
      "����\u0018�8�tbc�\u0010d\u001a�@� \n",
      "� �\u0011V�8\f",
      "�C \u0018�\u0010;�ڄ،�@3\u0011�!�0s8WO��\u0004\u0010��!���P��D>\u0018�G���A\u0016\u000f���E�a�ߎ;�~�ыZ��J��ۯ׺�Z�Q�6\u000b",
      "�V���XŒi��9\t\u0005Kp�K��\"��U�\u0015�CC�t=��\t)\u0003)\u0003\u0015\u0010�2\u0005@�Οۻq��}k����{GO�N-���J�G�$N�X&/�����������\u0006,e�@�Y�-���{����\u000e�\u0004�n 60I�\u0015�\u0010[�4%rb䪗�D�b���`P`H � 2MJE��\u0003f:�:ĎZ�9�\u0019\n",
      "(\n",
      "c}�\\ˉŜȧX�%��}��\u0001�Ϟ�����\u000e�� ��/i��G��r \u0014\u0019\u0004�\u0002�*_�4Kٯ\u0004\u001b\u0004�T\u0007�R�Vl�\\���ѹ�7%�\u0019�\u0005\t\u0004�W�b��@��S_�@�#%��y��\u001a� �ܟ�Q�y�����_=v�i �,��P��aN�׌��l�J�`�e�E��[AP\u0012(�ƩƐF�\u0018��\u0010�\u0018�\t�X\u0018��%ٜ�;��\u0014�J�R\u0019b���\n",
      "\u0015iA�Za�Vr�lp�\u0011�V��R\u0007\u0015�zP��q��!�U}-�'�˩\u000f&���`�`vm��hp�o�\u0006��^s�k\u000e��,\u001e",
      "���{Q������Nuج��;��v�R�ݼ���|��C�\u0006�&\u0004KP�\u0013�\t\u00160�\t�3�r\u001e",
      "0� ,`\"�F��CC\u0004\u001aN\u0002�mǯ�Z�_���v�{��\u001d",
      " ri}���\u0014I-[+�쓧̍%����9�OӴ�\u0013\u000e\tM�\u0002 ��K\u001f�z�\u0001�\n",
      "+.A\\J=B\\�\u001c",
      "Bl�eK�)§�@ݍ���\u0018U�;I��\u000fb���Ö��    IEND�B`� | Mike.Hillyer@sakilastaff.com |        1 |      1 | Mike     | 8cb2237d0679ca88db6464eac60da96345513964 | 2006-02-15 03:57:16 |��\u001c",
      "'\u0004\t)�\u0018N�\u0015�R\u0007 ��gDu�҃�C �f`$4��C\u001e",
      "�5:B:�\u0012#����&PP$�].�a�a�a�3\u0013aA���N��R��|�\u000e��g��\u0001\u0011��`D-�.8�=1����{��^4�v���A��\u0019����`2>\u0018�\u000e�����?\u001c",
      "\\i7���n�P߼�s��ι�.]8���#�WWN2�b�#j\u0013�*HQ�.AB�}F<J=D<J\u0012�x�\u0007��\u0001�4��TJ��{O�A�I��$ټ\\X5W������E������R��\\���o!WG���N|��a\u0018�C��U�\u0011;B$\u0014\u001ap�#jbl�a�H���\u0011�P\u0013��5B�\u001d",
      "و\u0012�ѹ�B���D큊r��\u0019�\u0015�S�V3S]\u000fF:��3{\u001e",
      "P�S��W��י\u000e�{��~��W�qpx-\u001e",
      "ΆÃQ|��L\u001b�^�֫UZ�K��\u000f�?���sg�>t��\u000f?����J\u0019 4w�\u0019�$M0��4ɱψOI\u0002�\u0004�\u001e",
      "\".\u0013)�%O�Z.=a8��|1 �4M��+\u001b�چ��\"W��Ҳ��\u0013�\f",
      "˺(���#G ��\u001e",
      "��q�Owb%�)7\u0004�\u0004\u0007j�!dB(���\u0004R�t�8F\u0002C�8d3���?���r����{\u0007�9�0�7������S��ǣ%�M��Dp5�\u0011�A?��\u0006���\u0012�z�q7\u001a��q�\u0019\n",
      "+----------+------------+-----------+------------+-------------------------------------------------------------------------------------------------------------------------------------------------------------------------------------------------------------------------------------------------------------------------------------------------------------------------------------------------------------------------------------------------------------------------------------------------------------------------------------------------------------------------------------------------------------------------------------------------------------------------------------------------------------------------------------------------------------------------------------------------------------------------------------------------------------------------------------------------------------------------------------------------------------------------------------------------------------------------------------------------------------------------------------------------------------------------------------------------------------------------------------------------------------------------------------------------------------------------------------------------------------------------------------------------------------------------------------------------------------------------------------------------------------------------------------------------------------------------------------------------------------------------------------------------------------------------------------------------------------------------------------------------------------------------------------------------------------------------------------------------------------------------------------------------------------------------------------------------------------------------------------------------------------------------------------------------------------------------------------------------------------------------------------------------------------------------------------------------------------------------------------------------------------------------------------------------------------------------------------------------------------------------------------------------------------------------------------------------------------------------------------------------------------------------------------------------------------------------------------------------------------------------------------------------------------------------------------------------------------------------------------------------------------------------------------------------------------------------------------------------------------------------------------------------------------------------------------------------------------------------------------------------------------------------------------------------------------------------------------------------------------------------------------------------------------------------------------------------------------------------------------------------------------------------------------------------------------------------------------------------------------------------------------------------------------------------------------------------------------------------------------------------------------------------------------------------------------------------------------------------------------------------------------------------------------------------------------------------------------------------------------------------------------------------------------------------------------------------------------------------------------------------------------------------------------------------------------------------------------------------------------------------------------------------------------------------------------------------------------------------------------------------------------------------------------------------------------------------------------------------------------------------------------------------------------------------------------------------------------------------------------------------------------------------------------------------------------------------------------------------------------------------------------------------------------------------------------------------------------------------------------------------------------------------------------------------------------------------------------------------------------------------------------------------------------------------------------------------------------------------------------------------------------------------------------------------------------------------------------------------------------------------------------------------------------------------------------------------------------------------------------------------------------------------------------------------------------------------------------------------------------------------------------------------------------------------------------------------------------------------------------------------------------------------------------------------------------------------------------------------------------------------------------------------------------------------------------------------------------------------------------------------------------------------------------------------------------------------------------------------------------------------------------------------------------------------------------------------------------------------------------------------------------------------------------------------------------------------------------------------------------------------------------------------------------------------------------------------------------------------------------------------------------------------------------------------------------------------------------------------------------------------------------------------------------------------------------------------------------------------------------------------------------------------------------------------------------------------------------------------------------------------------------------------------------------------------------------------------------------------------------------------------------------------------------------------------------------------------------------------------------------------------------------------------------------------------------------------------------------------------------------------------------------------------------------------------------------------------------------------------------------------------------------------------------------------------------------------------------------------------------------------------------------------------------------------------------------------------------------------------------------------------------------------------------------------------------------------------------------------------------------------------------------------------------------------------------------------------------------------------------------------------------------------------------------------------------------------------------------------------------------------------------------------------------------------------------------------------------------------------------------------------------------------------------------------------------------------------------------------------------------------------------------------------------------------------------------------------------------------------------------------------------------------------------------------------------------------------------------------------------------------------------------------------------------------------------------------------------------------------------------------------------------------------------------------------------------------------------------------------------------------------------------------------------------------------------------------------------------------------------------------------------------------------------------------------------------------------------------------------------------------------------------------------------------------------------------------------------------------------------------------------------------------------------------------------------------------------------------------------------------------------------------------------------------------------------------------------------------------------------------------------------------------------------------------------------------------------------------------------------------------------------------------------------------------------------------------------------------------------------------------------------------------------------------------------------------------------------------------------------------------------------------------------------------------------------------------------------------------------------------------------------------------------------------------------------------------------------------------------------------------------------------------------------------------------------------------------------------------------------------------------------------------------------------------------------------------------------------------------------------------------------------------------------------------------------------------------------------------------------------------------------------------------------------------------------------------------------------------------------------------------------------------------------------------------------------------------------------------------------------------------------------------------------------------------------------------------------------------------------------------------------------------------------------------------------------------------------------------------------------------------------------------------------------------------------------------------------------------------------------------------------------------------------------------------------------------------------------------------------------------------------------------------------------------------------------------------------------------------------------------------------------------------------------------------------------------------------------------------------------------------------------------------------------------------------------------------------------------------------------------------------------------------------------------------------------------------------------------------------------------------------------------------------------------------------------------------------------------------------------------------------------------------------------------------------------------------------------------------------------------------------------------------------------------------------------------------------------------------------------------------------------------------------------------------------------------------------------------------------------------------------------------------------------------------------------------------------------------------------------------------------------------------------------------------------------------------------------------------------------------------------------------------------------------------------------------------------------------------------------------------------------------------------------------------------------------------------------------------------------------------------------------------------------------------------------------------------------------------------------------------------------------------------------------------------------------------------------------------------------------------------------------------------------------------------------------------------------------------------------------------------------------------------------------------------------------------------------------------------------------------------------------------------------------------------------------------------------------------------------------------------------------------------------------------------------------------------------------------------------------------------------------------------------------------------------------------------------------------------------------------------------------------------------------------------------------------------------------------------------------------------------------------------------------------------------------------------------------------------------------------------------------------------------------------------------------------------------------------------------------------------------------------------------------------------------------------------------------------------------------------------------------------------------------------------------------------------------------------------------------------------------------------------------------------------------------------------------------------------------------------------------------------------------------------------------------------------------------------------------------------------------------------------------------------------------------------------------------------------------------------------------------------------------------------------------------------------------------------------------------------------------------------------------------------------------------------------------------------------------------------------------------------------------------------------------------------------------------------------------------------------------------------------------------------------------------------------------------------------------------------------------------------------------------------------------------------------------------------------------------------------------------------------------------------------------------------------------------------------------------------------------------------------------------------------------------------------------------------------------------------------------------------------------------------------------------------------------------------------------------------------------------------------------------------------------------------------------------------------------------------------------------------------------------------------------------------------------------------------------------------------------------------------------------------------------------------------------------------------------------------------------------------------------------------------------------------------------------------------------------------------------------------------------------------------------------------------------------------------------------------------------------------------------------------------------------------------------------------------------------------------------------------------------------------------------------------------------------------------------------------------------------------------------------------------------------------------------------------------------------------------------------------------------------------------------------------------------------------------------------------------------------------------------------------------------------------------------------------------------------------------------------------------------------------------------------------------------------------------------------------------------------------------------------------------------------------------------------------------------------------------------------------------------------------------------------------------------------------------------------------------------------------------------------------------------------------------------------------------------------------------------------------------------------------------------------------------------------------------------------------------------------------------------------------------------------------------------------------------------------------------------------------------------------------------------------------------------------------------------------------------------------------------------------------------------------------------------------------------------------------------------------------------------------------------------------------------------------------------------------------------------------------------------------------------------------------------------------------------------------------------------------------------------------------------------------------------------------------------------------------------------------------------------------------------------------------------------------------------------------------------------------------------------------------------------------------------------------------------------------------------------------------------------------------------------------------------------------------------------------------------------------------------------------------------------------------------------------------------------------------------------------------------------------------------------------------------------------------------------------------------------------------------------------------------------------------------------------------------------------------------------------------------------------------------------------------------------------------------------------------------------------------------------------------------------------------------------------------------------------------------------------------------------------------------------------------------------------------------------------------------------------------------------------------------------------------------------------------------------------------------------------------------------------------------------------------------------------------------------------------------------------------------------------------------------------------------------------------------------------------------------------------------------------------------------------------------------------------------------------------------------------------------------------------------------------------------------------------------------------------------------------------------------------------------------------------------------------------------------------------------------------------------------------------------------------------------------------------------------------------------------------------------------------------------------------------------------------------------------------------------------------------------------------------------------------------------------------------------------------------------------------------------------------------------------------------------------------------------------------------------------------------------------------------------------------------------------------------------------------------------------------------------------------------------------------------------------------------------------------------------------------------------------------------------------------------------------------------------------------------------------------------------------------------------------------------------------------------------------------------------------------------------------------------------------------------------------------------------------------------------------------------------------------------------------------------------------------------------------------------------------------------------------------------------------------------------------------------------------------------------------------------------------------------------------------------------------------------------------------------------------------------------------------------------------------------------------------------------------------------------------------------------------------------------------------------------------------------------------------------------------------------------------------------------------------------------------------------------------------------------------------------------------------------------------------------------------------------------------------------------------------------------------------------------------------------------------------------------------------------------------------------------------------------------------------------------------------------------------------------------------------------------------------------------------------------------------------------------------------------------------------------------------------------------------------------------------------------------------------------------------------------------------------------------------------------------------------------------------------------------------------------------------------------------------------------------------------------------------------------------------------------------------------------------------------------------------------------------------------------------------------------------------------------------------------------------------------------------------------------------------------------------------------------------------------------------------------------------------------------------------------------------------------------------------------------------------------------------------------------------------------------------------------------------------------------------------------------------------------------------------------------------------------------------------------------------------------------------------------------------------------------------------------------------------------------------------------------------------------------------------------------------------------------------------------------------------------------------------------------------------------------------------------------------------------------------------------------------------------------------------------------------------------------------------------------------------------------------------------------------------------------------------------------------------------------------------------------------------------------------------------------------------------------------------------------------------------------------------------------------------------------------------------------------------------------------------------------------------------------------------------------------------------------------------------------------------------------------------------------------------------------------------------------------------------------------------------------------------------------------------------------------------------------------------------------------------------------------------------------------------------------------------------------------------------------------------------------------------------------------------------------------------------------------------------------------------------------------------------------------------------------------------------------------------------------------------------------------------------------------------------------------------------------------------------------------------------------------------------------------------------------------------------------------------------------------------------------------------------------------------------------------------------------------------------------------------------------------------------------------------------------------------------------------------------------------------------------------------------------------------------------------------------------------------------------------------------------------------------------------------------------------------------------------------------------------------------------------------------------------------------------------------------------------------------------------------------------------------------------------------------------------------------------------------------------------------------------------------------------------------------------------------------------------------------------------------------------------------------------------------------------------------------------------------------------------------------------------------------------------------------------------------------------------------------------------------------------------------------------------------------------------------------------------------------------------------------------------------------------------------------------------------------------------------------------------------------------------------------------------------------------------------------------------------------------------------------------------------------------------------------------------------------------------------------------------------------------------------------------------------------------------------------------------------------------------------------------------------------------------------------------------------------------------------------------------------------------------------------------------------------------------------------------------------------------------------------------------------------------------------------------------------------------------------------------------------------------------------------------------------------------------------------------------------------------------------------------------------------------------------------------------------------------------------------------------------------------------------------------------------------------------------------------------------------------------------------------------------------------------------------------------------------------------------------------------------------------------------------------------------------------------------------------------------------------------------------------------------------------------------------------------------------------------------------------------------------------------------------------------------------------------------------------------------------------------------------------------------------------------------------------------------------------------------------------------------------------------------------------------------------------------------------------------------------------------------------------------------------------------------------------------------------------------------------------------------------------------------------------------------------------------------------------------------------------------------------------------------------------------------------------------------------------------------------------------------------------------------------------------------------------------------------------------------------------------------------------------------------------------------------------------------------------------------------------------------------------------------------------------------------------------------------------------------------------------------------------------------------------------------------------------------------------------------------------------------------------------------------------------------------------------------------------------------------------------------------------------------------------------------------------------------------------------------------------------------------------------------------------------------------------------------------------------------------------------------------------------------------------------------------------------------------------------------------------------------------------------------------------------------------------------------------------------------------------------------------------------------------------------------------------------------------------------------------------------------------------------------------------------------------------------------------------------------------------------------------------------------------------------------------------------------------------------------------------------------------------------------------------------------------------------------------------------------------------------------------------------------------------------------------------------------------------------------------------------------------------------------------------------------------------------------------------------------------------------------------------------------------------------------------------------------------------------------------------------------------------------------------------------------------------------------------------------------------------------------------------------------------------------------------------------------------------------------------------------------------------------------------------------------------------------------------------------------------------------------------------------------------------------------------------------------------------------------------------------------------------------------------------------------------------------------------------------------------------------------------------------------------------------------------------------------------------------------------------------------------------------------------------------------------------------------------------------------------------------------------------------------------------------------------------------------------------------------------------------------------------------------------------------------------------------------------------------------------------------------------------------------------------------------------------------------------------------------------------------------------------------------------------------------------------------------------------------------------------------------------------------------------------------------------------------------------------------------------------------------------------------------------------------------------------------------------------------------------------------------------------------------------------------------------------------------------------------------------------------------------------------------------------------------------------------------------------------------------------------------------------------------------------------------------------------------------------------------------------------------------------------------------------------------------------------------------------------------------------------------------------------------------------------------------------------------------------------------------------------------------------------------------------------------------------------------------------------------------------------------------------------------------------------------------------------------------------------------------------------------------------------------------------------------------------------------------------------------------------------------------------------------------------------------------------------------------------------------------------------------------------------------------------------------------------------------------------------------------------------------------------------------------------------------------------------------------------------------------------------------------------------------------------------------------------------------------------------------------------------------------------------------------------------------------------------------------------------------------------------------------------------------------------------------------------------------------------------------------------------------------------------------------------------------------------------------------------------------------------------------------------------------------------------------------------------------------------------------------------------------------------------------------------------------------------------------------------------------------------------------------------------------------------------------------------------------------------------------------------------------------------------------------------------------------------------------------------------------------------------------------------------------------------------------------------------------------------------------------------------------------------------------------------------------------------------------------------------------------------------------------------------------------------------------------------------------------------------------------------------------------------------------------------------------------------------------------------------------------------------------------------------------------------------------------------------------------------------------------------------------------------------------------------------------------------------------------------------------------------------------------------------------------------------------------------------------------------------------------------------------------------------------------------------------------------------------------------------------------------------------------------------------------------------------------------------------------------------------------------------------------------------------------------------------------------------------------------------------------------------------------------------------------------------------------------------------------------------------------------------------------------------------------------------------------------------------------------------------------------------------------------------------------------------------------------------------------------------------------------------------------------------------------------------------------------------------------------------------------------------------------------------------------------------------------------------------------------------------------------------------------------------------------------------------------------------------------------------------------------------------------------------------------------------------------------------------------------------------------------------------------------------------------------------------------------------------------------------------------------------------------------------------------------------------------------------------------------------------------------------------------------------------------------------------------------------------------------------------------------------------------------------------------------------------------------------------------------------------------------------------------------------------------------------------------------------------------------------------------------------------------------------------------------------------------------------------------------------------------------------------------------------------------------------------------------------------------------------------------------------------------------------------------------------------------------------------------------------------------------------------------------------------------------------------------------------------------------------------------------------------------------------------------------------------------------------------------------------------------------------------------------+------------------------------+----------+--------+----------+------------------------------------------+---------------------+\n"
     ]
    }
   ],
   "source": [
    "!mysql sakila -e \"select * from staff limit 1\""
   ]
  },
  {
   "cell_type": "code",
   "execution_count": 48,
   "metadata": {},
   "outputs": [
    {
     "name": "stdout",
     "output_type": "stream",
     "text": [
      "+----+--------------+----------------------+----------+-------------+------------+-----------+-----+\n",
      "| ID | name         | address              | zip code | phone       | city       | country   | SID |\n",
      "+----+--------------+----------------------+----------+-------------+------------+-----------+-----+\n",
      "|  1 | Mike Hillyer | 23 Workhaven Lane    |          | 14033335568 | Lethbridge | Canada    |   1 |\n",
      "|  2 | Jon Stephens | 1411 Lillydale Drive |          | 6172235589  | Woodridge  | Australia |   2 |\n",
      "+----+--------------+----------------------+----------+-------------+------------+-----------+-----+\n"
     ]
    }
   ],
   "source": [
    "!mysql sakila -e \"select * from staff_list limit 3\""
   ]
  },
  {
   "cell_type": "code",
   "execution_count": 49,
   "metadata": {},
   "outputs": [
    {
     "name": "stdout",
     "output_type": "stream",
     "text": [
      "+----------+------------------+------------+---------------------+\n",
      "| store_id | manager_staff_id | address_id | last_update         |\n",
      "+----------+------------------+------------+---------------------+\n",
      "|        1 |                1 |          1 | 2006-02-15 04:57:12 |\n",
      "|        2 |                2 |          2 | 2006-02-15 04:57:12 |\n",
      "+----------+------------------+------------+---------------------+\n"
     ]
    }
   ],
   "source": [
    "!mysql sakila -e \"select * from store limit 3\""
   ]
  },
  {
   "cell_type": "code",
   "execution_count": 50,
   "metadata": {},
   "outputs": [
    {
     "name": "stdout",
     "output_type": "stream",
     "text": [
      "+----------+------------+-----------+---------------------+\n",
      "| actor_id | first_name | last_name | last_update         |\n",
      "+----------+------------+-----------+---------------------+\n",
      "|       47 | JULIA      | BARRYMORE | 2006-02-15 04:34:33 |\n",
      "|       14 | VIVIEN     | BERGEN    | 2006-02-15 04:34:33 |\n",
      "|       12 | KARL       | BERRY     | 2006-02-15 04:34:33 |\n",
      "|       25 | KEVIN      | BLOOM     | 2006-02-15 04:34:33 |\n",
      "|       37 | VAL        | BOLGER    | 2006-02-15 04:34:33 |\n",
      "|       39 | GOLDIE     | BRODY     | 2006-02-15 04:34:33 |\n",
      "|       40 | JOHNNY     | CAGE      | 2006-02-15 04:34:33 |\n",
      "|       11 | ZERO       | CAGE      | 2006-02-15 04:34:33 |\n",
      "|       16 | FRED       | COSTNER   | 2006-02-15 04:34:33 |\n",
      "|       26 | RIP        | CRAWFORD  | 2006-02-15 04:34:33 |\n",
      "|       49 | ANNE       | CRONYN    | 2006-02-15 04:34:33 |\n",
      "|       48 | FRANCES    | DAY-LEWIS | 2006-02-15 04:34:33 |\n",
      "|       35 | JUDY       | DEAN      | 2006-02-15 04:34:33 |\n",
      "|       41 | JODIE      | DEGENERES | 2006-02-15 04:34:33 |\n",
      "|       36 | BURT       | DUKAKIS   | 2006-02-15 04:34:33 |\n",
      "|       19 | BOB        | FAWCETT   | 2006-02-15 04:34:33 |\n",
      "|       10 | CHRISTIAN  | GABLE     | 2006-02-15 04:34:33 |\n",
      "|       46 | PARKER     | GOLDBERG  | 2006-02-15 04:34:33 |\n",
      "|       32 | TIM        | HACKMAN   | 2006-02-15 04:34:33 |\n",
      "|       28 | WOODY      | HOFFMAN   | 2006-02-15 04:34:33 |\n",
      "|       50 | NATALIE    | HOPKINS   | 2006-02-15 04:34:33 |\n",
      "|       43 | KIRK       | JOVOVICH  | 2006-02-15 04:34:33 |\n",
      "|       45 | REESE      | KILMER    | 2006-02-15 04:34:33 |\n",
      "|       23 | SANDRA     | KILMER    | 2006-02-15 04:34:33 |\n",
      "|       22 | ELVIS      | MARX      | 2006-02-15 04:34:33 |\n",
      "|       38 | TOM        | MCKELLEN  | 2006-02-15 04:34:33 |\n",
      "|       27 | JULIA      | MCQUEEN   | 2006-02-15 04:34:33 |\n",
      "|       42 | TOM        | MIRANDA   | 2006-02-15 04:34:33 |\n",
      "|       34 | AUDREY     | OLIVIER   | 2006-02-15 04:34:33 |\n",
      "|       15 | CUBA       | OLIVIER   | 2006-02-15 04:34:33 |\n",
      "|       21 | KIRSTEN    | PALTROW   | 2006-02-15 04:34:33 |\n",
      "|       33 | MILLA      | PECK      | 2006-02-15 04:34:33 |\n",
      "|       30 | SANDRA     | PECK      | 2006-02-15 04:34:33 |\n",
      "|       31 | SISSY      | SOBIESKI  | 2006-02-15 04:34:33 |\n",
      "|       44 | NICK       | STALLONE  | 2006-02-15 04:34:33 |\n",
      "|       24 | CAMERON    | STREEP    | 2006-02-15 04:34:33 |\n",
      "|       18 | DAN        | TORN      | 2006-02-15 04:34:33 |\n",
      "|       20 | LUCILLE    | TRACY     | 2006-02-15 04:34:33 |\n",
      "|       17 | HELEN      | VOIGHT    | 2006-02-15 04:34:33 |\n",
      "|       29 | ALEC       | WAYNE     | 2006-02-15 04:34:33 |\n",
      "|       13 | UMA        | WOOD      | 2006-02-15 04:34:33 |\n",
      "+----------+------------+-----------+---------------------+\n"
     ]
    }
   ],
   "source": [
    "#select actors from 10 to 50 by ID and order then by last name, first name\n",
    "\n",
    "!mysql sakila -e \"select * from actor where actor_id between 10 and 50 order by last_name, first_name\"\n"
   ]
  },
  {
   "cell_type": "code",
   "execution_count": 51,
   "metadata": {},
   "outputs": [
    {
     "name": "stdout",
     "output_type": "stream",
     "text": [
      "+----------+------------+-----------+\n",
      "| actor_id | first_name | last_name |\n",
      "+----------+------------+-----------+\n",
      "|       14 | VIVIEN     | BERGEN    |\n",
      "|       12 | KARL       | BERRY     |\n",
      "|       25 | KEVIN      | BLOOM     |\n",
      "|       11 | ZERO       | CAGE      |\n",
      "|       16 | FRED       | COSTNER   |\n",
      "|       26 | RIP        | CRAWFORD  |\n",
      "|       19 | BOB        | FAWCETT   |\n",
      "|       10 | CHRISTIAN  | GABLE     |\n",
      "|       28 | WOODY      | HOFFMAN   |\n",
      "|       23 | SANDRA     | KILMER    |\n",
      "|       22 | ELVIS      | MARX      |\n",
      "|       27 | JULIA      | MCQUEEN   |\n",
      "|       15 | CUBA       | OLIVIER   |\n",
      "|       21 | KIRSTEN    | PALTROW   |\n",
      "|       30 | SANDRA     | PECK      |\n",
      "|       24 | CAMERON    | STREEP    |\n",
      "|       18 | DAN        | TORN      |\n",
      "|       20 | LUCILLE    | TRACY     |\n",
      "|       17 | HELEN      | VOIGHT    |\n",
      "|       29 | ALEC       | WAYNE     |\n",
      "|       13 | UMA        | WOOD      |\n",
      "+----------+------------+-----------+\n"
     ]
    }
   ],
   "source": [
    "#select actors_info from 10 to 30 by ID and order then by last name, first name\n",
    "\n",
    "!mysql sakila -e \"select actor_id,first_name,last_name from actor_info where actor_id between 10 and 30 order by last_name, first_name\""
   ]
  },
  {
   "cell_type": "code",
   "execution_count": 52,
   "metadata": {},
   "outputs": [
    {
     "name": "stdout",
     "output_type": "stream",
     "text": [
      "+------------+--------------------------+----------+----------------------+---------+-------------+--------------+---------------------------+---------------------+\n",
      "| address_id | address                  | address2 | district             | city_id | postal_code | phone        | location                  | last_update         |\n",
      "+------------+--------------------------+----------+----------------------+---------+-------------+--------------+---------------------------+---------------------+\n",
      "|         56 | 939 Probolinggo Loop     |          | Galicia              |       1 | 4166        | 680428310138 |     \u0001\u0001                    | 2014-09-25 22:33:08 |\n",
      "|        105 | 733 Mandaluyong Place    |          | Asir                 |       2 | 77459       | 196568435814 |     \u0001\u0001   x#�\u000f�@E@y�ؓe72@     | 2014-09-25 22:32:59 |\n",
      "|        457 | 535 Ahmadnagar Manor     |          | Abu Dhabi            |       3 | 41136       | 985109775584 |     \u0001\u0001   ���)�.K@���.xw8@        | 2014-09-25 22:33:34 |\n",
      "|        491 | 1789 Saint-Denis Parkway |          | Coahuila de Zaragoza |       4 | 8268        | 936806643983 |     \u0001\u0001                    | 2014-09-25 22:32:01 |\n",
      "|        332 | 663 Baha Blanca Parkway  |          | Adana                |       5 | 33463       | 834418779292 |     \u0001\u0001   �r\u0018'\u0019�A@����6�B@        | 2014-09-25 22:33:22 |\n",
      "+------------+--------------------------+----------+----------------------+---------+-------------+--------------+---------------------------+---------------------+\n"
     ]
    }
   ],
   "source": [
    "#select first 5 addresses where address is not null and order by city_id\n",
    "\n",
    "!mysql sakila -e \"select * from address where address2 is not NULL order by city_id limit 5\""
   ]
  },
  {
   "cell_type": "code",
   "execution_count": 53,
   "metadata": {},
   "outputs": [
    {
     "name": "stdout",
     "output_type": "stream",
     "text": [
      "+------------+-----------+---------------------+\n",
      "| country_id | country   | last_update         |\n",
      "+------------+-----------+---------------------+\n",
      "|         51 | Kazakstan | 2006-02-15 04:44:00 |\n",
      "|         52 | Kenya     | 2006-02-15 04:44:00 |\n",
      "|         53 | Kuwait    | 2006-02-15 04:44:00 |\n",
      "+------------+-----------+---------------------+\n"
     ]
    }
   ],
   "source": [
    "#select all countries that start with K and order by country_id\n",
    "\n",
    "!mysql sakila -e \"select * from country where country like 'K%' order by country_id\""
   ]
  },
  {
   "cell_type": "code",
   "execution_count": 54,
   "metadata": {},
   "outputs": [
    {
     "name": "stdout",
     "output_type": "stream",
     "text": [
      "+-------------+----------+------------+-----------+------------------------------------+------------+--------+---------------------+---------------------+\n",
      "| customer_id | store_id | first_name | last_name | email                              | address_id | active | create_date         | last_update         |\n",
      "+-------------+----------+------------+-----------+------------------------------------+------------+--------+---------------------+---------------------+\n",
      "|         505 |        1 | RAFAEL     | ABNEY     | RAFAEL.ABNEY@sakilacustomer.org    |        510 |      1 | 2006-02-14 22:04:37 | 2006-02-15 04:57:20 |\n",
      "|         504 |        1 | NATHANIEL  | ADAM      | NATHANIEL.ADAM@sakilacustomer.org  |        509 |      1 | 2006-02-14 22:04:37 | 2006-02-15 04:57:20 |\n",
      "|          96 |        1 | DIANA      | ALEXANDER | DIANA.ALEXANDER@sakilacustomer.org |        100 |      1 | 2006-02-14 22:04:36 | 2006-02-15 04:57:20 |\n",
      "|         470 |        1 | GORDON     | ALLARD    | GORDON.ALLARD@sakilacustomer.org   |        475 |      1 | 2006-02-14 22:04:37 | 2006-02-15 04:57:20 |\n",
      "|         326 |        1 | JOSE       | ANDREW    | JOSE.ANDREW@sakilacustomer.org     |        331 |      1 | 2006-02-14 22:04:37 | 2006-02-15 04:57:20 |\n",
      "+-------------+----------+------------+-----------+------------------------------------+------------+--------+---------------------+---------------------+\n"
     ]
    }
   ],
   "source": [
    "#select first 5 customers with store_id 1 and sort by last name, first name\n",
    "\n",
    "!mysql sakila -e \"select * from customer where store_id = 1 order by last_name, first_name limit 5\""
   ]
  },
  {
   "cell_type": "code",
   "execution_count": 55,
   "metadata": {},
   "outputs": [
    {
     "name": "stdout",
     "output_type": "stream",
     "text": [
      "+-----+-------------------+------------------------+----------+--------------+----------------+---------------+--------+-----+\n",
      "| ID  | name              | address                | zip code | phone        | city           | country       | notes  | SID |\n",
      "+-----+-------------------+------------------------+----------+--------------+----------------+---------------+--------+-----+\n",
      "|  51 | ALICE STEWART     | 1135 Izumisano Parkway | 48150    | 171822533480 | Fontana        | United States | active |   1 |\n",
      "| 181 | ANA BRADLEY       | 682 Garden Grove Place | 67497    | 72136330362  | Memphis        | United States | active |   2 |\n",
      "|  63 | ASHLEY RICHARDSON | 1214 Hanoi Way         | 67055    | 491001136577 | Lincoln        | United States | active |   1 |\n",
      "|  14 | BETTY WHITE       | 770 Bydgoszcz Avenue   | 16266    | 517338314235 | Citrus Heights | United States | active |   2 |\n",
      "| 457 | BILL GAVIN        | 1485 Bratislava Place  | 83183    | 924663855568 | Rockford       | United States | active |   2 |\n",
      "+-----+-------------------+------------------------+----------+--------------+----------------+---------------+--------+-----+\n"
     ]
    }
   ],
   "source": [
    "#select first 5 customers within the U.S. and order by name\n",
    "\n",
    "!mysql sakila -e \"select * from customer_list where country = 'United States' order by name limit 5\""
   ]
  },
  {
   "cell_type": "code",
   "execution_count": 56,
   "metadata": {},
   "outputs": [
    {
     "name": "stdout",
     "output_type": "stream",
     "text": [
      "+---------+----------------+------------------------------------------------------------------------------------------------------+--------------+-------------+----------------------+-----------------+-------------+--------+------------------+--------+-----------------------------------------+---------------------+\n",
      "| film_id | title          | description                                                                                          | release_year | language_id | original_language_id | rental_duration | rental_rate | length | replacement_cost | rating | special_features                        | last_update         |\n",
      "+---------+----------------+------------------------------------------------------------------------------------------------------+--------------+-------------+----------------------+-----------------+-------------+--------+------------------+--------+-----------------------------------------+---------------------+\n",
      "|       2 | ACE GOLDFINGER | A Astounding Epistle of a Database Administrator And a Explorer who must Find a Car in Ancient China |         2006 |           1 |                 NULL |               3 |        4.99 |     48 |            12.99 | G      | Trailers,Deleted Scenes                 | 2006-02-15 05:03:42 |\n",
      "|     794 | SIDE ARK       | A Stunning Panorama of a Crocodile And a Womanizer who must Meet a Feminist in The Canadian Rockies  |         2006 |           1 |                 NULL |               5 |        0.99 |     52 |            28.99 | G      | Deleted Scenes,Behind the Scenes        | 2006-02-15 05:03:42 |\n",
      "|     542 | LUST LOCK      | A Fanciful Panorama of a Hunter And a Dentist who must Meet a Secret Agent in The Sahara Desert      |         2006 |           1 |                 NULL |               3 |        2.99 |     52 |            28.99 | G      | Trailers,Commentaries,Behind the Scenes | 2006-02-15 05:03:42 |\n",
      "|     292 | EXCITEMENT EVE | A Brilliant Documentary of a Monkey And a Car who must Conquer a Crocodile in A Shark Tank           |         2006 |           1 |                 NULL |               3 |        0.99 |     51 |            20.99 | G      | Commentaries                            | 2006-02-15 05:03:42 |\n",
      "|     811 | SMILE EARRING  | A Intrepid Drama of a Teacher And a Butler who must Build a Pastry Chef in Berlin                    |         2006 |           1 |                 NULL |               4 |        2.99 |     60 |            29.99 | G      | Commentaries,Behind the Scenes          | 2006-02-15 05:03:42 |\n",
      "+---------+----------------+------------------------------------------------------------------------------------------------------+--------------+-------------+----------------------+-----------------+-------------+--------+------------------+--------+-----------------------------------------+---------------------+\n"
     ]
    }
   ],
   "source": [
    "#select first 5 films that are less or equal to 60 and order by rating\n",
    "\n",
    "!mysql sakila -e \"select * from film where length <= 60 order by rating limit 5\""
   ]
  },
  {
   "cell_type": "code",
   "execution_count": 57,
   "metadata": {},
   "outputs": [
    {
     "name": "stdout",
     "output_type": "stream",
     "text": [
      "+----------+---------+---------------------+\n",
      "| actor_id | film_id | last_update         |\n",
      "+----------+---------+---------------------+\n",
      "|        1 |       1 | 2006-02-15 05:05:03 |\n",
      "|       10 |       1 | 2006-02-15 05:05:03 |\n",
      "|       20 |       1 | 2006-02-15 05:05:03 |\n",
      "|       30 |       1 | 2006-02-15 05:05:03 |\n",
      "|       40 |       1 | 2006-02-15 05:05:03 |\n",
      "|       53 |       1 | 2006-02-15 05:05:03 |\n",
      "|      108 |       1 | 2006-02-15 05:05:03 |\n",
      "|      162 |       1 | 2006-02-15 05:05:03 |\n",
      "|      188 |       1 | 2006-02-15 05:05:03 |\n",
      "|      198 |       1 | 2006-02-15 05:05:03 |\n",
      "|       19 |       2 | 2006-02-15 05:05:03 |\n",
      "|       85 |       2 | 2006-02-15 05:05:03 |\n",
      "|       90 |       2 | 2006-02-15 05:05:03 |\n",
      "|      160 |       2 | 2006-02-15 05:05:03 |\n",
      "|        2 |       3 | 2006-02-15 05:05:03 |\n",
      "|       19 |       3 | 2006-02-15 05:05:03 |\n",
      "|       24 |       3 | 2006-02-15 05:05:03 |\n",
      "|       64 |       3 | 2006-02-15 05:05:03 |\n",
      "|      123 |       3 | 2006-02-15 05:05:03 |\n",
      "|       41 |       4 | 2006-02-15 05:05:03 |\n",
      "|       81 |       4 | 2006-02-15 05:05:03 |\n",
      "|       88 |       4 | 2006-02-15 05:05:03 |\n",
      "|      147 |       4 | 2006-02-15 05:05:03 |\n",
      "|      162 |       4 | 2006-02-15 05:05:03 |\n",
      "|       51 |       5 | 2006-02-15 05:05:03 |\n",
      "|       59 |       5 | 2006-02-15 05:05:03 |\n",
      "|      103 |       5 | 2006-02-15 05:05:03 |\n",
      "|      181 |       5 | 2006-02-15 05:05:03 |\n",
      "|      200 |       5 | 2006-02-15 05:05:03 |\n",
      "+----------+---------+---------------------+\n"
     ]
    }
   ],
   "source": [
    "#select all actors within the first 5 films and order by film id\n",
    "\n",
    "!mysql sakila -e \"select * from film_actor where film_id <= 5 order by film_id\""
   ]
  },
  {
   "cell_type": "code",
   "execution_count": 58,
   "metadata": {},
   "outputs": [
    {
     "name": "stdout",
     "output_type": "stream",
     "text": [
      "+---------+-------------+---------------------+\n",
      "| film_id | category_id | last_update         |\n",
      "+---------+-------------+---------------------+\n",
      "|      18 |           2 | 2006-02-15 05:07:09 |\n",
      "|      23 |           2 | 2006-02-15 05:07:09 |\n",
      "|      36 |           2 | 2006-02-15 05:07:09 |\n",
      "|      70 |           2 | 2006-02-15 05:07:09 |\n",
      "|      78 |           2 | 2006-02-15 05:07:09 |\n",
      "+---------+-------------+---------------------+\n"
     ]
    }
   ],
   "source": [
    "#select first 5 films within category 2 and order by film id\n",
    "\n",
    "!mysql sakila -e \"select * from film_category where category_id = 2 order by film_id limit 5\""
   ]
  },
  {
   "cell_type": "code",
   "execution_count": 59,
   "metadata": {},
   "outputs": [
    {
     "name": "stdout",
     "output_type": "stream",
     "text": [
      "+------+-----------------+-----------------------------------------------------------------------------------------------+----------+-------+--------+--------+----------------------------------------------------------------------------------------------------------------------+\n",
      "| FID  | title           | description                                                                                   | category | price | length | rating | actors                                                                                                               |\n",
      "+------+-----------------+-----------------------------------------------------------------------------------------------+----------+-------+--------+--------+----------------------------------------------------------------------------------------------------------------------+\n",
      "|   19 | AMADEUS HOLY    | A Emotional Display of a Pioneer And a Technical Writer who must Battle a Man in A Baloon     | Action   |  0.99 |    113 | PG     | JOHNNY LOLLOBRIGIDA, JULIA MCQUEEN, VAL BOLGER, KIRK JOVOVICH, JAMES PITT, PENELOPE CRONYN                           |\n",
      "|   38 | ARK RIDGEMONT   | A Beautiful Yarn of a Pioneer And a Monkey who must Pursue a Explorer in The Sahara Desert    | Action   |  0.99 |     68 | NC-17  | PARKER GOLDBERG, NICK DEGENERES, AUDREY BAILEY                                                                       |\n",
      "|   97 | BRIDE INTRIGUE  | A Epic Tale of a Robot And a Monkey who must Vanquish a Man in New Orleans                    | Action   |  0.99 |     56 | G      | ANGELA HUDSON                                                                                                        |\n",
      "|  105 | BULL SHAWSHANK  | A Fanciful Drama of a Moose And a Squirrel who must Conquer a Pioneer in The Canadian Rockies | Action   |  0.99 |    125 | NC-17  | NICK WAHLBERG, SANDRA KILMER, ALEC WAYNE, KIRK JOVOVICH, DAN STREEP, JULIANNE DENCH, ANGELA WITHERSPOON, JAYNE NOLTE |\n",
      "|  111 | CADDYSHACK JEDI | A Awe-Inspiring Epistle of a Woman And a Madman who must Fight a Robot in Soviet Georgia      | Action   |  0.99 |     52 | NC-17  | ED CHASE, ELVIS MARX, TOM MCKELLEN, NATALIE HOPKINS, KENNETH PALTROW, MERYL GIBSON, ROCK DUKAKIS                     |\n",
      "+------+-----------------+-----------------------------------------------------------------------------------------------+----------+-------+--------+--------+----------------------------------------------------------------------------------------------------------------------+\n"
     ]
    }
   ],
   "source": [
    "#select first 5 films less then 2 dollars and order by category\n",
    "\n",
    "!mysql sakila -e \"select * from film_list where price <= 2 order by category limit 5\""
   ]
  },
  {
   "cell_type": "code",
   "execution_count": 60,
   "metadata": {},
   "outputs": [
    {
     "name": "stdout",
     "output_type": "stream",
     "text": [
      "+---------+----------------------+----------------------------------------------------------------------------+\n",
      "| film_id | title                | description                                                                |\n",
      "+---------+----------------------+----------------------------------------------------------------------------+\n",
      "|     225 | DESTINATION JERK     | A Beautiful Yarn of a Teacher And a Cat who must Build a Car in A U-Boat   |\n",
      "|     891 | TIMBERLAND SKY       | A Boring Display of a Man And a Dog who must Redeem a Girl in A U-Boat     |\n",
      "|     950 | VOLUME HOUSE         | A Boring Tale of a Dog And a Woman who must Meet a Dentist in California   |\n",
      "|     196 | CRUELTY UNFORGIVEN   | A Brilliant Tale of a Car And a Moose who must Battle a Dentist in Nigeria |\n",
      "|     417 | HILLS NEIGHBORS      | A Epic Display of a Hunter And a Feminist who must Sink a Car in A U-Boat  |\n",
      "|     384 | GROSSE WONDERFUL     | A Epic Drama of a Cat And a Explorer who must Redeem a Moose in Australia  |\n",
      "|     694 | PREJUDICE OLEANDER   | A Epic Saga of a Boy And a Dentist who must Outrace a Madman in A U-Boat   |\n",
      "|     684 | PIZZA JUMANJI        | A Epic Saga of a Cat And a Squirrel who must Outgun a Robot in A U-Boat    |\n",
      "|     227 | DETAILS PACKER       | A Epic Saga of a Waitress And a Composer who must Face a Boat in A U-Boat  |\n",
      "|     160 | CLUB GRAFFITI        | A Epic Tale of a Pioneer And a Hunter who must Escape a Girl in A U-Boat   |\n",
      "|      97 | BRIDE INTRIGUE       | A Epic Tale of a Robot And a Monkey who must Vanquish a Man in New Orleans |\n",
      "|     913 | TROOPERS METAL       | A Fanciful Drama of a Monkey And a Feminist who must Sink a Man in Berlin  |\n",
      "|     671 | PERDITION FARGO      | A Fast-Paced Story of a Car And a Cat who must Outgun a Hunter in Berlin   |\n",
      "|     430 | HOOK CHARIOTS        | A Insightful Story of a Boy And a Dog who must Redeem a Boy in Australia   |\n",
      "|     265 | DYING MAKER          | A Intrepid Tale of a Boat And a Monkey who must Kill a Cat in California   |\n",
      "|     557 | MANCHURIAN CURTAIN   | A Stunning Tale of a Mad Cow And a Boy who must Battle a Boy in Berlin     |\n",
      "|     833 | SPLENDOR PATTON      | A Taut Story of a Dog And a Explorer who must Find a Astronaut in Berlin   |\n",
      "|     672 | PERFECT GROOVE       | A Thrilling Yarn of a Dog And a Dog who must Build a Husband in A Baloon   |\n",
      "|     389 | GUNFIGHTER MUSSOLINI | A Touching Saga of a Robot And a Boy who must Kill a Man in Ancient Japan  |\n",
      "+---------+----------------------+----------------------------------------------------------------------------+\n"
     ]
    }
   ],
   "source": [
    "#select all films where description is less than 75 char and order by description\n",
    "\n",
    "!mysql sakila -e \"select * from film_text where char_length(description)< 75 order by description \""
   ]
  },
  {
   "cell_type": "code",
   "execution_count": 61,
   "metadata": {},
   "outputs": [
    {
     "name": "stdout",
     "output_type": "stream",
     "text": [
      "+--------------+---------+----------+---------------------+\n",
      "| inventory_id | film_id | store_id | last_update         |\n",
      "+--------------+---------+----------+---------------------+\n",
      "|            5 |       1 |        2 | 2006-02-15 05:09:17 |\n",
      "|            6 |       1 |        2 | 2006-02-15 05:09:17 |\n",
      "|            7 |       1 |        2 | 2006-02-15 05:09:17 |\n",
      "|            8 |       1 |        2 | 2006-02-15 05:09:17 |\n",
      "|            9 |       2 |        2 | 2006-02-15 05:09:17 |\n",
      "+--------------+---------+----------+---------------------+\n"
     ]
    }
   ],
   "source": [
    "#select first 5 inventory from store 2 char and order by film id\n",
    "\n",
    "!mysql sakila -e \"select * from inventory where store_id = 2 order by film_id limit 5\""
   ]
  },
  {
   "cell_type": "code",
   "execution_count": 62,
   "metadata": {},
   "outputs": [
    {
     "name": "stdout",
     "output_type": "stream",
     "text": [
      "+-------------+----------+---------------------+\n",
      "| language_id | name     | last_update         |\n",
      "+-------------+----------+---------------------+\n",
      "|           1 | English  | 2006-02-15 05:02:19 |\n",
      "|           5 | French   | 2006-02-15 05:02:19 |\n",
      "|           6 | German   | 2006-02-15 05:02:19 |\n",
      "|           3 | Japanese | 2006-02-15 05:02:19 |\n",
      "+-------------+----------+---------------------+\n"
     ]
    }
   ],
   "source": [
    "#select all languages that contain the letter e and order by name\n",
    "\n",
    "!mysql sakila -e \"select * from language where name like '%e%' order by name\""
   ]
  },
  {
   "cell_type": "code",
   "execution_count": 63,
   "metadata": {},
   "outputs": [
    {
     "name": "stdout",
     "output_type": "stream",
     "text": [
      "+------+--------------------+--------------------------------------------------------------------------+-----------+-------+--------+--------+---------------------------------------------------------------------------------------------------------------------------------------------------------+\n",
      "| FID  | title              | description                                                              | category  | price | length | rating | actors                                                                                                                                                  |\n",
      "+------+--------------------+--------------------------------------------------------------------------+-----------+-------+--------+--------+---------------------------------------------------------------------------------------------------------------------------------------------------------+\n",
      "|  430 | HOOK CHARIOTS      | A Insightful Story of a Boy And a Dog who must Redeem a Boy in Australia | Animation |  0.99 |     49 | G      | Elvis Marx, Mae Hoffman, Gene Willis, Gina Degeneres                                                                                                    |\n",
      "|  891 | TIMBERLAND SKY     | A Boring Display of a Man And a Dog who must Redeem a Girl in A U-Boat   | Classics  |  0.99 |     69 | G      | Gary Phoenix, Jude Cruise, Ben Harris, Christopher West                                                                                                 |\n",
      "|  265 | DYING MAKER        | A Intrepid Tale of a Boat And a Monkey who must Kill a Cat in California | Comedy    |  4.99 |    168 | PG     | Groucho Sinatra, Michael Bolger                                                                                                                         |\n",
      "|  557 | MANCHURIAN CURTAIN | A Stunning Tale of a Mad Cow And a Boy who must Battle a Boy in Berlin   | Family    |  2.99 |    177 | PG     | Ray Johansson, Albert Nolte                                                                                                                             |\n",
      "|  950 | VOLUME HOUSE       | A Boring Tale of a Dog And a Woman who must Meet a Dentist in California | Classics  |  4.99 |    132 | PG     | Audrey Olivier, Gary Penn, Kenneth Torn, Chris Depp, Reese West                                                                                         |\n",
      "|  160 | CLUB GRAFFITI      | A Epic Tale of a Pioneer And a Hunter who must Escape a Girl in A U-Boat | Animation |  0.99 |     65 | PG-13  | Tom Mckellen, Morgan Williams, Lisa Monroe, Debbie Akroyd                                                                                               |\n",
      "|  225 | DESTINATION JERK   | A Beautiful Yarn of a Teacher And a Cat who must Build a Car in A U-Boat | Drama     |  0.99 |     76 | PG-13  | Grace Mostel, Rip Crawford, Cameron Wray                                                                                                                |\n",
      "|  672 | PERFECT GROOVE     | A Thrilling Yarn of a Dog And a Dog who must Build a Husband in A Baloon | Comedy    |  2.99 |     82 | PG-13  | Karl Berry, Natalie Hopkins, Ben Willis, Jim Mostel, Jayne Nolte, Laurence Bullock                                                                      |\n",
      "|  694 | PREJUDICE OLEANDER | A Epic Saga of a Boy And a Dentist who must Outrace a Madman in A U-Boat | Classics  |  4.99 |     98 | PG-13  | Christian Gable, Milla Peck, Val Bolger, Dustin Tautou, Ray Johansson, Angela Hudson, Cary Mcconaughey, Sylvester Dern, Kenneth Hoffman, Michael Bolger |\n",
      "|  833 | SPLENDOR PATTON    | A Taut Story of a Dog And a Explorer who must Find a Astronaut in Berlin | Children  |  0.99 |    134 | R      | Uma Wood, Sandra Kilmer, Kirk Jovovich, Adam Grant, Ben Willis, Charlize Dench, Christopher West, Al Garland, Groucho Williams, Bela Walken             |\n",
      "|  671 | PERDITION FARGO    | A Fast-Paced Story of a Car And a Cat who must Outgun a Hunter in Berlin | Sports    |  4.99 |     99 | NC-17  | Joe Swank, Rip Winslet, Harrison Bale, Cate Mcqueen, Renee Ball                                                                                         |\n",
      "|  684 | PIZZA JUMANJI      | A Epic Saga of a Cat And a Squirrel who must Outgun a Robot in A U-Boat  | Games     |  2.99 |    173 | NC-17  | Daryl Crawford, Harvey Hope, Gene Mckellen, Humphrey Garland, Bela Walken                                                                               |\n",
      "+------+--------------------+--------------------------------------------------------------------------+-----------+-------+--------+--------+---------------------------------------------------------------------------------------------------------------------------------------------------------+\n"
     ]
    }
   ],
   "source": [
    "# select all nicer by slower films where the character length is less than 73 and order by rating\n",
    "\n",
    "!mysql sakila -e \"select * from nicer_but_slower_film_list where char_length(description)< 73 order by rating\""
   ]
  },
  {
   "cell_type": "code",
   "execution_count": 64,
   "metadata": {},
   "outputs": [
    {
     "name": "stdout",
     "output_type": "stream",
     "text": [
      "+------------+-------------+----------+-----------+--------+---------------------+---------------------+\n",
      "| payment_id | customer_id | staff_id | rental_id | amount | payment_date        | last_update         |\n",
      "+------------+-------------+----------+-----------+--------+---------------------+---------------------+\n",
      "|          2 |           1 |        1 |       573 |   0.99 | 2005-05-28 10:35:23 | 2006-02-15 22:12:30 |\n",
      "|          8 |           1 |        2 |      2363 |   0.99 | 2005-06-18 13:33:59 | 2006-02-15 22:12:30 |\n",
      "|          4 |           1 |        2 |      1422 |   0.99 | 2005-06-15 18:02:53 | 2006-02-15 22:12:30 |\n",
      "|         18 |           1 |        1 |      8074 |   0.99 | 2005-07-28 17:33:39 | 2006-02-15 22:12:30 |\n",
      "|         19 |           1 |        2 |      8116 |   0.99 | 2005-07-28 19:20:07 | 2006-02-15 22:12:30 |\n",
      "+------------+-------------+----------+-----------+--------+---------------------+---------------------+\n"
     ]
    }
   ],
   "source": [
    "#select first 5 payments where customer id is 1 and order by amount\n",
    "\n",
    "!mysql sakila -e \"select * from payment where customer_id =1 order by amount limit 5\""
   ]
  },
  {
   "cell_type": "code",
   "execution_count": 65,
   "metadata": {},
   "outputs": [
    {
     "name": "stdout",
     "output_type": "stream",
     "text": [
      "+-----------+---------------------+--------------+-------------+---------------------+----------+---------------------+\n",
      "| rental_id | rental_date         | inventory_id | customer_id | return_date         | staff_id | last_update         |\n",
      "+-----------+---------------------+--------------+-------------+---------------------+----------+---------------------+\n",
      "|        71 | 2005-05-25 10:26:39 |         2408 |         100 | 2005-05-28 04:59:39 |        1 | 2006-02-15 21:30:53 |\n",
      "|      1216 | 2005-06-15 03:23:48 |         3973 |         100 | 2005-06-18 03:35:48 |        1 | 2006-02-15 21:30:53 |\n",
      "|      1340 | 2005-06-15 12:24:15 |          251 |         100 | 2005-06-22 13:02:15 |        1 | 2006-02-15 21:30:53 |\n",
      "|      1427 | 2005-06-15 18:17:28 |           14 |         100 | 2005-06-16 15:47:28 |        1 | 2006-02-15 21:30:53 |\n",
      "|      3468 | 2005-06-21 22:43:45 |         2899 |         100 | 2005-06-30 01:49:45 |        1 | 2006-02-15 21:30:53 |\n",
      "|      3602 | 2005-07-06 05:23:10 |         2192 |         100 | 2005-07-15 03:22:10 |        2 | 2006-02-15 21:30:53 |\n",
      "|      3800 | 2005-07-06 15:01:27 |         4004 |         100 | 2005-07-15 11:12:27 |        2 | 2006-02-15 21:30:53 |\n",
      "|      4209 | 2005-07-07 11:35:08 |         2010 |         100 | 2005-07-10 10:58:08 |        1 | 2006-02-15 21:30:53 |\n",
      "|      4970 | 2005-07-08 23:54:29 |         2983 |         100 | 2005-07-16 22:47:29 |        1 | 2006-02-15 21:30:53 |\n",
      "|      4980 | 2005-07-09 00:26:59 |         2638 |         100 | 2005-07-14 19:42:59 |        1 | 2006-02-15 21:30:53 |\n",
      "|      5238 | 2005-07-09 13:11:14 |         3297 |         100 | 2005-07-10 07:27:14 |        2 | 2006-02-15 21:30:53 |\n",
      "|      5355 | 2005-07-09 18:07:17 |         2458 |         100 | 2005-07-16 20:33:17 |        2 | 2006-02-15 21:30:53 |\n",
      "|      6655 | 2005-07-12 11:08:32 |         3937 |         100 | 2005-07-15 15:17:32 |        1 | 2006-02-15 21:30:53 |\n",
      "|      7819 | 2005-07-28 08:27:14 |         3182 |         100 | 2005-08-02 12:34:14 |        2 | 2006-02-15 21:30:53 |\n",
      "|      7921 | 2005-07-28 12:02:46 |          116 |         100 | 2005-08-01 12:08:46 |        2 | 2006-02-15 21:30:53 |\n",
      "|      8203 | 2005-07-28 23:14:56 |         3878 |         100 | 2005-07-31 04:19:56 |        2 | 2006-02-15 21:30:53 |\n",
      "|      9048 | 2005-07-30 06:57:07 |         3929 |         100 | 2005-08-05 00:57:07 |        1 | 2006-02-15 21:30:53 |\n",
      "|      9271 | 2005-07-30 15:04:31 |         2660 |         100 | 2005-07-31 20:33:31 |        1 | 2006-02-15 21:30:53 |\n",
      "|     11143 | 2005-08-02 09:32:54 |         3382 |         100 | 2005-08-05 12:04:54 |        2 | 2006-02-15 21:30:53 |\n",
      "|     11346 | 2005-08-02 17:15:38 |          584 |         100 | 2005-08-04 13:31:38 |        2 | 2006-02-15 21:30:53 |\n",
      "|     12657 | 2005-08-18 19:02:16 |         3621 |         100 | 2005-08-21 14:59:16 |        1 | 2006-02-15 21:30:53 |\n",
      "|     15163 | 2005-08-22 14:43:13 |         3597 |         100 | 2005-08-26 14:26:13 |        1 | 2006-02-15 21:30:53 |\n",
      "|     15246 | 2005-08-22 17:50:49 |         3786 |         100 | 2005-08-30 22:21:49 |        1 | 2006-02-15 21:30:53 |\n",
      "|     15021 | 2006-02-14 15:16:03 |          418 |         100 | NULL                |        2 | 2006-02-15 21:30:53 |\n",
      "+-----------+---------------------+--------------+-------------+---------------------+----------+---------------------+\n"
     ]
    }
   ],
   "source": [
    "#select all rentals from customer 100 and order by rental date\n",
    "\n",
    "!mysql sakila -e \"select * from rental where customer_id = 100 order by rental_date\""
   ]
  },
  {
   "cell_type": "code",
   "execution_count": 66,
   "metadata": {},
   "outputs": [
    {
     "name": "stdout",
     "output_type": "stream",
     "text": [
      "+-------------+-------------+\n",
      "| category    | total_sales |\n",
      "+-------------+-------------+\n",
      "| Music       |     3417.72 |\n",
      "| Documentary |     4217.52 |\n",
      "| Family      |     4226.07 |\n",
      "| Games       |     4281.33 |\n",
      "| Comedy      |     4383.58 |\n",
      "| Drama       |     4587.39 |\n",
      "| Animation   |     4656.30 |\n",
      "+-------------+-------------+\n"
     ]
    }
   ],
   "source": [
    "#select all film category where category contain the letter m and order by total sales\n",
    "\n",
    "!mysql sakila -e \"select * from sales_by_film_category where category like '%m%' order by total_sales\""
   ]
  },
  {
   "cell_type": "code",
   "execution_count": 67,
   "metadata": {},
   "outputs": [
    {
     "name": "stdout",
     "output_type": "stream",
     "text": [
      "+---------------------+--------------+-------------+\n",
      "| store               | manager      | total_sales |\n",
      "+---------------------+--------------+-------------+\n",
      "| Woodridge,Australia | Jon Stephens |    33726.77 |\n",
      "+---------------------+--------------+-------------+\n"
     ]
    }
   ],
   "source": [
    "#select all store from Australia and order by total sales\n",
    "\n",
    "!mysql sakila -e \"select * from sales_by_store where store like '%Australia%' order by total_sales\""
   ]
  },
  {
   "cell_type": "code",
   "execution_count": 68,
   "metadata": {},
   "outputs": [
    {
     "name": "stdout",
     "output_type": "stream",
     "text": [
      "+------------+-----------+--------+------------+\n",
      "| first_name | last_name | active | address_id |\n",
      "+------------+-----------+--------+------------+\n",
      "| Mike       | Hillyer   |      1 |          3 |\n",
      "| Jon        | Stephens  |      1 |          4 |\n",
      "+------------+-----------+--------+------------+\n"
     ]
    }
   ],
   "source": [
    "#select first name, last name, active, and address id from active staff and order by address id\n",
    "\n",
    "!mysql sakila -e \"select first_name, last_name, active, address_id from staff where active = 1 order by address_id\""
   ]
  },
  {
   "cell_type": "code",
   "execution_count": 69,
   "metadata": {},
   "outputs": [
    {
     "name": "stdout",
     "output_type": "stream",
     "text": [
      "+----+--------------+-------------------+----------+-------------+------------+---------+-----+\n",
      "| ID | name         | address           | zip code | phone       | city       | country | SID |\n",
      "+----+--------------+-------------------+----------+-------------+------------+---------+-----+\n",
      "|  1 | Mike Hillyer | 23 Workhaven Lane |          | 14033335568 | Lethbridge | Canada  |   1 |\n",
      "+----+--------------+-------------------+----------+-------------+------------+---------+-----+\n"
     ]
    }
   ],
   "source": [
    "#select all staff from Canada and order by address\n",
    "\n",
    "!mysql sakila -e \"select * from staff_list where country = 'Canada' order by address\""
   ]
  },
  {
   "cell_type": "code",
   "execution_count": 70,
   "metadata": {},
   "outputs": [
    {
     "name": "stdout",
     "output_type": "stream",
     "text": [
      "+----------+------------------+------------+---------------------+\n",
      "| store_id | manager_staff_id | address_id | last_update         |\n",
      "+----------+------------------+------------+---------------------+\n",
      "|        1 |                1 |          1 | 2006-02-15 04:57:12 |\n",
      "+----------+------------------+------------+---------------------+\n"
     ]
    }
   ],
   "source": [
    "#select all stores with id 1 and order by address id\n",
    "\n",
    "!mysql sakila -e \"select * from store where store_id = 1 order by address_id\""
   ]
  },
  {
   "cell_type": "code",
   "execution_count": 71,
   "metadata": {},
   "outputs": [
    {
     "name": "stdout",
     "output_type": "stream",
     "text": [
      "+----------+------------+-----------+---------------------+\n",
      "| actor_id | first_name | last_name | last_update         |\n",
      "+----------+------------+-----------+---------------------+\n",
      "|      201 | Robert     | Smith     | 2020-09-09 18:29:26 |\n",
      "+----------+------------+-----------+---------------------+\n"
     ]
    }
   ],
   "source": [
    "#insert Robert Smith into Actor and display the new row\n",
    "\n",
    "!mysql sakila -e \"insert into actor(first_name, last_name) values ('Robert', 'Smith')\"\n",
    "!mysql sakila -e \"select * from actor where first_name = 'Robert'\""
   ]
  },
  {
   "cell_type": "code",
   "execution_count": 72,
   "metadata": {},
   "outputs": [
    {
     "name": "stdout",
     "output_type": "stream",
     "text": [
      "+------------+---------+---------------------+\n",
      "| country_id | country | last_update         |\n",
      "+------------+---------+---------------------+\n",
      "|        103 | U.S.    | 2020-09-09 18:30:08 |\n",
      "+------------+---------+---------------------+\n"
     ]
    }
   ],
   "source": [
    "#update 'United States' to 'U.S.' from country and display changes\n",
    "\n",
    "!mysql sakila -e \"update country set country = 'U.S.' where country = 'United States'\"\n",
    "!mysql sakila -e \"select * from country where country = 'U.S.'\""
   ]
  },
  {
   "cell_type": "code",
   "execution_count": 73,
   "metadata": {},
   "outputs": [
    {
     "name": "stdout",
     "output_type": "stream",
     "text": [
      "+---------+-----------------------+-----------------------------------------------------------------------------------------------------------------+\n",
      "| film_id | title                 | description                                                                                                     |\n",
      "+---------+-----------------------+-----------------------------------------------------------------------------------------------------------------+\n",
      "|     299 | FACTORY DRAGON        | A Action-Packed Saga of a Teacher And a Frisbee who must Escape a Lumberjack in The Sahara Desert               |\n",
      "|     300 | FALCON VOLUME         | A Fateful Saga of a Sumo Wrestler And a Hunter who must Redeem a A Shark in New Orleans                         |\n",
      "|     301 | FAMILY SWEET          | A Epic Documentary of a Teacher And a Boy who must Escape a Woman in Berlin                                     |\n",
      "|     302 | FANTASIA PARK         | A Thoughtful Documentary of a Mad Scientist And a A Shark who must Outrace a Feminist in Australia              |\n",
      "|     303 | FANTASY TROOPERS      | A Touching Saga of a Teacher And a Monkey who must Overcome a Secret Agent in A MySQL Convention                |\n",
      "|     304 | FARGO GANDHI          | A Thrilling Reflection of a Pastry Chef And a Crocodile who must Reach a Teacher in The Outback                 |\n",
      "|     305 | FATAL HAUNTED         | A Beautiful Drama of a Student And a Secret Agent who must Confront a Dentist in Ancient Japan                  |\n",
      "|     306 | FEATHERS METAL        | A Thoughtful Yarn of a Monkey And a Teacher who must Find a Dog in Australia                                    |\n",
      "|     307 | FELLOWSHIP AUTUMN     | A Lacklusture Reflection of a Dentist And a Hunter who must Meet a Teacher in A Baloon                          |\n",
      "|     308 | FERRIS MOTHER         | A Touching Display of a Frisbee And a Frisbee who must Kill a Girl in The Gulf of Mexico                        |\n",
      "|     309 | FEUD FROGMEN          | A Brilliant Reflection of a Database Administrator And a Mad Cow who must Chase a Woman in The Canadian Rockies |\n",
      "|     310 | FEVER EMPIRE          | A Insightful Panorama of a Cat And a Boat who must Defeat a Boat in The Gulf of Mexico                          |\n",
      "|     311 | FICTION CHRISTMAS     | A Emotional Yarn of a A Shark And a Student who must Battle a Robot in An Abandoned Mine Shaft                  |\n",
      "|     312 | FIDDLER LOST          | A Boring Tale of a Squirrel And a Dog who must Challenge a Madman in The Gulf of Mexico                         |\n",
      "|     313 | FIDELITY DEVIL        | A Awe-Inspiring Drama of a Technical Writer And a Composer who must Reach a Pastry Chef in A U-Boat             |\n",
      "|     314 | FIGHT JAWBREAKER      | A Intrepid Panorama of a Womanizer And a Girl who must Escape a Girl in A Manhattan Penthouse                   |\n",
      "|     315 | FINDING ANACONDA      | A Fateful Tale of a Database Administrator And a Girl who must Battle a Squirrel in New Orleans                 |\n",
      "|     316 | FIRE WOLVES           | A Intrepid Documentary of a Frisbee And a Dog who must Outrace a Lumberjack in Nigeria                          |\n",
      "|     317 | FIREBALL PHILADELPHIA | A Amazing Yarn of a Dentist And a A Shark who must Vanquish a Madman in An Abandoned Mine Shaft                 |\n",
      "|     318 | FIREHOUSE VIETNAM     | A Awe-Inspiring Character Study of a Boat And a Boy who must Kill a Pastry Chef in The Sahara Desert            |\n",
      "|     319 | FISH OPUS             | A Touching Display of a Feminist And a Girl who must Confront a Astronaut in Australia                          |\n",
      "|     320 | FLAMINGOS CONNECTICUT | A Fast-Paced Reflection of a Composer And a Composer who must Meet a Cat in The Sahara Desert                   |\n",
      "|     321 | FLASH WARS            | A Astounding Saga of a Moose And a Pastry Chef who must Chase a Student in The Gulf of Mexico                   |\n",
      "|     322 | FLATLINERS KILLER     | A Taut Display of a Secret Agent And a Waitress who must Sink a Robot in An Abandoned Mine Shaft                |\n",
      "|     323 | FLIGHT LIES           | A Stunning Character Study of a Crocodile And a Pioneer who must Pursue a Teacher in New Orleans                |\n",
      "|     324 | FLINTSTONES HAPPINESS | A Fateful Story of a Husband And a Moose who must Vanquish a Boy in California                                  |\n",
      "|     325 | FLOATS GARDEN         | A Action-Packed Epistle of a Robot And a Car who must Chase a Boat in Ancient Japan                             |\n",
      "|     326 | FLYING HOOK           | A Thrilling Display of a Mad Cow And a Dog who must Challenge a Frisbee in Nigeria                              |\n",
      "|     327 | FOOL MOCKINGBIRD      | A Lacklusture Tale of a Crocodile And a Composer who must Defeat a Madman in A U-Boat                           |\n",
      "|     328 | FOREVER CANDIDATE     | A Unbelieveable Panorama of a Technical Writer And a Man who must Pursue a Frisbee in A U-Boat                  |\n",
      "|     329 | FORREST SONS          | A Thrilling Documentary of a Forensic Psychologist And a Butler who must Defeat a Explorer in A Jet Boat        |\n",
      "|     330 | FORRESTER COMANCHEROS | A Fateful Tale of a Squirrel And a Forensic Psychologist who must Redeem a Man in Nigeria                       |\n",
      "|     331 | FORWARD TEMPLE        | A Astounding Display of a Forensic Psychologist And a Mad Scientist who must Challenge a Girl in New Orleans    |\n",
      "|     332 | FRANKENSTEIN STRANGER | A Insightful Character Study of a Feminist And a Pioneer who must Pursue a Pastry Chef in Nigeria               |\n",
      "|     333 | FREAKY POCUS          | A Fast-Paced Documentary of a Pastry Chef And a Crocodile who must Chase a Squirrel in The Gulf of Mexico       |\n",
      "|     334 | FREDDY STORM          | A Intrepid Saga of a Man And a Lumberjack who must Vanquish a Husband in The Outback                            |\n",
      "|     335 | FREEDOM CLEOPATRA     | A Emotional Reflection of a Dentist And a Mad Cow who must Face a Squirrel in A Baloon                          |\n",
      "|     336 | FRENCH HOLIDAY        | A Thrilling Epistle of a Dog And a Feminist who must Kill a Madman in Berlin                                    |\n",
      "|     337 | FRIDA SLIPPER         | A Fateful Story of a Lumberjack And a Car who must Escape a Boat in An Abandoned Mine Shaft                     |\n",
      "|     338 | FRISCO FORREST        | A Beautiful Documentary of a Woman And a Pioneer who must Pursue a Mad Scientist in A Shark Tank                |\n",
      "|     339 | FROGMEN BREAKING      | A Unbelieveable Yarn of a Mad Scientist And a Cat who must Chase a Lumberjack in Australia                      |\n",
      "|     340 | FRONTIER CABIN        | A Emotional Story of a Madman And a Waitress who must Battle a Teacher in An Abandoned Fun House                |\n",
      "|     341 | FROST HEAD            | A Amazing Reflection of a Lumberjack And a Cat who must Discover a Husband in A MySQL Convention                |\n",
      "|     342 | FUGITIVE MAGUIRE      | A Taut Epistle of a Feminist And a Sumo Wrestler who must Battle a Crocodile in Australia                       |\n",
      "|     343 | FULL FLATLINERS       | A Beautiful Documentary of a Astronaut And a Moose who must Pursue a Monkey in A Shark Tank                     |\n",
      "|     344 | FURY MURDER           | A Lacklusture Reflection of a Boat And a Forensic Psychologist who must Fight a Waitress in A Monastery         |\n",
      "+---------+-----------------------+-----------------------------------------------------------------------------------------------------------------+\n"
     ]
    }
   ],
   "source": [
    "#select all films that start with letter F\n",
    "\n",
    "!mysql sakila -e \"select * from film_text where title like 'F%'\""
   ]
  },
  {
   "cell_type": "code",
   "execution_count": 74,
   "metadata": {},
   "outputs": [],
   "source": [
    "#delete all films that start with the letter F \n",
    "\n",
    "!mysql sakila -e \"delete from film_text where title like 'F%'\"\n",
    "\n",
    "#select all films that start with the letter F -- should be none\n",
    "\n",
    "!mysql sakila -e \"select * from film_text where title like 'F%'\""
   ]
  },
  {
   "cell_type": "code",
   "execution_count": null,
   "metadata": {},
   "outputs": [],
   "source": []
  }
 ],
 "metadata": {
  "environment": {
   "name": "common-cpu.m55",
   "type": "gcloud",
   "uri": "gcr.io/deeplearning-platform-release/base-cpu:m55"
  },
  "kernelspec": {
   "display_name": "Python 3",
   "language": "python",
   "name": "python3"
  },
  "language_info": {
   "codemirror_mode": {
    "name": "ipython",
    "version": 3
   },
   "file_extension": ".py",
   "mimetype": "text/x-python",
   "name": "python",
   "nbconvert_exporter": "python",
   "pygments_lexer": "ipython3",
   "version": "3.7.8"
  }
 },
 "nbformat": 4,
 "nbformat_minor": 4
}
