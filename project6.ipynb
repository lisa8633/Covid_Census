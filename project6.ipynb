{
 "cells": [
  {
   "cell_type": "markdown",
   "metadata": {},
   "source": [
    "# Project 6: AirBnB data modelling with Neo4j"
   ]
  },
  {
   "cell_type": "markdown",
   "metadata": {},
   "source": [
    "## Data loading into Neo4j"
   ]
  },
  {
   "cell_type": "code",
   "execution_count": 1,
   "metadata": {},
   "outputs": [
    {
     "name": "stdout",
     "output_type": "stream",
     "text": [
      "env: CYPHER=/home/jupyter/neo4j-community-4.1.3/bin/cypher-shell\n",
      "env: USER=neo4j\n",
      "env: PW=neo4j\n"
     ]
    }
   ],
   "source": [
    "%env CYPHER=/home/jupyter/neo4j-community-4.1.3/bin/cypher-shell\n",
    "%env USER=neo4j\n",
    "%env PW=neo4j"
   ]
  },
  {
   "cell_type": "code",
   "execution_count": 2,
   "metadata": {},
   "outputs": [],
   "source": [
    "CONNECT=\"$CYPHER -u $USER -p $PW\""
   ]
  },
  {
   "cell_type": "code",
   "execution_count": 3,
   "metadata": {},
   "outputs": [
    {
     "name": "stdout",
     "output_type": "stream",
     "text": [
      "+------------------------------------------------------------------------------------------------+\n",
      "| name     | address          | role         | requestedStatus | currentStatus | error | default |\n",
      "+------------------------------------------------------------------------------------------------+\n",
      "| \"neo4j\"  | \"localhost:7687\" | \"standalone\" | \"online\"        | \"online\"      | \"\"    | TRUE    |\n",
      "| \"system\" | \"localhost:7687\" | \"standalone\" | \"online\"        | \"online\"      | \"\"    | FALSE   |\n",
      "+------------------------------------------------------------------------------------------------+\n",
      "\n",
      "2 rows available after 2 ms, consumed after another 2 ms\n"
     ]
    }
   ],
   "source": [
    "!{CONNECT} \"SHOW DATABASES\""
   ]
  },
  {
   "cell_type": "code",
   "execution_count": 4,
   "metadata": {},
   "outputs": [
    {
     "name": "stdout",
     "output_type": "stream",
     "text": [
      "0 rows available after 1223 ms, consumed after another 0 ms\n",
      "Deleted 129444 nodes, Deleted 220183 relationships\n",
      "+---+\n",
      "| n |\n",
      "+---+\n",
      "+---+\n",
      "\n",
      "0 rows available after 6 ms, consumed after another 3 ms\n"
     ]
    }
   ],
   "source": [
    "!{CONNECT} \"MATCH (n) DETACH DELETE n\"\n",
    "!{CONNECT} \"MATCH (n) RETURN n\""
   ]
  },
  {
   "cell_type": "code",
   "execution_count": 5,
   "metadata": {},
   "outputs": [
    {
     "name": "stdout",
     "output_type": "stream",
     "text": [
      "+-----------------------------------------------------------------------------------------------------------------------------------------------------------------------------------------------------------------------------------------------------+\n",
      "| name                  | description                                                                                   | details                                                                                                                     |\n",
      "+-----------------------------------------------------------------------------------------------------------------------------------------------------------------------------------------------------------------------------------------------------+\n",
      "| \"constraint_3988c775\" | \"CONSTRAINT ON ( amenity:Amenity ) ASSERT (amenity.name) IS UNIQUE\"                           | \"Constraint( id=5, name='constraint_3988c775', type='UNIQUENESS', schema=(:Amenity {name}), ownedIndex=8 )\"                 |\n",
      "| \"constraint_3e37701d\" | \"CONSTRAINT ON ( host:Host ) ASSERT (host.host_id) IS UNIQUE\"                                 | \"Constraint( id=4, name='constraint_3e37701d', type='UNIQUENESS', schema=(:Host {host_id}), ownedIndex=7 )\"                 |\n",
      "| \"constraint_c0af93de\" | \"CONSTRAINT ON ( user:User ) ASSERT (user.user_id) IS UNIQUE\"                                 | \"Constraint( id=2, name='constraint_c0af93de', type='UNIQUENESS', schema=(:User {user_id}), ownedIndex=9 )\"                 |\n",
      "| \"constraint_c2c3e4d2\" | \"CONSTRAINT ON ( neighborhood:Neighborhood ) ASSERT (neighborhood.neighborhood_id) IS UNIQUE\" | \"Constraint( id=1, name='constraint_c2c3e4d2', type='UNIQUENESS', schema=(:Neighborhood {neighborhood_id}), ownedIndex=6 )\" |\n",
      "+-----------------------------------------------------------------------------------------------------------------------------------------------------------------------------------------------------------------------------------------------------+\n",
      "\n",
      "4 rows available after 11 ms, consumed after another 1 ms\n"
     ]
    }
   ],
   "source": [
    "!{CONNECT} \"CALL db.constraints\""
   ]
  },
  {
   "cell_type": "code",
   "execution_count": 6,
   "metadata": {},
   "outputs": [
    {
     "name": "stdout",
     "output_type": "stream",
     "text": [
      "0 rows available after 2 ms, consumed after another 0 ms\n",
      "Removed 1 constraints\n",
      "0 rows available after 7 ms, consumed after another 0 ms\n",
      "Removed 1 constraints\n",
      "0 rows available after 5 ms, consumed after another 0 ms\n",
      "Removed 1 constraints\n",
      "0 rows available after 3 ms, consumed after another 0 ms\n",
      "Removed 1 constraints\n"
     ]
    }
   ],
   "source": [
    "!{CONNECT} \"DROP CONSTRAINT constraint_3988c775\"\n",
    "!{CONNECT} \"DROP CONSTRAINT constraint_3e37701d\"\n",
    "!{CONNECT} \"DROP CONSTRAINT constraint_c0af93de\"\n",
    "!{CONNECT} \"DROP CONSTRAINT constraint_c2c3e4d2\""
   ]
  },
  {
   "cell_type": "code",
   "execution_count": 7,
   "metadata": {},
   "outputs": [
    {
     "name": "stdout",
     "output_type": "stream",
     "text": [
      "+-------------------------------------------------------------------------------------------------------------------------------------------------+\n",
      "| id | name             | state    | populationPercent | uniqueness  | type    | entityType | labelsOrTypes | properties     | provider           |\n",
      "+-------------------------------------------------------------------------------------------------------------------------------------------------+\n",
      "| 3  | \"index_cc55e8e7\" | \"ONLINE\" | 100.0             | \"NONUNIQUE\" | \"BTREE\" | \"NODE\"     | [\"Listing\"]   | [\"listing_id\"] | \"native-btree-1.0\" |\n",
      "+-------------------------------------------------------------------------------------------------------------------------------------------------+\n",
      "\n",
      "1 row available after 14 ms, consumed after another 0 ms\n"
     ]
    }
   ],
   "source": [
    "!{CONNECT} \"CALL db.indexes\""
   ]
  },
  {
   "cell_type": "code",
   "execution_count": 8,
   "metadata": {},
   "outputs": [
    {
     "name": "stdout",
     "output_type": "stream",
     "text": [
      "0 rows available after 2 ms, consumed after another 0 ms\n",
      "Removed 1 indexes\n",
      "\u001b[31mUnable to drop index on (:Amenity {name}). There is no such index.\u001b[m\n",
      "\u001b[31mUnable to drop index on (:Host {host_id}). There is no such index.\u001b[m\n",
      "\u001b[31mUnable to drop index on (:User {user_id}). There is no such index.\u001b[m\n",
      "\u001b[31mUnable to drop index on (:Neighborrhood {neighborhood_id}). There is no such index.\u001b[m\n"
     ]
    }
   ],
   "source": [
    "!{CONNECT} \"DROP INDEX ON:Listing(listing_id)\"\n",
    "!{CONNECT} \"DROP INDEX ON:Amenity(name)\"\n",
    "!{CONNECT} \"DROP INDEX ON:Host(host_id)\"\n",
    "!{CONNECT} \"DROP INDEX ON:User(user_id)\"\n",
    "!{CONNECT} \"DROP INDEX ON:Neighborrhood(neighborhood_id)\""
   ]
  },
  {
   "cell_type": "code",
   "execution_count": 9,
   "metadata": {},
   "outputs": [
    {
     "name": "stdout",
     "output_type": "stream",
     "text": [
      "COUNT(l)\n",
      "5835\n",
      "COUNT(a)\n",
      "42\n",
      "COUNT(n)\n",
      "41\n",
      "COUNT(h)\n",
      "4633\n",
      "COUNT(u)\n",
      "55917\n",
      "COUNT(r)\n",
      "62976\n"
     ]
    }
   ],
   "source": [
    "#!{CONNECT} \"DROP INDEX ON:Listing(listing_id)\"\n",
    "!cat /home/jupyter/airbnb/load_data.cypher | {CONNECT} --format plain\n"
   ]
  },
  {
   "cell_type": "markdown",
   "metadata": {},
   "source": [
    "## Node label counts"
   ]
  },
  {
   "cell_type": "code",
   "execution_count": 10,
   "metadata": {},
   "outputs": [
    {
     "name": "stdout",
     "output_type": "stream",
     "text": [
      "+----------+\n",
      "| COUNT(n) |\n",
      "+----------+\n",
      "| 129444   |\n",
      "+----------+\n",
      "\n",
      "1 row available after 6 ms, consumed after another 0 ms\n"
     ]
    }
   ],
   "source": [
    "!{CONNECT} \"MATCH (n) RETURN COUNT(n)\""
   ]
  },
  {
   "cell_type": "code",
   "execution_count": 11,
   "metadata": {},
   "outputs": [
    {
     "name": "stdout",
     "output_type": "stream",
     "text": [
      "+----------+\n",
      "| COUNT(n) |\n",
      "+----------+\n",
      "| 41       |\n",
      "+----------+\n",
      "\n",
      "1 row available after 8 ms, consumed after another 1 ms\n"
     ]
    }
   ],
   "source": [
    "!{CONNECT} \"MATCH (n:Neighborhood) RETURN COUNT(n)\""
   ]
  },
  {
   "cell_type": "code",
   "execution_count": 12,
   "metadata": {},
   "outputs": [
    {
     "name": "stdout",
     "output_type": "stream",
     "text": [
      "+----------+\n",
      "| COUNT(l) |\n",
      "+----------+\n",
      "| 5835     |\n",
      "+----------+\n",
      "\n",
      "1 row available after 6 ms, consumed after another 0 ms\n"
     ]
    }
   ],
   "source": [
    "!{CONNECT} \"MATCH (l:Listing) RETURN COUNT(l)\""
   ]
  },
  {
   "cell_type": "code",
   "execution_count": 13,
   "metadata": {},
   "outputs": [
    {
     "name": "stdout",
     "output_type": "stream",
     "text": [
      "+----------+\n",
      "| COUNT(r) |\n",
      "+----------+\n",
      "| 62976    |\n",
      "+----------+\n",
      "\n",
      "1 row available after 1 ms, consumed after another 1 ms\n"
     ]
    }
   ],
   "source": [
    "!{CONNECT} \"MATCH (r:Review) RETURN COUNT(r)\""
   ]
  },
  {
   "cell_type": "code",
   "execution_count": 14,
   "metadata": {},
   "outputs": [
    {
     "name": "stdout",
     "output_type": "stream",
     "text": [
      "+----------+\n",
      "| COUNT(u) |\n",
      "+----------+\n",
      "| 55917    |\n",
      "+----------+\n",
      "\n",
      "1 row available after 1 ms, consumed after another 0 ms\n"
     ]
    }
   ],
   "source": [
    "!{CONNECT} \"MATCH (u:User) RETURN COUNT(u)\""
   ]
  },
  {
   "cell_type": "code",
   "execution_count": 15,
   "metadata": {},
   "outputs": [
    {
     "name": "stdout",
     "output_type": "stream",
     "text": [
      "+----------+\n",
      "| COUNT(h) |\n",
      "+----------+\n",
      "| 4633     |\n",
      "+----------+\n",
      "\n",
      "1 row available after 8 ms, consumed after another 0 ms\n"
     ]
    }
   ],
   "source": [
    "!{CONNECT} \"MATCH (h:Host) RETURN COUNT(h)\""
   ]
  },
  {
   "cell_type": "code",
   "execution_count": 16,
   "metadata": {},
   "outputs": [
    {
     "name": "stdout",
     "output_type": "stream",
     "text": [
      "+----------+\n",
      "| COUNT(a) |\n",
      "+----------+\n",
      "| 42       |\n",
      "+----------+\n",
      "\n",
      "1 row available after 6 ms, consumed after another 0 ms\n"
     ]
    }
   ],
   "source": [
    "!{CONNECT} \"MATCH (a:Amenity) RETURN COUNT(a)\""
   ]
  },
  {
   "cell_type": "code",
   "execution_count": 17,
   "metadata": {},
   "outputs": [
    {
     "name": "stdout",
     "output_type": "stream",
     "text": [
      "+----------+\n",
      "| COUNT(c) |\n",
      "+----------+\n",
      "| 0        |\n",
      "+----------+\n",
      "\n",
      "1 row available after 9 ms, consumed after another 0 ms\n"
     ]
    }
   ],
   "source": [
    "!{CONNECT} \"MATCH (c:City) RETURN COUNT(c)\""
   ]
  },
  {
   "cell_type": "code",
   "execution_count": 18,
   "metadata": {},
   "outputs": [
    {
     "name": "stdout",
     "output_type": "stream",
     "text": [
      "+-----------+\n",
      "| COUNT(is) |\n",
      "+-----------+\n",
      "| 0         |\n",
      "+-----------+\n",
      "\n",
      "1 row available after 8 ms, consumed after another 0 ms\n"
     ]
    }
   ],
   "source": [
    "!{CONNECT} \"MATCH (is:IN_STATE) RETURN COUNT(is)\""
   ]
  },
  {
   "cell_type": "code",
   "execution_count": 19,
   "metadata": {},
   "outputs": [
    {
     "name": "stdout",
     "output_type": "stream",
     "text": [
      "+----------+\n",
      "| COUNT(c) |\n",
      "+----------+\n",
      "| 0        |\n",
      "+----------+\n",
      "\n",
      "1 row available after 7 ms, consumed after another 0 ms\n"
     ]
    }
   ],
   "source": [
    "!{CONNECT} \"MATCH (c:Country) RETURN COUNT(c)\""
   ]
  },
  {
   "cell_type": "markdown",
   "metadata": {},
   "source": [
    "## Cypher Queries"
   ]
  },
  {
   "cell_type": "markdown",
   "metadata": {},
   "source": [
    "Q1. How many hosts are located in \"Austin, Texas, United States\"?"
   ]
  },
  {
   "cell_type": "code",
   "execution_count": 20,
   "metadata": {},
   "outputs": [
    {
     "name": "stdout",
     "output_type": "stream",
     "text": [
      "+----------+\n",
      "| COUNT(n) |\n",
      "+----------+\n",
      "| 3774     |\n",
      "+----------+\n",
      "\n",
      "1 row available after 11 ms, consumed after another 5 ms\n"
     ]
    }
   ],
   "source": [
    "!{CONNECT} \"MATCH (n:Host {{location: 'Austin, Texas, United States'}}) RETURN COUNT(n)\""
   ]
  },
  {
   "cell_type": "markdown",
   "metadata": {},
   "source": [
    "Q2. Which listings does host_id = \"4641823\" have? Return the listing name, property_type,\n",
    "price, and availability_365 sorted by price. Limit the results to 10."
   ]
  },
  {
   "cell_type": "code",
   "execution_count": 21,
   "metadata": {},
   "outputs": [
    {
     "name": "stdout",
     "output_type": "stream",
     "text": [
      "+----------------------------------------------------------------------------------------+\n",
      "| l.name                                | l.property_type | l.price | l.availability_365 |\n",
      "+----------------------------------------------------------------------------------------+\n",
      "| \"1BR Convenient Austin Condo \"        | \"Apartment\"     | 93.0    | 354                |\n",
      "| \"1BR Inviting Downtown Condo, Pool\"   | \"Apartment\"     | 99.0    | 335                |\n",
      "| \"2BR/1.5BA Charming House Off SoCo\"   | \"House\"         | 110.0   | 357                |\n",
      "| \"2BR Prime East-Side Downtown\"        | \"House\"         | 121.0   | 341                |\n",
      "| \"1BR SoCo Treehouse Studio\"           | \"House\"         | 129.0   | 327                |\n",
      "| \"1BR/1.5BA East 6th, Colorful 2Story\" | \"Apartment\"     | 134.0   | 344                |\n",
      "| \"3BR Prestigious Home Travis Heights\" | \"House\"         | 138.0   | 0                  |\n",
      "| \"1BR/1.5BA Perfectly Located Casita\"  | \"House\"         | 140.0   | 351                |\n",
      "| \"3BR/2BA Inviting Retreat off SoCo\"   | \"House\"         | 145.0   | 353                |\n",
      "| \"2BR/2BA Austin Soul Off Soco!\"       | \"House\"         | 149.0   | 334                |\n",
      "+----------------------------------------------------------------------------------------+\n",
      "\n",
      "10 rows available after 20 ms, consumed after another 2 ms\n"
     ]
    }
   ],
   "source": [
    "!{CONNECT} \"MATCH (h:Host {{host_id: '4641823'}})-[n:HOSTS]-(l:Listing) RETURN l.name, l.property_type, l.price, l.availability_365 ORDER BY l.price LIMIT 10\""
   ]
  },
  {
   "cell_type": "markdown",
   "metadata": {},
   "source": [
    "Q3. Which users wrote a review for listing_id = \"5293632\"? Return the user’s id and name\n",
    "sorted alphabetically by name. Limit the results to 10."
   ]
  },
  {
   "cell_type": "code",
   "execution_count": 22,
   "metadata": {},
   "outputs": [
    {
     "name": "stdout",
     "output_type": "stream",
     "text": [
      "+--------------------------------+\n",
      "| u.user_id  | u.name            |\n",
      "+--------------------------------+\n",
      "| \"18286390\" | \"Annie\"           |\n",
      "| \"30193020\" | \"Carole\"          |\n",
      "| \"16497582\" | \"Cory\"            |\n",
      "| \"35022795\" | \"Craig And Trina\" |\n",
      "| \"13281665\" | \"Dianne\"          |\n",
      "| \"29601600\" | \"Hannah\"          |\n",
      "| \"11940539\" | \"Jacob\"           |\n",
      "| \"3213433\"  | \"Jessie\"          |\n",
      "| \"41722221\" | \"Johannes\"        |\n",
      "| \"28480571\" | \"Ju-Ju\"           |\n",
      "+--------------------------------+\n",
      "\n",
      "10 rows available after 26 ms, consumed after another 1 ms\n"
     ]
    }
   ],
   "source": [
    "!{CONNECT} \"MATCH (l:Listing {{listing_id: '5293632'}})<-[:REVIEWS]-(r:Review)<-[:WROTE]-(u:User) RETURN u.user_id, u.name ORDER BY u.name LIMIT 10\""
   ]
  },
  {
   "cell_type": "markdown",
   "metadata": {},
   "source": [
    "Q4. Which users wrote a review for any listing which has the amenities \"Washer\" and \"Dryer\"?\n",
    "Return the user’s id and name sorted alphabetically by name. Limit the results to 10."
   ]
  },
  {
   "cell_type": "code",
   "execution_count": 23,
   "metadata": {},
   "outputs": [
    {
     "name": "stdout",
     "output_type": "stream",
     "text": [
      "+-------------------------------------+\n",
      "| u.user_id  | u.name                 |\n",
      "+-------------------------------------+\n",
      "| \"6524431\"  | \"'Ley\"                 |\n",
      "| \"8026901\"  | \"(We Are) Bonnie & Ky\" |\n",
      "| \"15315643\" | \"(email hidden)\"       |\n",
      "| \"5317970\"  | \"(email hidden)\"       |\n",
      "| \"7802424\"  | \"(email hidden)\"       |\n",
      "| \"5164376\"  | \"(email hidden)\"       |\n",
      "| \"10469354\" | \"(email hidden)\"       |\n",
      "| \"12694638\" | \"(email hidden)\"       |\n",
      "| \"7802424\"  | \"(email hidden)\"       |\n",
      "| \"12694638\" | \"(email hidden)\"       |\n",
      "+-------------------------------------+\n",
      "\n",
      "10 rows available after 90 ms, consumed after another 167 ms\n"
     ]
    }
   ],
   "source": [
    "!{CONNECT} \"MATCH (b:Amenity{{name:'Washer'}})-[:HAS]-(l:Listing)-[:HAS]-(a:Amenity{{name:'Dryer'}}) MATCH (l)<-[:REVIEWS]-(r:Review)<-[:WROTE]-(u:User) RETURN u.user_id, u.name ORDER BY u.name LIMIT 10\"\n"
   ]
  },
  {
   "cell_type": "markdown",
   "metadata": {},
   "source": [
    "Q5. Which listings have 3 bedrooms and are located in the Clarksville neighborhood? Return\n",
    "the listing name, property_type, price, and availability_365 sorted by price. Limit the results\n",
    "to 5."
   ]
  },
  {
   "cell_type": "code",
   "execution_count": 24,
   "metadata": {},
   "outputs": [
    {
     "name": "stdout",
     "output_type": "stream",
     "text": [
      "+----------------------------------------------------------------------------------------+\n",
      "| l.name                                | l.property_type | l.price | l.availability_365 |\n",
      "+----------------------------------------------------------------------------------------+\n",
      "| \"3BR/2.5BA Exquisite Townhouse\"       | \"House\"         | 222.0   | 358                |\n",
      "| \"3BR/2.5BA Tarrytown Duplex, Austin!\" | \"House\"         | 249.0   | 336                |\n",
      "| \"Austin downtown hideaway\"            | \"House\"         | 249.0   | 364                |\n",
      "| \"3BD Luxury Cottage by Lake Austin\"   | \"House\"         | 290.0   | 309                |\n",
      "| \"Entire Adorable Downtown House\"      | \"House\"         | 295.0   | 309                |\n",
      "+----------------------------------------------------------------------------------------+\n",
      "\n",
      "5 rows available after 27 ms, consumed after another 1 ms\n"
     ]
    }
   ],
   "source": [
    "!{CONNECT} \"MATCH (l:Listing {{bedrooms: 3}})-[:IN_NEIGHBORHOOD]->(n:Neighborhood{{name: 'Clarksville'}}) RETURN l.name, l.property_type, l.price, l.availability_365 ORDER BY l.price LIMIT 5\""
   ]
  },
  {
   "cell_type": "markdown",
   "metadata": {},
   "source": [
    "Q6. Which amenities are the most common? Return the name of the amenity and its frequency.\n",
    "Sort the results by count in descending order. Limit the results to 5."
   ]
  },
  {
   "cell_type": "code",
   "execution_count": 25,
   "metadata": {},
   "outputs": [
    {
     "name": "stdout",
     "output_type": "stream",
     "text": [
      "+----------------------------------------+\n",
      "| a.name                     | frequency |\n",
      "+----------------------------------------+\n",
      "| \"Air Conditioning\"         | 5615      |\n",
      "| \"Wireless Internet\"        | 5479      |\n",
      "| \"Heating\"                  | 5440      |\n",
      "| \"Kitchen\"                  | 5400      |\n",
      "| \"Free Parking on Premises\" | 5123      |\n",
      "+----------------------------------------+\n",
      "\n",
      "5 rows available after 14 ms, consumed after another 206 ms\n"
     ]
    }
   ],
   "source": [
    "!{CONNECT} \"MATCH (l:Listing)-[:HAS]->(a:Amenity) RETURN a.name, count(a) as frequency ORDER BY frequency DESC LIMIT 5\" "
   ]
  },
  {
   "cell_type": "markdown",
   "metadata": {},
   "source": [
    "Q7. Which neighborhoods have the highest number of listings? Return the neighborhood’s\n",
    "name and zip code (neighborhood_id) and number of listings they have sorted by number\n",
    "of listings in descending order. Limit the results to 5."
   ]
  },
  {
   "cell_type": "code",
   "execution_count": 26,
   "metadata": {},
   "outputs": [
    {
     "name": "stdout",
     "output_type": "stream",
     "text": [
      "+----------------------------------------------------+\n",
      "| n.name           | n.neighborhood_id | numListings |\n",
      "+----------------------------------------------------+\n",
      "| NULL             | \"78704\"           | 1601        |\n",
      "| NULL             | \"78702\"           | 797         |\n",
      "| \"Clarksville\"    | \"78703\"           | 419         |\n",
      "| \"East Riverside\" | \"78741\"           | 414         |\n",
      "| NULL             | \"78745\"           | 328         |\n",
      "+----------------------------------------------------+\n",
      "\n",
      "5 rows available after 15 ms, consumed after another 29 ms\n"
     ]
    }
   ],
   "source": [
    "!{CONNECT} \"MATCH (l:Listing)-[:IN_NEIGHBORHOOD]->(n:Neighborhood) RETURN n.name, n.neighborhood_id, count(l) as numListings ORDER BY numListings DESC LIMIT 5\" "
   ]
  }
 ],
 "metadata": {
  "environment": {
   "name": "common-cpu.m55",
   "type": "gcloud",
   "uri": "gcr.io/deeplearning-platform-release/base-cpu:m55"
  },
  "kernelspec": {
   "display_name": "Python 3",
   "language": "python",
   "name": "python3"
  },
  "language_info": {
   "codemirror_mode": {
    "name": "ipython",
    "version": 3
   },
   "file_extension": ".py",
   "mimetype": "text/x-python",
   "name": "python",
   "nbconvert_exporter": "python",
   "pygments_lexer": "ipython3",
   "version": "3.7.8"
  }
 },
 "nbformat": 4,
 "nbformat_minor": 4
}
